{
  "cells": [
    {
      "cell_type": "markdown",
      "metadata": {
        "id": "view-in-github",
        "colab_type": "text"
      },
      "source": [
        "<a href=\"https://colab.research.google.com/github/Mitchell-Odili/Commercial-Air-Travel-Analysis/blob/main/Air_Travel_Analysis.ipynb\" target=\"_parent\"><img src=\"https://colab.research.google.com/assets/colab-badge.svg\" alt=\"Open In Colab\"/></a>"
      ]
    },
    {
      "cell_type": "code",
      "execution_count": null,
      "id": "36c1dc38",
      "metadata": {
        "id": "36c1dc38"
      },
      "outputs": [],
      "source": [
        "# Jovian Commit Essentials\n",
        "# Please retain and execute this cell without modifying the contents for `jovian.commit` to work\n",
        "!pip install jovian --upgrade -q\n",
        "import jovian\n",
        "jovian.set_project('commercial-air-travel-analysis')\n",
        "jovian.set_colab_id('14gOyETjatKcAT29BD-FdoAQFeGJ8yrG-')"
      ]
    },
    {
      "cell_type": "markdown",
      "id": "554fb944",
      "metadata": {
        "id": "554fb944"
      },
      "source": [
        "# Commercial Air Travel Analysis\n",
        "\n",
        "![](https://news.mit.edu/sites/default/files/styles/news_article__image_gallery/public/images/202001/MIT-Air-Safety-01_1.jpg?itok=bebs5Tqr)\n",
        "In this Jupyter notebook, we'll analyze the Commercial Air Travel dataset on flights from San Francisco International airport to various destinations from 2005 to 2008. This dataset was obtained from UC Berkeley, Department of Statistics and D-Lab; Data presented by Chris Paciorek. The dataset contains relevant characteristics/ features of US airlines from 2005 to 2008. You can find the raw data & official analysis here: https://github.com/berkeley-scf/r-bootcamp-2016/tree/master/data.\n",
        "\n",
        "There are several options for getting the dataset into Jupyter:\n",
        "\n",
        "- Download the CSV manually and upload it via Jupyter's GUI\n",
        "- Use the urlretrieve function from the urllib.request to download CSV files from a raw URL\n",
        "- Use a helper library, e.g., opendatasets, which contains a collection of curated datasets and provides a helper function for direct download.\n",
        "\n",
        "We'll use the opendatasets helper library to download the files."
      ]
    },
    {
      "cell_type": "markdown",
      "id": "a1c8180d",
      "metadata": {
        "id": "a1c8180d"
      },
      "source": [
        "## Package Install and Import\n",
        "First we will install and import the necessary packages"
      ]
    },
    {
      "cell_type": "code",
      "execution_count": null,
      "id": "85fd7a5c",
      "metadata": {
        "id": "85fd7a5c"
      },
      "outputs": [],
      "source": [
        "!pip install opendatasets --upgrade --q"
      ]
    },
    {
      "cell_type": "code",
      "execution_count": null,
      "id": "a9435c18",
      "metadata": {
        "id": "a9435c18"
      },
      "outputs": [],
      "source": [
        "import opendatasets as od"
      ]
    },
    {
      "cell_type": "code",
      "execution_count": null,
      "id": "6324014c",
      "metadata": {
        "id": "6324014c"
      },
      "outputs": [],
      "source": [
        "dataset_url = ['https://www.kaggle.com/mitchellodili/airlinecsv']"
      ]
    },
    {
      "cell_type": "code",
      "execution_count": null,
      "id": "a4da3fc0",
      "metadata": {
        "id": "a4da3fc0",
        "outputId": "ae0931c7-f825-4730-c362-3dc1ef292080"
      },
      "outputs": [
        {
          "name": "stdout",
          "output_type": "stream",
          "text": [
            "Skipping, found downloaded files in \".\\airlinecsv\" (use force=True to force download)\n"
          ]
        }
      ],
      "source": [
        "od.download('https://www.kaggle.com/mitchellodili/airlinecsv')"
      ]
    },
    {
      "cell_type": "code",
      "execution_count": null,
      "id": "4e6db827",
      "metadata": {
        "id": "4e6db827"
      },
      "outputs": [],
      "source": [
        "dataset_url = ['https://www.kaggle.com/mitchellodili/carrierscsv']"
      ]
    },
    {
      "cell_type": "code",
      "execution_count": null,
      "id": "8e57392e",
      "metadata": {
        "id": "8e57392e",
        "outputId": "54f8436e-78d9-4408-bcde-2f13ac626500"
      },
      "outputs": [
        {
          "name": "stdout",
          "output_type": "stream",
          "text": [
            "Skipping, found downloaded files in \".\\carrierscsv\" (use force=True to force download)\n"
          ]
        }
      ],
      "source": [
        "od.download('https://www.kaggle.com/mitchellodili/carrierscsv')"
      ]
    },
    {
      "cell_type": "markdown",
      "id": "684e1659",
      "metadata": {
        "id": "684e1659"
      },
      "source": [
        "## Verify \n",
        "Let's verify that the dataset was uploaded into the directory and retrieve the list of files in the dataset."
      ]
    },
    {
      "cell_type": "code",
      "execution_count": null,
      "id": "7c5e32c0",
      "metadata": {
        "id": "7c5e32c0",
        "outputId": "f36d416d-8ce2-4128-e96d-352bd723ddc6"
      },
      "outputs": [
        {
          "data": {
            "text/plain": [
              "['.ipynb_checkpoints',\n",
              " '.jovianrc',\n",
              " 'airlinecsv',\n",
              " 'Air_Travel_Analysis.ipynb',\n",
              " 'carrierscsv']"
            ]
          },
          "execution_count": 7,
          "metadata": {},
          "output_type": "execute_result"
        }
      ],
      "source": [
        "import os\n",
        "os.listdir()"
      ]
    },
    {
      "cell_type": "code",
      "execution_count": null,
      "id": "c3e54d2e",
      "metadata": {
        "id": "c3e54d2e"
      },
      "outputs": [],
      "source": [
        "!pip install jovian --upgrade --q"
      ]
    },
    {
      "cell_type": "code",
      "execution_count": null,
      "id": "56966b3d",
      "metadata": {
        "id": "56966b3d"
      },
      "outputs": [],
      "source": [
        "import jovian"
      ]
    },
    {
      "cell_type": "code",
      "execution_count": null,
      "id": "abcf1cab",
      "metadata": {
        "colab": {
          "base_uri": "https://localhost:8080/"
        },
        "id": "abcf1cab",
        "outputId": "fdc41d3d-bbb5-42d5-cd69-3b7dc02d4c51"
      },
      "outputs": [
        {
          "name": "stdout",
          "output_type": "stream",
          "text": [
            "[jovian] Detected Colab notebook...\u001b[0m\n",
            "[jovian] Please enter your API key ( from https://jovian.ai/ ):\u001b[0m\n",
            "API KEY: "
          ]
        }
      ],
      "source": [
        "# Execute this to save new versions of the notebook\n",
        "jovian.commit(project=\"commercial-air-travel-analysis\")"
      ]
    },
    {
      "cell_type": "markdown",
      "id": "e6973047",
      "metadata": {
        "id": "e6973047"
      },
      "source": [
        "## Load the Libraries"
      ]
    },
    {
      "cell_type": "code",
      "execution_count": null,
      "id": "a4f45159",
      "metadata": {
        "id": "a4f45159"
      },
      "outputs": [],
      "source": [
        "import pandas as pd\n",
        "import numpy as np\n",
        "import matplotlib\n",
        "import matplotlib.pyplot as plt\n",
        "import seaborn as sns\n",
        "%matplotlib inline"
      ]
    },
    {
      "cell_type": "markdown",
      "id": "6914e4ba",
      "metadata": {
        "id": "6914e4ba"
      },
      "source": [
        "## Loading the Dataset \n",
        "Now we are ready to load the dataset. We will do this using the standard read_csv command from Pandas. Let's take a glimpse at how the data looks like."
      ]
    },
    {
      "cell_type": "code",
      "execution_count": null,
      "id": "5f5e04b8",
      "metadata": {
        "id": "5f5e04b8",
        "outputId": "77b084a4-53ef-4992-8789-3174605d4dd2"
      },
      "outputs": [
        {
          "data": {
            "text/html": [
              "<div>\n",
              "<style scoped>\n",
              "    .dataframe tbody tr th:only-of-type {\n",
              "        vertical-align: middle;\n",
              "    }\n",
              "\n",
              "    .dataframe tbody tr th {\n",
              "        vertical-align: top;\n",
              "    }\n",
              "\n",
              "    .dataframe thead th {\n",
              "        text-align: right;\n",
              "    }\n",
              "</style>\n",
              "<table border=\"1\" class=\"dataframe\">\n",
              "  <thead>\n",
              "    <tr style=\"text-align: right;\">\n",
              "      <th></th>\n",
              "      <th>Year</th>\n",
              "      <th>Month</th>\n",
              "      <th>DayofMonth</th>\n",
              "      <th>DayOfWeek</th>\n",
              "      <th>DepTime</th>\n",
              "      <th>CRSDepTime</th>\n",
              "      <th>ArrTime</th>\n",
              "      <th>CRSArrTime</th>\n",
              "      <th>UniqueCarrier</th>\n",
              "      <th>FlightNum</th>\n",
              "      <th>...</th>\n",
              "      <th>TaxiIn</th>\n",
              "      <th>TaxiOut</th>\n",
              "      <th>Cancelled</th>\n",
              "      <th>CancellationCode</th>\n",
              "      <th>Diverted</th>\n",
              "      <th>CarrierDelay</th>\n",
              "      <th>WeatherDelay</th>\n",
              "      <th>NASDelay</th>\n",
              "      <th>SecurityDelay</th>\n",
              "      <th>LateAircraftDelay</th>\n",
              "    </tr>\n",
              "  </thead>\n",
              "  <tbody>\n",
              "    <tr>\n",
              "      <th>0</th>\n",
              "      <td>2005</td>\n",
              "      <td>1</td>\n",
              "      <td>1</td>\n",
              "      <td>6</td>\n",
              "      <td>1211.0</td>\n",
              "      <td>1216</td>\n",
              "      <td>1451.0</td>\n",
              "      <td>1502</td>\n",
              "      <td>UA</td>\n",
              "      <td>548</td>\n",
              "      <td>...</td>\n",
              "      <td>2.0</td>\n",
              "      <td>17.0</td>\n",
              "      <td>0</td>\n",
              "      <td>NaN</td>\n",
              "      <td>0</td>\n",
              "      <td>0.0</td>\n",
              "      <td>0.0</td>\n",
              "      <td>0.0</td>\n",
              "      <td>0.0</td>\n",
              "      <td>0.0</td>\n",
              "    </tr>\n",
              "    <tr>\n",
              "      <th>1</th>\n",
              "      <td>2005</td>\n",
              "      <td>1</td>\n",
              "      <td>2</td>\n",
              "      <td>7</td>\n",
              "      <td>1209.0</td>\n",
              "      <td>1216</td>\n",
              "      <td>1447.0</td>\n",
              "      <td>1502</td>\n",
              "      <td>UA</td>\n",
              "      <td>548</td>\n",
              "      <td>...</td>\n",
              "      <td>2.0</td>\n",
              "      <td>17.0</td>\n",
              "      <td>0</td>\n",
              "      <td>NaN</td>\n",
              "      <td>0</td>\n",
              "      <td>0.0</td>\n",
              "      <td>0.0</td>\n",
              "      <td>0.0</td>\n",
              "      <td>0.0</td>\n",
              "      <td>0.0</td>\n",
              "    </tr>\n",
              "    <tr>\n",
              "      <th>2</th>\n",
              "      <td>2005</td>\n",
              "      <td>1</td>\n",
              "      <td>3</td>\n",
              "      <td>1</td>\n",
              "      <td>1213.0</td>\n",
              "      <td>1216</td>\n",
              "      <td>1454.0</td>\n",
              "      <td>1502</td>\n",
              "      <td>UA</td>\n",
              "      <td>548</td>\n",
              "      <td>...</td>\n",
              "      <td>3.0</td>\n",
              "      <td>15.0</td>\n",
              "      <td>0</td>\n",
              "      <td>NaN</td>\n",
              "      <td>0</td>\n",
              "      <td>0.0</td>\n",
              "      <td>0.0</td>\n",
              "      <td>0.0</td>\n",
              "      <td>0.0</td>\n",
              "      <td>0.0</td>\n",
              "    </tr>\n",
              "    <tr>\n",
              "      <th>3</th>\n",
              "      <td>2005</td>\n",
              "      <td>1</td>\n",
              "      <td>4</td>\n",
              "      <td>2</td>\n",
              "      <td>NaN</td>\n",
              "      <td>1216</td>\n",
              "      <td>NaN</td>\n",
              "      <td>1502</td>\n",
              "      <td>UA</td>\n",
              "      <td>548</td>\n",
              "      <td>...</td>\n",
              "      <td>0.0</td>\n",
              "      <td>0.0</td>\n",
              "      <td>1</td>\n",
              "      <td>A</td>\n",
              "      <td>0</td>\n",
              "      <td>0.0</td>\n",
              "      <td>0.0</td>\n",
              "      <td>0.0</td>\n",
              "      <td>0.0</td>\n",
              "      <td>0.0</td>\n",
              "    </tr>\n",
              "    <tr>\n",
              "      <th>4</th>\n",
              "      <td>2005</td>\n",
              "      <td>1</td>\n",
              "      <td>5</td>\n",
              "      <td>3</td>\n",
              "      <td>1211.0</td>\n",
              "      <td>1216</td>\n",
              "      <td>1504.0</td>\n",
              "      <td>1502</td>\n",
              "      <td>UA</td>\n",
              "      <td>548</td>\n",
              "      <td>...</td>\n",
              "      <td>6.0</td>\n",
              "      <td>22.0</td>\n",
              "      <td>0</td>\n",
              "      <td>NaN</td>\n",
              "      <td>0</td>\n",
              "      <td>0.0</td>\n",
              "      <td>0.0</td>\n",
              "      <td>0.0</td>\n",
              "      <td>0.0</td>\n",
              "      <td>0.0</td>\n",
              "    </tr>\n",
              "    <tr>\n",
              "      <th>...</th>\n",
              "      <td>...</td>\n",
              "      <td>...</td>\n",
              "      <td>...</td>\n",
              "      <td>...</td>\n",
              "      <td>...</td>\n",
              "      <td>...</td>\n",
              "      <td>...</td>\n",
              "      <td>...</td>\n",
              "      <td>...</td>\n",
              "      <td>...</td>\n",
              "      <td>...</td>\n",
              "      <td>...</td>\n",
              "      <td>...</td>\n",
              "      <td>...</td>\n",
              "      <td>...</td>\n",
              "      <td>...</td>\n",
              "      <td>...</td>\n",
              "      <td>...</td>\n",
              "      <td>...</td>\n",
              "      <td>...</td>\n",
              "      <td>...</td>\n",
              "    </tr>\n",
              "    <tr>\n",
              "      <th>539890</th>\n",
              "      <td>2008</td>\n",
              "      <td>12</td>\n",
              "      <td>13</td>\n",
              "      <td>6</td>\n",
              "      <td>848.0</td>\n",
              "      <td>850</td>\n",
              "      <td>1552.0</td>\n",
              "      <td>1625</td>\n",
              "      <td>DL</td>\n",
              "      <td>1066</td>\n",
              "      <td>...</td>\n",
              "      <td>7.0</td>\n",
              "      <td>14.0</td>\n",
              "      <td>0</td>\n",
              "      <td>NaN</td>\n",
              "      <td>0</td>\n",
              "      <td>NaN</td>\n",
              "      <td>NaN</td>\n",
              "      <td>NaN</td>\n",
              "      <td>NaN</td>\n",
              "      <td>NaN</td>\n",
              "    </tr>\n",
              "    <tr>\n",
              "      <th>539891</th>\n",
              "      <td>2008</td>\n",
              "      <td>12</td>\n",
              "      <td>13</td>\n",
              "      <td>6</td>\n",
              "      <td>1315.0</td>\n",
              "      <td>1318</td>\n",
              "      <td>2040.0</td>\n",
              "      <td>2049</td>\n",
              "      <td>DL</td>\n",
              "      <td>1070</td>\n",
              "      <td>...</td>\n",
              "      <td>12.0</td>\n",
              "      <td>18.0</td>\n",
              "      <td>0</td>\n",
              "      <td>NaN</td>\n",
              "      <td>0</td>\n",
              "      <td>NaN</td>\n",
              "      <td>NaN</td>\n",
              "      <td>NaN</td>\n",
              "      <td>NaN</td>\n",
              "      <td>NaN</td>\n",
              "    </tr>\n",
              "    <tr>\n",
              "      <th>539892</th>\n",
              "      <td>2008</td>\n",
              "      <td>12</td>\n",
              "      <td>13</td>\n",
              "      <td>6</td>\n",
              "      <td>2303.0</td>\n",
              "      <td>2300</td>\n",
              "      <td>611.0</td>\n",
              "      <td>627</td>\n",
              "      <td>DL</td>\n",
              "      <td>1074</td>\n",
              "      <td>...</td>\n",
              "      <td>9.0</td>\n",
              "      <td>10.0</td>\n",
              "      <td>0</td>\n",
              "      <td>NaN</td>\n",
              "      <td>0</td>\n",
              "      <td>NaN</td>\n",
              "      <td>NaN</td>\n",
              "      <td>NaN</td>\n",
              "      <td>NaN</td>\n",
              "      <td>NaN</td>\n",
              "    </tr>\n",
              "    <tr>\n",
              "      <th>539893</th>\n",
              "      <td>2008</td>\n",
              "      <td>12</td>\n",
              "      <td>13</td>\n",
              "      <td>6</td>\n",
              "      <td>751.0</td>\n",
              "      <td>800</td>\n",
              "      <td>1459.0</td>\n",
              "      <td>1523</td>\n",
              "      <td>DL</td>\n",
              "      <td>1096</td>\n",
              "      <td>...</td>\n",
              "      <td>5.0</td>\n",
              "      <td>16.0</td>\n",
              "      <td>0</td>\n",
              "      <td>NaN</td>\n",
              "      <td>0</td>\n",
              "      <td>NaN</td>\n",
              "      <td>NaN</td>\n",
              "      <td>NaN</td>\n",
              "      <td>NaN</td>\n",
              "      <td>NaN</td>\n",
              "    </tr>\n",
              "    <tr>\n",
              "      <th>539894</th>\n",
              "      <td>2008</td>\n",
              "      <td>12</td>\n",
              "      <td>13</td>\n",
              "      <td>6</td>\n",
              "      <td>1134.0</td>\n",
              "      <td>1134</td>\n",
              "      <td>1833.0</td>\n",
              "      <td>1855</td>\n",
              "      <td>DL</td>\n",
              "      <td>1594</td>\n",
              "      <td>...</td>\n",
              "      <td>6.0</td>\n",
              "      <td>13.0</td>\n",
              "      <td>0</td>\n",
              "      <td>NaN</td>\n",
              "      <td>0</td>\n",
              "      <td>NaN</td>\n",
              "      <td>NaN</td>\n",
              "      <td>NaN</td>\n",
              "      <td>NaN</td>\n",
              "      <td>NaN</td>\n",
              "    </tr>\n",
              "  </tbody>\n",
              "</table>\n",
              "<p>539895 rows × 29 columns</p>\n",
              "</div>"
            ],
            "text/plain": [
              "        Year  Month  DayofMonth  DayOfWeek  DepTime  CRSDepTime  ArrTime  \\\n",
              "0       2005      1           1          6   1211.0        1216   1451.0   \n",
              "1       2005      1           2          7   1209.0        1216   1447.0   \n",
              "2       2005      1           3          1   1213.0        1216   1454.0   \n",
              "3       2005      1           4          2      NaN        1216      NaN   \n",
              "4       2005      1           5          3   1211.0        1216   1504.0   \n",
              "...      ...    ...         ...        ...      ...         ...      ...   \n",
              "539890  2008     12          13          6    848.0         850   1552.0   \n",
              "539891  2008     12          13          6   1315.0        1318   2040.0   \n",
              "539892  2008     12          13          6   2303.0        2300    611.0   \n",
              "539893  2008     12          13          6    751.0         800   1459.0   \n",
              "539894  2008     12          13          6   1134.0        1134   1833.0   \n",
              "\n",
              "        CRSArrTime UniqueCarrier  FlightNum  ... TaxiIn  TaxiOut  Cancelled  \\\n",
              "0             1502            UA        548  ...    2.0     17.0          0   \n",
              "1             1502            UA        548  ...    2.0     17.0          0   \n",
              "2             1502            UA        548  ...    3.0     15.0          0   \n",
              "3             1502            UA        548  ...    0.0      0.0          1   \n",
              "4             1502            UA        548  ...    6.0     22.0          0   \n",
              "...            ...           ...        ...  ...    ...      ...        ...   \n",
              "539890        1625            DL       1066  ...    7.0     14.0          0   \n",
              "539891        2049            DL       1070  ...   12.0     18.0          0   \n",
              "539892         627            DL       1074  ...    9.0     10.0          0   \n",
              "539893        1523            DL       1096  ...    5.0     16.0          0   \n",
              "539894        1855            DL       1594  ...    6.0     13.0          0   \n",
              "\n",
              "        CancellationCode  Diverted  CarrierDelay WeatherDelay NASDelay  \\\n",
              "0                    NaN         0           0.0          0.0      0.0   \n",
              "1                    NaN         0           0.0          0.0      0.0   \n",
              "2                    NaN         0           0.0          0.0      0.0   \n",
              "3                      A         0           0.0          0.0      0.0   \n",
              "4                    NaN         0           0.0          0.0      0.0   \n",
              "...                  ...       ...           ...          ...      ...   \n",
              "539890               NaN         0           NaN          NaN      NaN   \n",
              "539891               NaN         0           NaN          NaN      NaN   \n",
              "539892               NaN         0           NaN          NaN      NaN   \n",
              "539893               NaN         0           NaN          NaN      NaN   \n",
              "539894               NaN         0           NaN          NaN      NaN   \n",
              "\n",
              "        SecurityDelay  LateAircraftDelay  \n",
              "0                 0.0                0.0  \n",
              "1                 0.0                0.0  \n",
              "2                 0.0                0.0  \n",
              "3                 0.0                0.0  \n",
              "4                 0.0                0.0  \n",
              "...               ...                ...  \n",
              "539890            NaN                NaN  \n",
              "539891            NaN                NaN  \n",
              "539892            NaN                NaN  \n",
              "539893            NaN                NaN  \n",
              "539894            NaN                NaN  \n",
              "\n",
              "[539895 rows x 29 columns]"
            ]
          },
          "execution_count": 12,
          "metadata": {},
          "output_type": "execute_result"
        }
      ],
      "source": [
        "air_df = pd.read_csv('airlinecsv/airline.csv')\n",
        "air_df"
      ]
    },
    {
      "cell_type": "markdown",
      "id": "58a21798",
      "metadata": {
        "id": "58a21798"
      },
      "source": [
        "After a quick glimpse of the dataset, we have 500,000+ observations of passenger travel information with 29 different features ranging from the year, month day, time, all through to delays and cancellations. We can also see there are Nan values in some columns\n"
      ]
    },
    {
      "cell_type": "code",
      "execution_count": null,
      "id": "b5038c7d",
      "metadata": {
        "id": "b5038c7d",
        "outputId": "9c482ca0-30b1-4a76-b1f4-879a261e6ae8"
      },
      "outputs": [
        {
          "data": {
            "text/plain": [
              "Index(['Year', 'Month', 'DayofMonth', 'DayOfWeek', 'DepTime', 'CRSDepTime',\n",
              "       'ArrTime', 'CRSArrTime', 'UniqueCarrier', 'FlightNum', 'TailNum',\n",
              "       'ActualElapsedTime', 'CRSElapsedTime', 'AirTime', 'ArrDelay',\n",
              "       'DepDelay', 'Origin', 'Dest', 'Distance', 'TaxiIn', 'TaxiOut',\n",
              "       'Cancelled', 'CancellationCode', 'Diverted', 'CarrierDelay',\n",
              "       'WeatherDelay', 'NASDelay', 'SecurityDelay', 'LateAircraftDelay'],\n",
              "      dtype='object')"
            ]
          },
          "execution_count": 13,
          "metadata": {},
          "output_type": "execute_result"
        }
      ],
      "source": [
        "# Let's view the list of columns in the dataframe\n",
        "\n",
        "air_df.columns"
      ]
    },
    {
      "cell_type": "markdown",
      "id": "6f5899b5",
      "metadata": {
        "id": "6f5899b5"
      },
      "source": [
        "It appears short codes have been used for column names and values. \n",
        "\n",
        "We can use the carrier file to see the full name of each carrier. The carrier file contains only two columns `Code` and `Description`. We can load it as a Panda series with `Code` as the index and `Description` as the value"
      ]
    },
    {
      "cell_type": "code",
      "execution_count": null,
      "id": "7e2a3dba",
      "metadata": {
        "id": "7e2a3dba",
        "outputId": "ab058b92-39d3-4e43-8f2c-6941de938cee"
      },
      "outputs": [
        {
          "data": {
            "text/plain": [
              "Code\n",
              "02Q                       Titan Airways\n",
              "04Q                  Tradewind Aviation\n",
              "05Q                 Comlux Aviation, AG\n",
              "06Q       Master Top Linhas Aereas Ltd.\n",
              "07Q                 Flair Airlines Ltd.\n",
              "                      ...              \n",
              "ZW          Air Wisconsin Airlines Corp\n",
              "ZX                         Air Georgian\n",
              "ZX (1)                       Airbc Ltd.\n",
              "ZY               Atlantic Gulf Airlines\n",
              "ZYZ                Skyway Aviation Inc.\n",
              "Name: Description, Length: 1491, dtype: object"
            ]
          },
          "execution_count": 14,
          "metadata": {},
          "output_type": "execute_result"
        }
      ],
      "source": [
        "carrier_name = pd.read_csv('carrierscsv/carriers.csv', index_col = 'Code').Description\n",
        "carrier_name"
      ]
    },
    {
      "cell_type": "markdown",
      "id": "abfe2160",
      "metadata": {
        "id": "abfe2160"
      },
      "source": [
        "We can now use `carrier_name` to retrieve the full carrier name for a carrier in `air_df['Unique_carrier']`"
      ]
    },
    {
      "cell_type": "code",
      "execution_count": null,
      "id": "244c167e",
      "metadata": {
        "id": "244c167e",
        "outputId": "ae23f9a0-59dc-47d3-e350-29adc91ea134"
      },
      "outputs": [
        {
          "data": {
            "text/plain": [
              "UA    178546\n",
              "OO    159658\n",
              "AA     50255\n",
              "US     25100\n",
              "DL     21612\n",
              "AS     20608\n",
              "CO     19029\n",
              "NW     15358\n",
              "WN     15243\n",
              "F9      8418\n",
              "MQ      7141\n",
              "HP      4485\n",
              "FL      3368\n",
              "B6      3214\n",
              "XE      2367\n",
              "TZ      2321\n",
              "HA      1460\n",
              "EV       742\n",
              "DH       470\n",
              "YV       470\n",
              "OH        30\n",
              "Name: UniqueCarrier, dtype: int64"
            ]
          },
          "execution_count": 15,
          "metadata": {},
          "output_type": "execute_result"
        }
      ],
      "source": [
        "# Check the count of carriers in air_df['Unique_carrier']\n",
        "\n",
        "air_df['UniqueCarrier'].value_counts()"
      ]
    },
    {
      "cell_type": "code",
      "execution_count": null,
      "id": "7e960ba9",
      "metadata": {
        "id": "7e960ba9",
        "outputId": "a11762db-09df-4ca6-d3c1-84b37a2a4db2"
      },
      "outputs": [
        {
          "data": {
            "text/plain": [
              "'United Air Lines Inc.'"
            ]
          },
          "execution_count": 16,
          "metadata": {},
          "output_type": "execute_result"
        }
      ],
      "source": [
        "# Retrieve the full carrier name for UA\n",
        "\n",
        "carrier_name['UA']"
      ]
    },
    {
      "cell_type": "markdown",
      "id": "4cba95f3",
      "metadata": {
        "id": "4cba95f3"
      },
      "source": [
        "We've now loaded the dataset. We're ready to move on to the next step of preprocessing & cleaning the data for our analysis."
      ]
    },
    {
      "cell_type": "markdown",
      "id": "2adc6a3a",
      "metadata": {
        "id": "2adc6a3a"
      },
      "source": [
        "## Save and upload your notebook\n",
        "\n",
        "Whether you're running this Jupyter notebook online or on your computer, it's essential to save your work from time to time. You can continue working on a saved notebook later or share it with friends and colleagues to let them execute your code. Jovian offers an easy way of saving and sharing your Jupyter notebooks online."
      ]
    },
    {
      "cell_type": "code",
      "execution_count": null,
      "id": "e5a7a896",
      "metadata": {
        "id": "e5a7a896"
      },
      "outputs": [],
      "source": [
        "import jovian"
      ]
    },
    {
      "cell_type": "code",
      "execution_count": null,
      "id": "17146170",
      "metadata": {
        "id": "17146170",
        "outputId": "b4e42ced-a41e-4397-88ee-ab488dedcdb3"
      },
      "outputs": [
        {
          "data": {
            "application/javascript": [
              "window.require && require([\"base/js/namespace\"],function(Jupyter){Jupyter.notebook.save_checkpoint()})"
            ],
            "text/plain": [
              "<IPython.core.display.Javascript object>"
            ]
          },
          "metadata": {},
          "output_type": "display_data"
        },
        {
          "name": "stdout",
          "output_type": "stream",
          "text": [
            "[jovian] Updating notebook \"mitchell-odili/commercial-air-travel-analysis\" on https://jovian.ai/\u001b[0m\n",
            "[jovian] Committed successfully! https://jovian.ai/mitchell-odili/commercial-air-travel-analysis\u001b[0m\n"
          ]
        },
        {
          "data": {
            "text/plain": [
              "'https://jovian.ai/mitchell-odili/commercial-air-travel-analysis'"
            ]
          },
          "execution_count": 18,
          "metadata": {},
          "output_type": "execute_result"
        }
      ],
      "source": [
        "# Execute this to save new versions of the notebook\n",
        "jovian.commit(project=\"commercial-air-travel-analysis\")"
      ]
    },
    {
      "cell_type": "markdown",
      "id": "2cb49032",
      "metadata": {
        "id": "2cb49032"
      },
      "source": [
        "## Data Preparation & Cleaning"
      ]
    },
    {
      "cell_type": "code",
      "execution_count": null,
      "id": "b1e2e77d",
      "metadata": {
        "id": "b1e2e77d",
        "outputId": "64fe720c-8072-4e74-c2ce-0bb3fb9c644c"
      },
      "outputs": [
        {
          "name": "stdout",
          "output_type": "stream",
          "text": [
            "<class 'pandas.core.frame.DataFrame'>\n",
            "RangeIndex: 539895 entries, 0 to 539894\n",
            "Data columns (total 29 columns):\n",
            " #   Column             Non-Null Count   Dtype  \n",
            "---  ------             --------------   -----  \n",
            " 0   Year               539895 non-null  int64  \n",
            " 1   Month              539895 non-null  int64  \n",
            " 2   DayofMonth         539895 non-null  int64  \n",
            " 3   DayOfWeek          539895 non-null  int64  \n",
            " 4   DepTime            530574 non-null  float64\n",
            " 5   CRSDepTime         539895 non-null  int64  \n",
            " 6   ArrTime            529423 non-null  float64\n",
            " 7   CRSArrTime         539895 non-null  int64  \n",
            " 8   UniqueCarrier      539895 non-null  object \n",
            " 9   FlightNum          539895 non-null  int64  \n",
            " 10  TailNum            538289 non-null  object \n",
            " 11  ActualElapsedTime  529364 non-null  float64\n",
            " 12  CRSElapsedTime     539891 non-null  float64\n",
            " 13  AirTime            529364 non-null  float64\n",
            " 14  ArrDelay           529364 non-null  float64\n",
            " 15  DepDelay           530574 non-null  float64\n",
            " 16  Origin             539895 non-null  object \n",
            " 17  Dest               539895 non-null  object \n",
            " 18  Distance           539895 non-null  int64  \n",
            " 19  TaxiIn             536822 non-null  float64\n",
            " 20  TaxiOut            537123 non-null  float64\n",
            " 21  Cancelled          539895 non-null  int64  \n",
            " 22  CancellationCode   9345 non-null    object \n",
            " 23  Diverted           539895 non-null  int64  \n",
            " 24  CarrierDelay       433902 non-null  float64\n",
            " 25  WeatherDelay       433902 non-null  float64\n",
            " 26  NASDelay           433902 non-null  float64\n",
            " 27  SecurityDelay      433902 non-null  float64\n",
            " 28  LateAircraftDelay  433902 non-null  float64\n",
            "dtypes: float64(14), int64(10), object(5)\n",
            "memory usage: 119.5+ MB\n"
          ]
        }
      ],
      "source": [
        "air_df.info()"
      ]
    },
    {
      "cell_type": "markdown",
      "id": "d9ecdcd3",
      "metadata": {
        "id": "d9ecdcd3"
      },
      "source": [
        "There are 539,985 entries and 29 columns to work with for exploratory data analysis. Right off the bat, there are a few columns that contain null values (DepTime,ArrTime etc)\n",
        "\n",
        "Most columns have the data type integer/float with a few with data type object which is either because they contain values of different types(categorical values) or contain empty values (NaN). We'll need to deal with empty values and manually adjust the data type for each column on a case-by-case basis."
      ]
    },
    {
      "cell_type": "code",
      "execution_count": null,
      "id": "89596f3e",
      "metadata": {
        "id": "89596f3e"
      },
      "outputs": [],
      "source": [
        "air_df['FlightNum'] = air_df['FlightNum'].astype('str')\n",
        "air_df['Cancelled'] = air_df['Cancelled'].astype('str')\n",
        "air_df['Diverted'] = air_df['Diverted'].astype('str')"
      ]
    },
    {
      "cell_type": "markdown",
      "id": "7ccdb449",
      "metadata": {
        "id": "7ccdb449"
      },
      "source": [
        "Convert Flight Number, Cancelled and Diverted Flights to object type"
      ]
    },
    {
      "cell_type": "code",
      "execution_count": null,
      "id": "cd01d4e2",
      "metadata": {
        "id": "cd01d4e2",
        "outputId": "262791bd-2739-4df8-879e-bd1093f4f681"
      },
      "outputs": [
        {
          "data": {
            "text/plain": [
              "0         3778\n",
              "N234SW    2379\n",
              "N292SW    2362\n",
              "N294SW    2271\n",
              "N295SW    2231\n",
              "          ... \n",
              "N187DN       1\n",
              "N496CA       1\n",
              "N442CA       1\n",
              "N197DN       1\n",
              "N836AS       1\n",
              "Name: TailNum, Length: 3982, dtype: int64"
            ]
          },
          "execution_count": 21,
          "metadata": {},
          "output_type": "execute_result"
        }
      ],
      "source": [
        "air_df['TailNum'].value_counts()"
      ]
    },
    {
      "cell_type": "markdown",
      "id": "bda4456a",
      "metadata": {
        "id": "bda4456a"
      },
      "source": [
        "TailNum is categorical and therefore rightfully of dtype object. Let's examine the time variables. We need to have them in the `HH:MM` format"
      ]
    },
    {
      "cell_type": "code",
      "execution_count": null,
      "id": "3891d065",
      "metadata": {
        "id": "3891d065",
        "outputId": "87f071a8-6d6b-4240-f96f-c13b7dd0a926"
      },
      "outputs": [
        {
          "data": {
            "text/plain": [
              "(0         1211.0\n",
              " 1         1209.0\n",
              " 2         1213.0\n",
              " 3            NaN\n",
              " 4         1211.0\n",
              "            ...  \n",
              " 539890     848.0\n",
              " 539891    1315.0\n",
              " 539892    2303.0\n",
              " 539893     751.0\n",
              " 539894    1134.0\n",
              " Name: DepTime, Length: 539895, dtype: float64,\n",
              " 0         1502\n",
              " 1         1502\n",
              " 2         1502\n",
              " 3         1502\n",
              " 4         1502\n",
              "           ... \n",
              " 539890    1625\n",
              " 539891    2049\n",
              " 539892     627\n",
              " 539893    1523\n",
              " 539894    1855\n",
              " Name: CRSArrTime, Length: 539895, dtype: int64,\n",
              " 0         1216\n",
              " 1         1216\n",
              " 2         1216\n",
              " 3         1216\n",
              " 4         1216\n",
              "           ... \n",
              " 539890     850\n",
              " 539891    1318\n",
              " 539892    2300\n",
              " 539893     800\n",
              " 539894    1134\n",
              " Name: CRSDepTime, Length: 539895, dtype: int64,\n",
              " 0         1451.0\n",
              " 1         1447.0\n",
              " 2         1454.0\n",
              " 3            NaN\n",
              " 4         1504.0\n",
              "            ...  \n",
              " 539890    1552.0\n",
              " 539891    2040.0\n",
              " 539892     611.0\n",
              " 539893    1459.0\n",
              " 539894    1833.0\n",
              " Name: ArrTime, Length: 539895, dtype: float64)"
            ]
          },
          "execution_count": 22,
          "metadata": {},
          "output_type": "execute_result"
        }
      ],
      "source": [
        "air_df['DepTime'], air_df['CRSArrTime'], air_df['CRSDepTime'], air_df['ArrTime']"
      ]
    },
    {
      "cell_type": "code",
      "execution_count": null,
      "id": "667da962",
      "metadata": {
        "id": "667da962"
      },
      "outputs": [],
      "source": [
        "air_df['DepTime'] = pd.to_datetime(air_df['DepTime'], format = '%H%M', errors = 'coerce')\n",
        "air_df['CRSDepTime'] = pd.to_datetime(air_df['CRSDepTime'], format = '%H%M', errors = 'coerce')\n",
        "air_df['ArrTime'] = pd.to_datetime(air_df['ArrTime'], format = '%H%M', errors = 'coerce')\n",
        "air_df['CRSArrTime'] = pd.to_datetime(air_df['CRSArrTime'], format = '%H%M', errors = 'coerce')"
      ]
    },
    {
      "cell_type": "code",
      "execution_count": null,
      "id": "99c0e35c",
      "metadata": {
        "id": "99c0e35c"
      },
      "outputs": [],
      "source": [
        "air_df['DepTime'] = air_df['DepTime'].dt.time\n",
        "air_df['CRSDepTime'] = air_df['CRSDepTime'].dt.time\n",
        "air_df['ArrTime'] = air_df['ArrTime'].dt.time\n",
        "air_df['CRSArrTime'] = air_df['CRSArrTime'].dt.time"
      ]
    },
    {
      "cell_type": "code",
      "execution_count": null,
      "id": "3c342c76",
      "metadata": {
        "id": "3c342c76",
        "outputId": "80d4f8b7-8bff-49aa-e259-52b208cfb1b6"
      },
      "outputs": [
        {
          "data": {
            "text/plain": [
              "(0         12:11:00\n",
              " 1         12:09:00\n",
              " 2         12:13:00\n",
              " 3              NaT\n",
              " 4         12:11:00\n",
              "             ...   \n",
              " 539890    08:48:00\n",
              " 539891    13:15:00\n",
              " 539892    23:03:00\n",
              " 539893    07:51:00\n",
              " 539894    11:34:00\n",
              " Name: DepTime, Length: 539895, dtype: object,\n",
              " 0         15:02:00\n",
              " 1         15:02:00\n",
              " 2         15:02:00\n",
              " 3         15:02:00\n",
              " 4         15:02:00\n",
              "             ...   \n",
              " 539890    16:25:00\n",
              " 539891    20:49:00\n",
              " 539892    06:27:00\n",
              " 539893    15:23:00\n",
              " 539894    18:55:00\n",
              " Name: CRSArrTime, Length: 539895, dtype: object,\n",
              " 0         12:16:00\n",
              " 1         12:16:00\n",
              " 2         12:16:00\n",
              " 3         12:16:00\n",
              " 4         12:16:00\n",
              "             ...   \n",
              " 539890    08:50:00\n",
              " 539891    13:18:00\n",
              " 539892    23:00:00\n",
              " 539893    08:00:00\n",
              " 539894    11:34:00\n",
              " Name: CRSDepTime, Length: 539895, dtype: object,\n",
              " 0         14:51:00\n",
              " 1         14:47:00\n",
              " 2         14:54:00\n",
              " 3              NaT\n",
              " 4         15:04:00\n",
              "             ...   \n",
              " 539890    15:52:00\n",
              " 539891    20:40:00\n",
              " 539892    06:11:00\n",
              " 539893    14:59:00\n",
              " 539894    18:33:00\n",
              " Name: ArrTime, Length: 539895, dtype: object)"
            ]
          },
          "execution_count": 25,
          "metadata": {},
          "output_type": "execute_result"
        }
      ],
      "source": [
        "air_df['DepTime'], air_df['CRSArrTime'], air_df['CRSDepTime'], air_df['ArrTime']"
      ]
    },
    {
      "cell_type": "code",
      "execution_count": null,
      "id": "5692da79",
      "metadata": {
        "id": "5692da79",
        "outputId": "86faf6ad-86f2-430c-d039-fdc3d52f3ef5"
      },
      "outputs": [
        {
          "data": {
            "text/html": [
              "<div>\n",
              "<style scoped>\n",
              "    .dataframe tbody tr th:only-of-type {\n",
              "        vertical-align: middle;\n",
              "    }\n",
              "\n",
              "    .dataframe tbody tr th {\n",
              "        vertical-align: top;\n",
              "    }\n",
              "\n",
              "    .dataframe thead th {\n",
              "        text-align: right;\n",
              "    }\n",
              "</style>\n",
              "<table border=\"1\" class=\"dataframe\">\n",
              "  <thead>\n",
              "    <tr style=\"text-align: right;\">\n",
              "      <th></th>\n",
              "      <th>Year</th>\n",
              "      <th>Month</th>\n",
              "      <th>DayofMonth</th>\n",
              "      <th>DayOfWeek</th>\n",
              "      <th>DepTime</th>\n",
              "      <th>CRSDepTime</th>\n",
              "      <th>ArrTime</th>\n",
              "      <th>CRSArrTime</th>\n",
              "      <th>UniqueCarrier</th>\n",
              "      <th>FlightNum</th>\n",
              "      <th>...</th>\n",
              "      <th>TaxiIn</th>\n",
              "      <th>TaxiOut</th>\n",
              "      <th>Cancelled</th>\n",
              "      <th>CancellationCode</th>\n",
              "      <th>Diverted</th>\n",
              "      <th>CarrierDelay</th>\n",
              "      <th>WeatherDelay</th>\n",
              "      <th>NASDelay</th>\n",
              "      <th>SecurityDelay</th>\n",
              "      <th>LateAircraftDelay</th>\n",
              "    </tr>\n",
              "  </thead>\n",
              "  <tbody>\n",
              "    <tr>\n",
              "      <th>0</th>\n",
              "      <td>2005</td>\n",
              "      <td>1</td>\n",
              "      <td>1</td>\n",
              "      <td>6</td>\n",
              "      <td>12:11:00</td>\n",
              "      <td>12:16:00</td>\n",
              "      <td>14:51:00</td>\n",
              "      <td>15:02:00</td>\n",
              "      <td>UA</td>\n",
              "      <td>548</td>\n",
              "      <td>...</td>\n",
              "      <td>2.0</td>\n",
              "      <td>17.0</td>\n",
              "      <td>0</td>\n",
              "      <td>NaN</td>\n",
              "      <td>0</td>\n",
              "      <td>0.0</td>\n",
              "      <td>0.0</td>\n",
              "      <td>0.0</td>\n",
              "      <td>0.0</td>\n",
              "      <td>0.0</td>\n",
              "    </tr>\n",
              "    <tr>\n",
              "      <th>1</th>\n",
              "      <td>2005</td>\n",
              "      <td>1</td>\n",
              "      <td>2</td>\n",
              "      <td>7</td>\n",
              "      <td>12:09:00</td>\n",
              "      <td>12:16:00</td>\n",
              "      <td>14:47:00</td>\n",
              "      <td>15:02:00</td>\n",
              "      <td>UA</td>\n",
              "      <td>548</td>\n",
              "      <td>...</td>\n",
              "      <td>2.0</td>\n",
              "      <td>17.0</td>\n",
              "      <td>0</td>\n",
              "      <td>NaN</td>\n",
              "      <td>0</td>\n",
              "      <td>0.0</td>\n",
              "      <td>0.0</td>\n",
              "      <td>0.0</td>\n",
              "      <td>0.0</td>\n",
              "      <td>0.0</td>\n",
              "    </tr>\n",
              "    <tr>\n",
              "      <th>2</th>\n",
              "      <td>2005</td>\n",
              "      <td>1</td>\n",
              "      <td>3</td>\n",
              "      <td>1</td>\n",
              "      <td>12:13:00</td>\n",
              "      <td>12:16:00</td>\n",
              "      <td>14:54:00</td>\n",
              "      <td>15:02:00</td>\n",
              "      <td>UA</td>\n",
              "      <td>548</td>\n",
              "      <td>...</td>\n",
              "      <td>3.0</td>\n",
              "      <td>15.0</td>\n",
              "      <td>0</td>\n",
              "      <td>NaN</td>\n",
              "      <td>0</td>\n",
              "      <td>0.0</td>\n",
              "      <td>0.0</td>\n",
              "      <td>0.0</td>\n",
              "      <td>0.0</td>\n",
              "      <td>0.0</td>\n",
              "    </tr>\n",
              "    <tr>\n",
              "      <th>3</th>\n",
              "      <td>2005</td>\n",
              "      <td>1</td>\n",
              "      <td>4</td>\n",
              "      <td>2</td>\n",
              "      <td>NaT</td>\n",
              "      <td>12:16:00</td>\n",
              "      <td>NaT</td>\n",
              "      <td>15:02:00</td>\n",
              "      <td>UA</td>\n",
              "      <td>548</td>\n",
              "      <td>...</td>\n",
              "      <td>0.0</td>\n",
              "      <td>0.0</td>\n",
              "      <td>1</td>\n",
              "      <td>A</td>\n",
              "      <td>0</td>\n",
              "      <td>0.0</td>\n",
              "      <td>0.0</td>\n",
              "      <td>0.0</td>\n",
              "      <td>0.0</td>\n",
              "      <td>0.0</td>\n",
              "    </tr>\n",
              "    <tr>\n",
              "      <th>4</th>\n",
              "      <td>2005</td>\n",
              "      <td>1</td>\n",
              "      <td>5</td>\n",
              "      <td>3</td>\n",
              "      <td>12:11:00</td>\n",
              "      <td>12:16:00</td>\n",
              "      <td>15:04:00</td>\n",
              "      <td>15:02:00</td>\n",
              "      <td>UA</td>\n",
              "      <td>548</td>\n",
              "      <td>...</td>\n",
              "      <td>6.0</td>\n",
              "      <td>22.0</td>\n",
              "      <td>0</td>\n",
              "      <td>NaN</td>\n",
              "      <td>0</td>\n",
              "      <td>0.0</td>\n",
              "      <td>0.0</td>\n",
              "      <td>0.0</td>\n",
              "      <td>0.0</td>\n",
              "      <td>0.0</td>\n",
              "    </tr>\n",
              "    <tr>\n",
              "      <th>...</th>\n",
              "      <td>...</td>\n",
              "      <td>...</td>\n",
              "      <td>...</td>\n",
              "      <td>...</td>\n",
              "      <td>...</td>\n",
              "      <td>...</td>\n",
              "      <td>...</td>\n",
              "      <td>...</td>\n",
              "      <td>...</td>\n",
              "      <td>...</td>\n",
              "      <td>...</td>\n",
              "      <td>...</td>\n",
              "      <td>...</td>\n",
              "      <td>...</td>\n",
              "      <td>...</td>\n",
              "      <td>...</td>\n",
              "      <td>...</td>\n",
              "      <td>...</td>\n",
              "      <td>...</td>\n",
              "      <td>...</td>\n",
              "      <td>...</td>\n",
              "    </tr>\n",
              "    <tr>\n",
              "      <th>539890</th>\n",
              "      <td>2008</td>\n",
              "      <td>12</td>\n",
              "      <td>13</td>\n",
              "      <td>6</td>\n",
              "      <td>08:48:00</td>\n",
              "      <td>08:50:00</td>\n",
              "      <td>15:52:00</td>\n",
              "      <td>16:25:00</td>\n",
              "      <td>DL</td>\n",
              "      <td>1066</td>\n",
              "      <td>...</td>\n",
              "      <td>7.0</td>\n",
              "      <td>14.0</td>\n",
              "      <td>0</td>\n",
              "      <td>NaN</td>\n",
              "      <td>0</td>\n",
              "      <td>NaN</td>\n",
              "      <td>NaN</td>\n",
              "      <td>NaN</td>\n",
              "      <td>NaN</td>\n",
              "      <td>NaN</td>\n",
              "    </tr>\n",
              "    <tr>\n",
              "      <th>539891</th>\n",
              "      <td>2008</td>\n",
              "      <td>12</td>\n",
              "      <td>13</td>\n",
              "      <td>6</td>\n",
              "      <td>13:15:00</td>\n",
              "      <td>13:18:00</td>\n",
              "      <td>20:40:00</td>\n",
              "      <td>20:49:00</td>\n",
              "      <td>DL</td>\n",
              "      <td>1070</td>\n",
              "      <td>...</td>\n",
              "      <td>12.0</td>\n",
              "      <td>18.0</td>\n",
              "      <td>0</td>\n",
              "      <td>NaN</td>\n",
              "      <td>0</td>\n",
              "      <td>NaN</td>\n",
              "      <td>NaN</td>\n",
              "      <td>NaN</td>\n",
              "      <td>NaN</td>\n",
              "      <td>NaN</td>\n",
              "    </tr>\n",
              "    <tr>\n",
              "      <th>539892</th>\n",
              "      <td>2008</td>\n",
              "      <td>12</td>\n",
              "      <td>13</td>\n",
              "      <td>6</td>\n",
              "      <td>23:03:00</td>\n",
              "      <td>23:00:00</td>\n",
              "      <td>06:11:00</td>\n",
              "      <td>06:27:00</td>\n",
              "      <td>DL</td>\n",
              "      <td>1074</td>\n",
              "      <td>...</td>\n",
              "      <td>9.0</td>\n",
              "      <td>10.0</td>\n",
              "      <td>0</td>\n",
              "      <td>NaN</td>\n",
              "      <td>0</td>\n",
              "      <td>NaN</td>\n",
              "      <td>NaN</td>\n",
              "      <td>NaN</td>\n",
              "      <td>NaN</td>\n",
              "      <td>NaN</td>\n",
              "    </tr>\n",
              "    <tr>\n",
              "      <th>539893</th>\n",
              "      <td>2008</td>\n",
              "      <td>12</td>\n",
              "      <td>13</td>\n",
              "      <td>6</td>\n",
              "      <td>07:51:00</td>\n",
              "      <td>08:00:00</td>\n",
              "      <td>14:59:00</td>\n",
              "      <td>15:23:00</td>\n",
              "      <td>DL</td>\n",
              "      <td>1096</td>\n",
              "      <td>...</td>\n",
              "      <td>5.0</td>\n",
              "      <td>16.0</td>\n",
              "      <td>0</td>\n",
              "      <td>NaN</td>\n",
              "      <td>0</td>\n",
              "      <td>NaN</td>\n",
              "      <td>NaN</td>\n",
              "      <td>NaN</td>\n",
              "      <td>NaN</td>\n",
              "      <td>NaN</td>\n",
              "    </tr>\n",
              "    <tr>\n",
              "      <th>539894</th>\n",
              "      <td>2008</td>\n",
              "      <td>12</td>\n",
              "      <td>13</td>\n",
              "      <td>6</td>\n",
              "      <td>11:34:00</td>\n",
              "      <td>11:34:00</td>\n",
              "      <td>18:33:00</td>\n",
              "      <td>18:55:00</td>\n",
              "      <td>DL</td>\n",
              "      <td>1594</td>\n",
              "      <td>...</td>\n",
              "      <td>6.0</td>\n",
              "      <td>13.0</td>\n",
              "      <td>0</td>\n",
              "      <td>NaN</td>\n",
              "      <td>0</td>\n",
              "      <td>NaN</td>\n",
              "      <td>NaN</td>\n",
              "      <td>NaN</td>\n",
              "      <td>NaN</td>\n",
              "      <td>NaN</td>\n",
              "    </tr>\n",
              "  </tbody>\n",
              "</table>\n",
              "<p>539895 rows × 29 columns</p>\n",
              "</div>"
            ],
            "text/plain": [
              "        Year  Month  DayofMonth  DayOfWeek   DepTime CRSDepTime   ArrTime  \\\n",
              "0       2005      1           1          6  12:11:00   12:16:00  14:51:00   \n",
              "1       2005      1           2          7  12:09:00   12:16:00  14:47:00   \n",
              "2       2005      1           3          1  12:13:00   12:16:00  14:54:00   \n",
              "3       2005      1           4          2       NaT   12:16:00       NaT   \n",
              "4       2005      1           5          3  12:11:00   12:16:00  15:04:00   \n",
              "...      ...    ...         ...        ...       ...        ...       ...   \n",
              "539890  2008     12          13          6  08:48:00   08:50:00  15:52:00   \n",
              "539891  2008     12          13          6  13:15:00   13:18:00  20:40:00   \n",
              "539892  2008     12          13          6  23:03:00   23:00:00  06:11:00   \n",
              "539893  2008     12          13          6  07:51:00   08:00:00  14:59:00   \n",
              "539894  2008     12          13          6  11:34:00   11:34:00  18:33:00   \n",
              "\n",
              "       CRSArrTime UniqueCarrier FlightNum  ... TaxiIn  TaxiOut  Cancelled  \\\n",
              "0        15:02:00            UA       548  ...    2.0     17.0          0   \n",
              "1        15:02:00            UA       548  ...    2.0     17.0          0   \n",
              "2        15:02:00            UA       548  ...    3.0     15.0          0   \n",
              "3        15:02:00            UA       548  ...    0.0      0.0          1   \n",
              "4        15:02:00            UA       548  ...    6.0     22.0          0   \n",
              "...           ...           ...       ...  ...    ...      ...        ...   \n",
              "539890   16:25:00            DL      1066  ...    7.0     14.0          0   \n",
              "539891   20:49:00            DL      1070  ...   12.0     18.0          0   \n",
              "539892   06:27:00            DL      1074  ...    9.0     10.0          0   \n",
              "539893   15:23:00            DL      1096  ...    5.0     16.0          0   \n",
              "539894   18:55:00            DL      1594  ...    6.0     13.0          0   \n",
              "\n",
              "        CancellationCode  Diverted  CarrierDelay WeatherDelay NASDelay  \\\n",
              "0                    NaN         0           0.0          0.0      0.0   \n",
              "1                    NaN         0           0.0          0.0      0.0   \n",
              "2                    NaN         0           0.0          0.0      0.0   \n",
              "3                      A         0           0.0          0.0      0.0   \n",
              "4                    NaN         0           0.0          0.0      0.0   \n",
              "...                  ...       ...           ...          ...      ...   \n",
              "539890               NaN         0           NaN          NaN      NaN   \n",
              "539891               NaN         0           NaN          NaN      NaN   \n",
              "539892               NaN         0           NaN          NaN      NaN   \n",
              "539893               NaN         0           NaN          NaN      NaN   \n",
              "539894               NaN         0           NaN          NaN      NaN   \n",
              "\n",
              "        SecurityDelay  LateAircraftDelay  \n",
              "0                 0.0                0.0  \n",
              "1                 0.0                0.0  \n",
              "2                 0.0                0.0  \n",
              "3                 0.0                0.0  \n",
              "4                 0.0                0.0  \n",
              "...               ...                ...  \n",
              "539890            NaN                NaN  \n",
              "539891            NaN                NaN  \n",
              "539892            NaN                NaN  \n",
              "539893            NaN                NaN  \n",
              "539894            NaN                NaN  \n",
              "\n",
              "[539895 rows x 29 columns]"
            ]
          },
          "execution_count": 26,
          "metadata": {},
          "output_type": "execute_result"
        }
      ],
      "source": [
        "air_df"
      ]
    },
    {
      "cell_type": "markdown",
      "id": "540d0310",
      "metadata": {
        "id": "540d0310"
      },
      "source": [
        "Let's now view some basic statistics about numeric columns."
      ]
    },
    {
      "cell_type": "code",
      "execution_count": null,
      "id": "b69b5195",
      "metadata": {
        "id": "b69b5195",
        "outputId": "e2e9b695-2db2-4f1a-b7ec-eca9e82a20f7"
      },
      "outputs": [
        {
          "data": {
            "text/html": [
              "<div>\n",
              "<style scoped>\n",
              "    .dataframe tbody tr th:only-of-type {\n",
              "        vertical-align: middle;\n",
              "    }\n",
              "\n",
              "    .dataframe tbody tr th {\n",
              "        vertical-align: top;\n",
              "    }\n",
              "\n",
              "    .dataframe thead th {\n",
              "        text-align: right;\n",
              "    }\n",
              "</style>\n",
              "<table border=\"1\" class=\"dataframe\">\n",
              "  <thead>\n",
              "    <tr style=\"text-align: right;\">\n",
              "      <th></th>\n",
              "      <th>Year</th>\n",
              "      <th>Month</th>\n",
              "      <th>DayofMonth</th>\n",
              "      <th>DayOfWeek</th>\n",
              "      <th>ActualElapsedTime</th>\n",
              "      <th>CRSElapsedTime</th>\n",
              "      <th>AirTime</th>\n",
              "      <th>ArrDelay</th>\n",
              "      <th>DepDelay</th>\n",
              "      <th>Distance</th>\n",
              "      <th>TaxiIn</th>\n",
              "      <th>TaxiOut</th>\n",
              "      <th>CarrierDelay</th>\n",
              "      <th>WeatherDelay</th>\n",
              "      <th>NASDelay</th>\n",
              "      <th>SecurityDelay</th>\n",
              "      <th>LateAircraftDelay</th>\n",
              "    </tr>\n",
              "  </thead>\n",
              "  <tbody>\n",
              "    <tr>\n",
              "      <th>count</th>\n",
              "      <td>539895.000000</td>\n",
              "      <td>539895.000000</td>\n",
              "      <td>539895.000000</td>\n",
              "      <td>539895.000000</td>\n",
              "      <td>529364.000000</td>\n",
              "      <td>539891.000000</td>\n",
              "      <td>529364.000000</td>\n",
              "      <td>529364.000000</td>\n",
              "      <td>530574.000000</td>\n",
              "      <td>539895.000000</td>\n",
              "      <td>536822.000000</td>\n",
              "      <td>537123.000000</td>\n",
              "      <td>433902.000000</td>\n",
              "      <td>433902.000000</td>\n",
              "      <td>433902.000000</td>\n",
              "      <td>433902.000000</td>\n",
              "      <td>433902.000000</td>\n",
              "    </tr>\n",
              "    <tr>\n",
              "      <th>mean</th>\n",
              "      <td>2006.538423</td>\n",
              "      <td>6.574089</td>\n",
              "      <td>15.739844</td>\n",
              "      <td>3.955869</td>\n",
              "      <td>158.032632</td>\n",
              "      <td>159.133634</td>\n",
              "      <td>134.543001</td>\n",
              "      <td>9.616848</td>\n",
              "      <td>11.161380</td>\n",
              "      <td>1052.923096</td>\n",
              "      <td>6.387948</td>\n",
              "      <td>16.598081</td>\n",
              "      <td>6.045404</td>\n",
              "      <td>0.296396</td>\n",
              "      <td>2.943395</td>\n",
              "      <td>0.018428</td>\n",
              "      <td>6.909662</td>\n",
              "    </tr>\n",
              "    <tr>\n",
              "      <th>std</th>\n",
              "      <td>1.116732</td>\n",
              "      <td>3.406552</td>\n",
              "      <td>8.789787</td>\n",
              "      <td>1.995492</td>\n",
              "      <td>100.115819</td>\n",
              "      <td>100.320627</td>\n",
              "      <td>97.309810</td>\n",
              "      <td>36.119927</td>\n",
              "      <td>34.378816</td>\n",
              "      <td>892.983650</td>\n",
              "      <td>4.966264</td>\n",
              "      <td>7.263382</td>\n",
              "      <td>23.562993</td>\n",
              "      <td>5.888101</td>\n",
              "      <td>12.646370</td>\n",
              "      <td>1.082422</td>\n",
              "      <td>24.033356</td>\n",
              "    </tr>\n",
              "    <tr>\n",
              "      <th>min</th>\n",
              "      <td>2005.000000</td>\n",
              "      <td>1.000000</td>\n",
              "      <td>1.000000</td>\n",
              "      <td>1.000000</td>\n",
              "      <td>-23.000000</td>\n",
              "      <td>20.000000</td>\n",
              "      <td>-38.000000</td>\n",
              "      <td>-82.000000</td>\n",
              "      <td>-169.000000</td>\n",
              "      <td>11.000000</td>\n",
              "      <td>0.000000</td>\n",
              "      <td>0.000000</td>\n",
              "      <td>0.000000</td>\n",
              "      <td>0.000000</td>\n",
              "      <td>0.000000</td>\n",
              "      <td>0.000000</td>\n",
              "      <td>0.000000</td>\n",
              "    </tr>\n",
              "    <tr>\n",
              "      <th>25%</th>\n",
              "      <td>2006.000000</td>\n",
              "      <td>4.000000</td>\n",
              "      <td>8.000000</td>\n",
              "      <td>2.000000</td>\n",
              "      <td>80.000000</td>\n",
              "      <td>83.000000</td>\n",
              "      <td>58.000000</td>\n",
              "      <td>-9.000000</td>\n",
              "      <td>-5.000000</td>\n",
              "      <td>337.000000</td>\n",
              "      <td>4.000000</td>\n",
              "      <td>12.000000</td>\n",
              "      <td>0.000000</td>\n",
              "      <td>0.000000</td>\n",
              "      <td>0.000000</td>\n",
              "      <td>0.000000</td>\n",
              "      <td>0.000000</td>\n",
              "    </tr>\n",
              "    <tr>\n",
              "      <th>50%</th>\n",
              "      <td>2007.000000</td>\n",
              "      <td>7.000000</td>\n",
              "      <td>16.000000</td>\n",
              "      <td>4.000000</td>\n",
              "      <td>108.000000</td>\n",
              "      <td>108.000000</td>\n",
              "      <td>86.000000</td>\n",
              "      <td>0.000000</td>\n",
              "      <td>-1.000000</td>\n",
              "      <td>599.000000</td>\n",
              "      <td>5.000000</td>\n",
              "      <td>15.000000</td>\n",
              "      <td>0.000000</td>\n",
              "      <td>0.000000</td>\n",
              "      <td>0.000000</td>\n",
              "      <td>0.000000</td>\n",
              "      <td>0.000000</td>\n",
              "    </tr>\n",
              "    <tr>\n",
              "      <th>75%</th>\n",
              "      <td>2008.000000</td>\n",
              "      <td>9.000000</td>\n",
              "      <td>23.000000</td>\n",
              "      <td>6.000000</td>\n",
              "      <td>250.000000</td>\n",
              "      <td>251.000000</td>\n",
              "      <td>222.000000</td>\n",
              "      <td>14.000000</td>\n",
              "      <td>10.000000</td>\n",
              "      <td>1846.000000</td>\n",
              "      <td>8.000000</td>\n",
              "      <td>19.000000</td>\n",
              "      <td>0.000000</td>\n",
              "      <td>0.000000</td>\n",
              "      <td>0.000000</td>\n",
              "      <td>0.000000</td>\n",
              "      <td>0.000000</td>\n",
              "    </tr>\n",
              "    <tr>\n",
              "      <th>max</th>\n",
              "      <td>2008.000000</td>\n",
              "      <td>12.000000</td>\n",
              "      <td>31.000000</td>\n",
              "      <td>7.000000</td>\n",
              "      <td>1090.000000</td>\n",
              "      <td>520.000000</td>\n",
              "      <td>1068.000000</td>\n",
              "      <td>1639.000000</td>\n",
              "      <td>1659.000000</td>\n",
              "      <td>2704.000000</td>\n",
              "      <td>199.000000</td>\n",
              "      <td>262.000000</td>\n",
              "      <td>1639.000000</td>\n",
              "      <td>621.000000</td>\n",
              "      <td>501.000000</td>\n",
              "      <td>308.000000</td>\n",
              "      <td>613.000000</td>\n",
              "    </tr>\n",
              "  </tbody>\n",
              "</table>\n",
              "</div>"
            ],
            "text/plain": [
              "                Year          Month     DayofMonth      DayOfWeek  \\\n",
              "count  539895.000000  539895.000000  539895.000000  539895.000000   \n",
              "mean     2006.538423       6.574089      15.739844       3.955869   \n",
              "std         1.116732       3.406552       8.789787       1.995492   \n",
              "min      2005.000000       1.000000       1.000000       1.000000   \n",
              "25%      2006.000000       4.000000       8.000000       2.000000   \n",
              "50%      2007.000000       7.000000      16.000000       4.000000   \n",
              "75%      2008.000000       9.000000      23.000000       6.000000   \n",
              "max      2008.000000      12.000000      31.000000       7.000000   \n",
              "\n",
              "       ActualElapsedTime  CRSElapsedTime        AirTime       ArrDelay  \\\n",
              "count      529364.000000   539891.000000  529364.000000  529364.000000   \n",
              "mean          158.032632      159.133634     134.543001       9.616848   \n",
              "std           100.115819      100.320627      97.309810      36.119927   \n",
              "min           -23.000000       20.000000     -38.000000     -82.000000   \n",
              "25%            80.000000       83.000000      58.000000      -9.000000   \n",
              "50%           108.000000      108.000000      86.000000       0.000000   \n",
              "75%           250.000000      251.000000     222.000000      14.000000   \n",
              "max          1090.000000      520.000000    1068.000000    1639.000000   \n",
              "\n",
              "            DepDelay       Distance         TaxiIn        TaxiOut  \\\n",
              "count  530574.000000  539895.000000  536822.000000  537123.000000   \n",
              "mean       11.161380    1052.923096       6.387948      16.598081   \n",
              "std        34.378816     892.983650       4.966264       7.263382   \n",
              "min      -169.000000      11.000000       0.000000       0.000000   \n",
              "25%        -5.000000     337.000000       4.000000      12.000000   \n",
              "50%        -1.000000     599.000000       5.000000      15.000000   \n",
              "75%        10.000000    1846.000000       8.000000      19.000000   \n",
              "max      1659.000000    2704.000000     199.000000     262.000000   \n",
              "\n",
              "        CarrierDelay   WeatherDelay       NASDelay  SecurityDelay  \\\n",
              "count  433902.000000  433902.000000  433902.000000  433902.000000   \n",
              "mean        6.045404       0.296396       2.943395       0.018428   \n",
              "std        23.562993       5.888101      12.646370       1.082422   \n",
              "min         0.000000       0.000000       0.000000       0.000000   \n",
              "25%         0.000000       0.000000       0.000000       0.000000   \n",
              "50%         0.000000       0.000000       0.000000       0.000000   \n",
              "75%         0.000000       0.000000       0.000000       0.000000   \n",
              "max      1639.000000     621.000000     501.000000     308.000000   \n",
              "\n",
              "       LateAircraftDelay  \n",
              "count      433902.000000  \n",
              "mean            6.909662  \n",
              "std            24.033356  \n",
              "min             0.000000  \n",
              "25%             0.000000  \n",
              "50%             0.000000  \n",
              "75%             0.000000  \n",
              "max           613.000000  "
            ]
          },
          "execution_count": 27,
          "metadata": {},
          "output_type": "execute_result"
        }
      ],
      "source": [
        "air_df.describe()"
      ]
    },
    {
      "cell_type": "code",
      "execution_count": null,
      "id": "a401f345",
      "metadata": {
        "id": "a401f345",
        "outputId": "5d100722-61a1-48e1-ea91-1cb870652a00"
      },
      "outputs": [
        {
          "data": {
            "text/plain": [
              "Year                    4\n",
              "Month                  12\n",
              "DayofMonth             31\n",
              "DayOfWeek               7\n",
              "DepTime              1206\n",
              "CRSDepTime           1060\n",
              "ArrTime              1293\n",
              "CRSArrTime           1206\n",
              "UniqueCarrier          21\n",
              "FlightNum            2327\n",
              "TailNum              3982\n",
              "ActualElapsedTime     558\n",
              "CRSElapsedTime        317\n",
              "AirTime               491\n",
              "ArrDelay              569\n",
              "DepDelay              552\n",
              "Origin                  1\n",
              "Dest                   82\n",
              "Distance               82\n",
              "TaxiIn                131\n",
              "TaxiOut               159\n",
              "Cancelled               2\n",
              "CancellationCode        4\n",
              "Diverted                2\n",
              "CarrierDelay          451\n",
              "WeatherDelay          248\n",
              "NASDelay              295\n",
              "SecurityDelay          74\n",
              "LateAircraftDelay     382\n",
              "dtype: int64"
            ]
          },
          "execution_count": 28,
          "metadata": {},
          "output_type": "execute_result"
        }
      ],
      "source": [
        "air_df.nunique()"
      ]
    },
    {
      "cell_type": "markdown",
      "id": "28392040",
      "metadata": {
        "id": "28392040"
      },
      "source": [
        "## Handling Null Values\n",
        "We can see that for each of the columns, there are alot different unique values for some of them. It makes sense that departure and arrival times are large since this is data recorded over 4 years. Flight Numbers and Tail Numbers contain many unique values as well.\n",
        "\n",
        "Are there any Null (Non - existent) values?"
      ]
    },
    {
      "cell_type": "code",
      "execution_count": null,
      "id": "e31e7a39",
      "metadata": {
        "id": "e31e7a39",
        "outputId": "05a5df3e-49bd-4df0-85f5-9398b90de723"
      },
      "outputs": [
        {
          "data": {
            "text/plain": [
              "True"
            ]
          },
          "execution_count": 29,
          "metadata": {},
          "output_type": "execute_result"
        }
      ],
      "source": [
        "air_df.isnull().values.any()"
      ]
    },
    {
      "cell_type": "markdown",
      "id": "c0d6390c",
      "metadata": {
        "id": "c0d6390c"
      },
      "source": [
        "How many values are non existent in the airline data set?"
      ]
    },
    {
      "cell_type": "code",
      "execution_count": null,
      "id": "3a10cfb4",
      "metadata": {
        "id": "3a10cfb4",
        "outputId": "20fa4304-805d-481c-86b9-4571b6c58f22"
      },
      "outputs": [
        {
          "data": {
            "text/plain": [
              "1135819"
            ]
          },
          "execution_count": 30,
          "metadata": {},
          "output_type": "execute_result"
        }
      ],
      "source": [
        "air_df.isnull().sum().sum()"
      ]
    },
    {
      "cell_type": "markdown",
      "id": "af7fe909",
      "metadata": {
        "id": "af7fe909"
      },
      "source": [
        "We can see that there are 1 million + null values in the entire dataset. Let's plot a heat map of all the Null values in the data set"
      ]
    },
    {
      "cell_type": "code",
      "execution_count": null,
      "id": "d0a9f62c",
      "metadata": {
        "id": "d0a9f62c",
        "outputId": "22ed0655-b605-4c06-c459-7ec0a1211683"
      },
      "outputs": [
        {
          "data": {
            "image/png": "[encoded data removed]",
            "text/plain": [
              "<Figure size 432x288 with 1 Axes>"
            ]
          },
          "metadata": {
            "needs_background": "light"
          },
          "output_type": "display_data"
        }
      ],
      "source": [
        "sns.heatmap(air_df.isnull(), cbar = False, cmap = 'viridis')\n",
        "plt.title(\"Heatmap of Null Values in our raw Airline Dataset\");"
      ]
    },
    {
      "cell_type": "code",
      "execution_count": null,
      "id": "663be66a",
      "metadata": {
        "id": "663be66a",
        "outputId": "6930e5f8-a8e6-4065-c5be-a222cf92d01b"
      },
      "outputs": [
        {
          "name": "stdout",
          "output_type": "stream",
          "text": [
            "<class 'pandas.core.frame.DataFrame'>\n",
            "RangeIndex: 539895 entries, 0 to 539894\n",
            "Data columns (total 29 columns):\n",
            " #   Column             Non-Null Count   Dtype  \n",
            "---  ------             --------------   -----  \n",
            " 0   Year               539895 non-null  int64  \n",
            " 1   Month              539895 non-null  int64  \n",
            " 2   DayofMonth         539895 non-null  int64  \n",
            " 3   DayOfWeek          539895 non-null  int64  \n",
            " 4   DepTime            529847 non-null  object \n",
            " 5   CRSDepTime         539889 non-null  object \n",
            " 6   ArrTime            525560 non-null  object \n",
            " 7   CRSArrTime         537349 non-null  object \n",
            " 8   UniqueCarrier      539895 non-null  object \n",
            " 9   FlightNum          539895 non-null  object \n",
            " 10  TailNum            538289 non-null  object \n",
            " 11  ActualElapsedTime  529364 non-null  float64\n",
            " 12  CRSElapsedTime     539891 non-null  float64\n",
            " 13  AirTime            529364 non-null  float64\n",
            " 14  ArrDelay           529364 non-null  float64\n",
            " 15  DepDelay           530574 non-null  float64\n",
            " 16  Origin             539895 non-null  object \n",
            " 17  Dest               539895 non-null  object \n",
            " 18  Distance           539895 non-null  int64  \n",
            " 19  TaxiIn             536822 non-null  float64\n",
            " 20  TaxiOut            537123 non-null  float64\n",
            " 21  Cancelled          539895 non-null  object \n",
            " 22  CancellationCode   9345 non-null    object \n",
            " 23  Diverted           539895 non-null  object \n",
            " 24  CarrierDelay       433902 non-null  float64\n",
            " 25  WeatherDelay       433902 non-null  float64\n",
            " 26  NASDelay           433902 non-null  float64\n",
            " 27  SecurityDelay      433902 non-null  float64\n",
            " 28  LateAircraftDelay  433902 non-null  float64\n",
            "dtypes: float64(12), int64(5), object(12)\n",
            "memory usage: 119.5+ MB\n"
          ]
        }
      ],
      "source": [
        "air_df.info()"
      ]
    },
    {
      "cell_type": "markdown",
      "id": "01a519b1",
      "metadata": {
        "id": "01a519b1"
      },
      "source": [
        "Let's select a subset of columns with relevant data for our analysis"
      ]
    },
    {
      "cell_type": "code",
      "execution_count": null,
      "id": "a7cd6c4d",
      "metadata": {
        "id": "a7cd6c4d"
      },
      "outputs": [],
      "source": [
        "selected_columns = [\n",
        "    'Year', 'Month', 'DayofMonth', 'DayOfWeek', 'DepTime', 'CRSDepTime', 'ArrTime', 'CRSArrTime', 'UniqueCarrier', 'FlightNum', \n",
        "    'TailNum','ActualElapsedTime','CRSElapsedTime','AirTime','ArrDelay', 'DepDelay','Origin', 'Dest', 'Distance',\n",
        "    'TaxiIn', 'TaxiOut', 'Cancelled','Diverted'\n",
        "]"
      ]
    },
    {
      "cell_type": "code",
      "execution_count": null,
      "id": "3081be49",
      "metadata": {
        "id": "3081be49",
        "outputId": "046dbb40-9f4c-4c99-d518-cb73c38d4abe"
      },
      "outputs": [
        {
          "data": {
            "text/plain": [
              "23"
            ]
          },
          "execution_count": 34,
          "metadata": {},
          "output_type": "execute_result"
        }
      ],
      "source": [
        "len(selected_columns)"
      ]
    },
    {
      "cell_type": "code",
      "execution_count": null,
      "id": "f1fcc40d",
      "metadata": {
        "id": "f1fcc40d"
      },
      "outputs": [],
      "source": [
        "air_sub_df = air_df[selected_columns].copy()"
      ]
    },
    {
      "cell_type": "code",
      "execution_count": null,
      "id": "430e0424",
      "metadata": {
        "id": "430e0424",
        "outputId": "0e728ae6-cb37-4cb3-8a89-c9e1b0aaa7f0"
      },
      "outputs": [
        {
          "data": {
            "text/html": [
              "<div>\n",
              "<style scoped>\n",
              "    .dataframe tbody tr th:only-of-type {\n",
              "        vertical-align: middle;\n",
              "    }\n",
              "\n",
              "    .dataframe tbody tr th {\n",
              "        vertical-align: top;\n",
              "    }\n",
              "\n",
              "    .dataframe thead th {\n",
              "        text-align: right;\n",
              "    }\n",
              "</style>\n",
              "<table border=\"1\" class=\"dataframe\">\n",
              "  <thead>\n",
              "    <tr style=\"text-align: right;\">\n",
              "      <th></th>\n",
              "      <th>Year</th>\n",
              "      <th>Month</th>\n",
              "      <th>DayofMonth</th>\n",
              "      <th>DayOfWeek</th>\n",
              "      <th>DepTime</th>\n",
              "      <th>CRSDepTime</th>\n",
              "      <th>ArrTime</th>\n",
              "      <th>CRSArrTime</th>\n",
              "      <th>UniqueCarrier</th>\n",
              "      <th>FlightNum</th>\n",
              "      <th>...</th>\n",
              "      <th>AirTime</th>\n",
              "      <th>ArrDelay</th>\n",
              "      <th>DepDelay</th>\n",
              "      <th>Origin</th>\n",
              "      <th>Dest</th>\n",
              "      <th>Distance</th>\n",
              "      <th>TaxiIn</th>\n",
              "      <th>TaxiOut</th>\n",
              "      <th>Cancelled</th>\n",
              "      <th>Diverted</th>\n",
              "    </tr>\n",
              "  </thead>\n",
              "  <tbody>\n",
              "    <tr>\n",
              "      <th>0</th>\n",
              "      <td>2005</td>\n",
              "      <td>1</td>\n",
              "      <td>1</td>\n",
              "      <td>6</td>\n",
              "      <td>12:11:00</td>\n",
              "      <td>12:16:00</td>\n",
              "      <td>14:51:00</td>\n",
              "      <td>15:02:00</td>\n",
              "      <td>UA</td>\n",
              "      <td>548</td>\n",
              "      <td>...</td>\n",
              "      <td>81.0</td>\n",
              "      <td>-11.0</td>\n",
              "      <td>-5.0</td>\n",
              "      <td>SFO</td>\n",
              "      <td>SLC</td>\n",
              "      <td>599</td>\n",
              "      <td>2.0</td>\n",
              "      <td>17.0</td>\n",
              "      <td>0</td>\n",
              "      <td>0</td>\n",
              "    </tr>\n",
              "    <tr>\n",
              "      <th>1</th>\n",
              "      <td>2005</td>\n",
              "      <td>1</td>\n",
              "      <td>2</td>\n",
              "      <td>7</td>\n",
              "      <td>12:09:00</td>\n",
              "      <td>12:16:00</td>\n",
              "      <td>14:47:00</td>\n",
              "      <td>15:02:00</td>\n",
              "      <td>UA</td>\n",
              "      <td>548</td>\n",
              "      <td>...</td>\n",
              "      <td>79.0</td>\n",
              "      <td>-15.0</td>\n",
              "      <td>-7.0</td>\n",
              "      <td>SFO</td>\n",
              "      <td>SLC</td>\n",
              "      <td>599</td>\n",
              "      <td>2.0</td>\n",
              "      <td>17.0</td>\n",
              "      <td>0</td>\n",
              "      <td>0</td>\n",
              "    </tr>\n",
              "    <tr>\n",
              "      <th>2</th>\n",
              "      <td>2005</td>\n",
              "      <td>1</td>\n",
              "      <td>3</td>\n",
              "      <td>1</td>\n",
              "      <td>12:13:00</td>\n",
              "      <td>12:16:00</td>\n",
              "      <td>14:54:00</td>\n",
              "      <td>15:02:00</td>\n",
              "      <td>UA</td>\n",
              "      <td>548</td>\n",
              "      <td>...</td>\n",
              "      <td>83.0</td>\n",
              "      <td>-8.0</td>\n",
              "      <td>-3.0</td>\n",
              "      <td>SFO</td>\n",
              "      <td>SLC</td>\n",
              "      <td>599</td>\n",
              "      <td>3.0</td>\n",
              "      <td>15.0</td>\n",
              "      <td>0</td>\n",
              "      <td>0</td>\n",
              "    </tr>\n",
              "    <tr>\n",
              "      <th>3</th>\n",
              "      <td>2005</td>\n",
              "      <td>1</td>\n",
              "      <td>4</td>\n",
              "      <td>2</td>\n",
              "      <td>NaT</td>\n",
              "      <td>12:16:00</td>\n",
              "      <td>NaT</td>\n",
              "      <td>15:02:00</td>\n",
              "      <td>UA</td>\n",
              "      <td>548</td>\n",
              "      <td>...</td>\n",
              "      <td>NaN</td>\n",
              "      <td>NaN</td>\n",
              "      <td>NaN</td>\n",
              "      <td>SFO</td>\n",
              "      <td>SLC</td>\n",
              "      <td>599</td>\n",
              "      <td>0.0</td>\n",
              "      <td>0.0</td>\n",
              "      <td>1</td>\n",
              "      <td>0</td>\n",
              "    </tr>\n",
              "    <tr>\n",
              "      <th>4</th>\n",
              "      <td>2005</td>\n",
              "      <td>1</td>\n",
              "      <td>5</td>\n",
              "      <td>3</td>\n",
              "      <td>12:11:00</td>\n",
              "      <td>12:16:00</td>\n",
              "      <td>15:04:00</td>\n",
              "      <td>15:02:00</td>\n",
              "      <td>UA</td>\n",
              "      <td>548</td>\n",
              "      <td>...</td>\n",
              "      <td>85.0</td>\n",
              "      <td>2.0</td>\n",
              "      <td>-5.0</td>\n",
              "      <td>SFO</td>\n",
              "      <td>SLC</td>\n",
              "      <td>599</td>\n",
              "      <td>6.0</td>\n",
              "      <td>22.0</td>\n",
              "      <td>0</td>\n",
              "      <td>0</td>\n",
              "    </tr>\n",
              "    <tr>\n",
              "      <th>...</th>\n",
              "      <td>...</td>\n",
              "      <td>...</td>\n",
              "      <td>...</td>\n",
              "      <td>...</td>\n",
              "      <td>...</td>\n",
              "      <td>...</td>\n",
              "      <td>...</td>\n",
              "      <td>...</td>\n",
              "      <td>...</td>\n",
              "      <td>...</td>\n",
              "      <td>...</td>\n",
              "      <td>...</td>\n",
              "      <td>...</td>\n",
              "      <td>...</td>\n",
              "      <td>...</td>\n",
              "      <td>...</td>\n",
              "      <td>...</td>\n",
              "      <td>...</td>\n",
              "      <td>...</td>\n",
              "      <td>...</td>\n",
              "      <td>...</td>\n",
              "    </tr>\n",
              "    <tr>\n",
              "      <th>539890</th>\n",
              "      <td>2008</td>\n",
              "      <td>12</td>\n",
              "      <td>13</td>\n",
              "      <td>6</td>\n",
              "      <td>08:48:00</td>\n",
              "      <td>08:50:00</td>\n",
              "      <td>15:52:00</td>\n",
              "      <td>16:25:00</td>\n",
              "      <td>DL</td>\n",
              "      <td>1066</td>\n",
              "      <td>...</td>\n",
              "      <td>223.0</td>\n",
              "      <td>-33.0</td>\n",
              "      <td>-2.0</td>\n",
              "      <td>SFO</td>\n",
              "      <td>ATL</td>\n",
              "      <td>2139</td>\n",
              "      <td>7.0</td>\n",
              "      <td>14.0</td>\n",
              "      <td>0</td>\n",
              "      <td>0</td>\n",
              "    </tr>\n",
              "    <tr>\n",
              "      <th>539891</th>\n",
              "      <td>2008</td>\n",
              "      <td>12</td>\n",
              "      <td>13</td>\n",
              "      <td>6</td>\n",
              "      <td>13:15:00</td>\n",
              "      <td>13:18:00</td>\n",
              "      <td>20:40:00</td>\n",
              "      <td>20:49:00</td>\n",
              "      <td>DL</td>\n",
              "      <td>1070</td>\n",
              "      <td>...</td>\n",
              "      <td>235.0</td>\n",
              "      <td>-9.0</td>\n",
              "      <td>-3.0</td>\n",
              "      <td>SFO</td>\n",
              "      <td>ATL</td>\n",
              "      <td>2139</td>\n",
              "      <td>12.0</td>\n",
              "      <td>18.0</td>\n",
              "      <td>0</td>\n",
              "      <td>0</td>\n",
              "    </tr>\n",
              "    <tr>\n",
              "      <th>539892</th>\n",
              "      <td>2008</td>\n",
              "      <td>12</td>\n",
              "      <td>13</td>\n",
              "      <td>6</td>\n",
              "      <td>23:03:00</td>\n",
              "      <td>23:00:00</td>\n",
              "      <td>06:11:00</td>\n",
              "      <td>06:27:00</td>\n",
              "      <td>DL</td>\n",
              "      <td>1074</td>\n",
              "      <td>...</td>\n",
              "      <td>229.0</td>\n",
              "      <td>-16.0</td>\n",
              "      <td>3.0</td>\n",
              "      <td>SFO</td>\n",
              "      <td>ATL</td>\n",
              "      <td>2139</td>\n",
              "      <td>9.0</td>\n",
              "      <td>10.0</td>\n",
              "      <td>0</td>\n",
              "      <td>0</td>\n",
              "    </tr>\n",
              "    <tr>\n",
              "      <th>539893</th>\n",
              "      <td>2008</td>\n",
              "      <td>12</td>\n",
              "      <td>13</td>\n",
              "      <td>6</td>\n",
              "      <td>07:51:00</td>\n",
              "      <td>08:00:00</td>\n",
              "      <td>14:59:00</td>\n",
              "      <td>15:23:00</td>\n",
              "      <td>DL</td>\n",
              "      <td>1096</td>\n",
              "      <td>...</td>\n",
              "      <td>227.0</td>\n",
              "      <td>-24.0</td>\n",
              "      <td>-9.0</td>\n",
              "      <td>SFO</td>\n",
              "      <td>CVG</td>\n",
              "      <td>2036</td>\n",
              "      <td>5.0</td>\n",
              "      <td>16.0</td>\n",
              "      <td>0</td>\n",
              "      <td>0</td>\n",
              "    </tr>\n",
              "    <tr>\n",
              "      <th>539894</th>\n",
              "      <td>2008</td>\n",
              "      <td>12</td>\n",
              "      <td>13</td>\n",
              "      <td>6</td>\n",
              "      <td>11:34:00</td>\n",
              "      <td>11:34:00</td>\n",
              "      <td>18:33:00</td>\n",
              "      <td>18:55:00</td>\n",
              "      <td>DL</td>\n",
              "      <td>1594</td>\n",
              "      <td>...</td>\n",
              "      <td>220.0</td>\n",
              "      <td>-22.0</td>\n",
              "      <td>0.0</td>\n",
              "      <td>SFO</td>\n",
              "      <td>CVG</td>\n",
              "      <td>2036</td>\n",
              "      <td>6.0</td>\n",
              "      <td>13.0</td>\n",
              "      <td>0</td>\n",
              "      <td>0</td>\n",
              "    </tr>\n",
              "  </tbody>\n",
              "</table>\n",
              "<p>539895 rows × 23 columns</p>\n",
              "</div>"
            ],
            "text/plain": [
              "        Year  Month  DayofMonth  DayOfWeek   DepTime CRSDepTime   ArrTime  \\\n",
              "0       2005      1           1          6  12:11:00   12:16:00  14:51:00   \n",
              "1       2005      1           2          7  12:09:00   12:16:00  14:47:00   \n",
              "2       2005      1           3          1  12:13:00   12:16:00  14:54:00   \n",
              "3       2005      1           4          2       NaT   12:16:00       NaT   \n",
              "4       2005      1           5          3  12:11:00   12:16:00  15:04:00   \n",
              "...      ...    ...         ...        ...       ...        ...       ...   \n",
              "539890  2008     12          13          6  08:48:00   08:50:00  15:52:00   \n",
              "539891  2008     12          13          6  13:15:00   13:18:00  20:40:00   \n",
              "539892  2008     12          13          6  23:03:00   23:00:00  06:11:00   \n",
              "539893  2008     12          13          6  07:51:00   08:00:00  14:59:00   \n",
              "539894  2008     12          13          6  11:34:00   11:34:00  18:33:00   \n",
              "\n",
              "       CRSArrTime UniqueCarrier FlightNum  ... AirTime  ArrDelay  DepDelay  \\\n",
              "0        15:02:00            UA       548  ...    81.0     -11.0      -5.0   \n",
              "1        15:02:00            UA       548  ...    79.0     -15.0      -7.0   \n",
              "2        15:02:00            UA       548  ...    83.0      -8.0      -3.0   \n",
              "3        15:02:00            UA       548  ...     NaN       NaN       NaN   \n",
              "4        15:02:00            UA       548  ...    85.0       2.0      -5.0   \n",
              "...           ...           ...       ...  ...     ...       ...       ...   \n",
              "539890   16:25:00            DL      1066  ...   223.0     -33.0      -2.0   \n",
              "539891   20:49:00            DL      1070  ...   235.0      -9.0      -3.0   \n",
              "539892   06:27:00            DL      1074  ...   229.0     -16.0       3.0   \n",
              "539893   15:23:00            DL      1096  ...   227.0     -24.0      -9.0   \n",
              "539894   18:55:00            DL      1594  ...   220.0     -22.0       0.0   \n",
              "\n",
              "        Origin  Dest  Distance TaxiIn TaxiOut  Cancelled  Diverted  \n",
              "0          SFO   SLC       599    2.0    17.0          0         0  \n",
              "1          SFO   SLC       599    2.0    17.0          0         0  \n",
              "2          SFO   SLC       599    3.0    15.0          0         0  \n",
              "3          SFO   SLC       599    0.0     0.0          1         0  \n",
              "4          SFO   SLC       599    6.0    22.0          0         0  \n",
              "...        ...   ...       ...    ...     ...        ...       ...  \n",
              "539890     SFO   ATL      2139    7.0    14.0          0         0  \n",
              "539891     SFO   ATL      2139   12.0    18.0          0         0  \n",
              "539892     SFO   ATL      2139    9.0    10.0          0         0  \n",
              "539893     SFO   CVG      2036    5.0    16.0          0         0  \n",
              "539894     SFO   CVG      2036    6.0    13.0          0         0  \n",
              "\n",
              "[539895 rows x 23 columns]"
            ]
          },
          "execution_count": 36,
          "metadata": {},
          "output_type": "execute_result"
        }
      ],
      "source": [
        "air_sub_df"
      ]
    },
    {
      "cell_type": "markdown",
      "id": "13ce8c6d",
      "metadata": {
        "id": "13ce8c6d"
      },
      "source": [
        "Let's plot a heat map of all the Null values in our subset"
      ]
    },
    {
      "cell_type": "code",
      "execution_count": null,
      "id": "83381354",
      "metadata": {
        "id": "83381354",
        "outputId": "237e3b2f-136b-4668-b16f-2aff5094efea"
      },
      "outputs": [
        {
          "data": {
            "image/png": "[encoded data removed]",
            "text/plain": [
              "<Figure size 432x288 with 1 Axes>"
            ]
          },
          "metadata": {
            "needs_background": "light"
          },
          "output_type": "display_data"
        }
      ],
      "source": [
        "sns.heatmap(air_sub_df.isnull(), cbar = False, cmap = 'viridis')\n",
        "plt.title(\"Heatmap of null values in our Airline subset\");"
      ]
    },
    {
      "cell_type": "markdown",
      "id": "32522a96",
      "metadata": {
        "id": "32522a96"
      },
      "source": [
        "Locate them in our sub set - new data set"
      ]
    },
    {
      "cell_type": "code",
      "execution_count": null,
      "id": "6ddcb887",
      "metadata": {
        "id": "6ddcb887",
        "outputId": "fa8c9dde-4fa3-46a0-9ed7-8f59a5b84191"
      },
      "outputs": [
        {
          "data": {
            "text/html": [
              "<div>\n",
              "<style scoped>\n",
              "    .dataframe tbody tr th:only-of-type {\n",
              "        vertical-align: middle;\n",
              "    }\n",
              "\n",
              "    .dataframe tbody tr th {\n",
              "        vertical-align: top;\n",
              "    }\n",
              "\n",
              "    .dataframe thead th {\n",
              "        text-align: right;\n",
              "    }\n",
              "</style>\n",
              "<table border=\"1\" class=\"dataframe\">\n",
              "  <thead>\n",
              "    <tr style=\"text-align: right;\">\n",
              "      <th></th>\n",
              "      <th>DepTime</th>\n",
              "      <th>CRSDepTime</th>\n",
              "      <th>ArrTime</th>\n",
              "      <th>CRSArrTime</th>\n",
              "      <th>TailNum</th>\n",
              "      <th>ActualElapsedTime</th>\n",
              "      <th>CRSElapsedTime</th>\n",
              "      <th>AirTime</th>\n",
              "      <th>ArrDelay</th>\n",
              "      <th>DepDelay</th>\n",
              "      <th>TaxiIn</th>\n",
              "      <th>TaxiOut</th>\n",
              "    </tr>\n",
              "  </thead>\n",
              "  <tbody>\n",
              "    <tr>\n",
              "      <th>0</th>\n",
              "      <td>12:11:00</td>\n",
              "      <td>12:16:00</td>\n",
              "      <td>14:51:00</td>\n",
              "      <td>15:02:00</td>\n",
              "      <td>N341UA</td>\n",
              "      <td>100.0</td>\n",
              "      <td>106.0</td>\n",
              "      <td>81.0</td>\n",
              "      <td>-11.0</td>\n",
              "      <td>-5.0</td>\n",
              "      <td>2.0</td>\n",
              "      <td>17.0</td>\n",
              "    </tr>\n",
              "    <tr>\n",
              "      <th>1</th>\n",
              "      <td>12:09:00</td>\n",
              "      <td>12:16:00</td>\n",
              "      <td>14:47:00</td>\n",
              "      <td>15:02:00</td>\n",
              "      <td>N398UA</td>\n",
              "      <td>98.0</td>\n",
              "      <td>106.0</td>\n",
              "      <td>79.0</td>\n",
              "      <td>-15.0</td>\n",
              "      <td>-7.0</td>\n",
              "      <td>2.0</td>\n",
              "      <td>17.0</td>\n",
              "    </tr>\n",
              "    <tr>\n",
              "      <th>2</th>\n",
              "      <td>12:13:00</td>\n",
              "      <td>12:16:00</td>\n",
              "      <td>14:54:00</td>\n",
              "      <td>15:02:00</td>\n",
              "      <td>N303UA</td>\n",
              "      <td>101.0</td>\n",
              "      <td>106.0</td>\n",
              "      <td>83.0</td>\n",
              "      <td>-8.0</td>\n",
              "      <td>-3.0</td>\n",
              "      <td>3.0</td>\n",
              "      <td>15.0</td>\n",
              "    </tr>\n",
              "    <tr>\n",
              "      <th>3</th>\n",
              "      <td>NaT</td>\n",
              "      <td>12:16:00</td>\n",
              "      <td>NaT</td>\n",
              "      <td>15:02:00</td>\n",
              "      <td>000000</td>\n",
              "      <td>NaN</td>\n",
              "      <td>106.0</td>\n",
              "      <td>NaN</td>\n",
              "      <td>NaN</td>\n",
              "      <td>NaN</td>\n",
              "      <td>0.0</td>\n",
              "      <td>0.0</td>\n",
              "    </tr>\n",
              "    <tr>\n",
              "      <th>4</th>\n",
              "      <td>12:11:00</td>\n",
              "      <td>12:16:00</td>\n",
              "      <td>15:04:00</td>\n",
              "      <td>15:02:00</td>\n",
              "      <td>N917UA</td>\n",
              "      <td>113.0</td>\n",
              "      <td>106.0</td>\n",
              "      <td>85.0</td>\n",
              "      <td>2.0</td>\n",
              "      <td>-5.0</td>\n",
              "      <td>6.0</td>\n",
              "      <td>22.0</td>\n",
              "    </tr>\n",
              "  </tbody>\n",
              "</table>\n",
              "</div>"
            ],
            "text/plain": [
              "    DepTime CRSDepTime   ArrTime CRSArrTime TailNum  ActualElapsedTime  \\\n",
              "0  12:11:00   12:16:00  14:51:00   15:02:00  N341UA              100.0   \n",
              "1  12:09:00   12:16:00  14:47:00   15:02:00  N398UA               98.0   \n",
              "2  12:13:00   12:16:00  14:54:00   15:02:00  N303UA              101.0   \n",
              "3       NaT   12:16:00       NaT   15:02:00  000000                NaN   \n",
              "4  12:11:00   12:16:00  15:04:00   15:02:00  N917UA              113.0   \n",
              "\n",
              "   CRSElapsedTime  AirTime  ArrDelay  DepDelay  TaxiIn  TaxiOut  \n",
              "0           106.0     81.0     -11.0      -5.0     2.0     17.0  \n",
              "1           106.0     79.0     -15.0      -7.0     2.0     17.0  \n",
              "2           106.0     83.0      -8.0      -3.0     3.0     15.0  \n",
              "3           106.0      NaN       NaN       NaN     0.0      0.0  \n",
              "4           106.0     85.0       2.0      -5.0     6.0     22.0  "
            ]
          },
          "execution_count": 38,
          "metadata": {},
          "output_type": "execute_result"
        }
      ],
      "source": [
        "air_sub_df.loc[:, air_sub_df.isnull().any()].head()"
      ]
    },
    {
      "cell_type": "markdown",
      "id": "dafd1eef",
      "metadata": {
        "id": "dafd1eef"
      },
      "source": [
        "Let's look at the shape of the dataset and compare with the number of missing values"
      ]
    },
    {
      "cell_type": "code",
      "execution_count": null,
      "id": "977f96f8",
      "metadata": {
        "id": "977f96f8",
        "outputId": "dbf2c198-ec2d-4ca6-d4da-fc446cb574c8"
      },
      "outputs": [
        {
          "data": {
            "text/plain": [
              "(539895, 23)"
            ]
          },
          "execution_count": 39,
          "metadata": {},
          "output_type": "execute_result"
        }
      ],
      "source": [
        "air_sub_df.shape"
      ]
    },
    {
      "cell_type": "code",
      "execution_count": null,
      "id": "43e41988",
      "metadata": {
        "id": "43e41988",
        "outputId": "d861e09e-16cc-4008-b7b0-fcdb0dbb8132"
      },
      "outputs": [
        {
          "data": {
            "text/plain": [
              "75304"
            ]
          },
          "execution_count": 40,
          "metadata": {},
          "output_type": "execute_result"
        }
      ],
      "source": [
        "air_sub_df.isnull().sum().sum()"
      ]
    },
    {
      "cell_type": "markdown",
      "id": "81269806",
      "metadata": {
        "id": "81269806"
      },
      "source": [
        "The dataset has 75,304 missing values. Let's examine their distribution"
      ]
    },
    {
      "cell_type": "code",
      "execution_count": null,
      "id": "9f86738e",
      "metadata": {
        "id": "9f86738e",
        "outputId": "ecb97b86-da17-457b-d749-bfcb087729c1"
      },
      "outputs": [
        {
          "data": {
            "text/plain": [
              "Year                     0\n",
              "Month                    0\n",
              "DayofMonth               0\n",
              "DayOfWeek                0\n",
              "DepTime              10048\n",
              "CRSDepTime               6\n",
              "ArrTime              14335\n",
              "CRSArrTime            2546\n",
              "UniqueCarrier            0\n",
              "FlightNum                0\n",
              "TailNum               1606\n",
              "ActualElapsedTime    10531\n",
              "CRSElapsedTime           4\n",
              "AirTime              10531\n",
              "ArrDelay             10531\n",
              "DepDelay              9321\n",
              "Origin                   0\n",
              "Dest                     0\n",
              "Distance                 0\n",
              "TaxiIn                3073\n",
              "TaxiOut               2772\n",
              "Cancelled                0\n",
              "Diverted                 0\n",
              "dtype: int64"
            ]
          },
          "execution_count": 41,
          "metadata": {},
          "output_type": "execute_result"
        }
      ],
      "source": [
        "air_sub_df.isnull().sum()"
      ]
    },
    {
      "cell_type": "markdown",
      "id": "3808948c",
      "metadata": {
        "id": "3808948c"
      },
      "source": [
        "Majority of the missing values are related to time records. Each variable/feature has 539,985 entries. I will therefore drop the missing values as they range from 2700 to 14000 (0.6% to less than 3%) of our observations "
      ]
    },
    {
      "cell_type": "code",
      "execution_count": null,
      "id": "6b0f6f99",
      "metadata": {
        "id": "6b0f6f99"
      },
      "outputs": [],
      "source": [
        "air_sub_df = air_sub_df.dropna()"
      ]
    },
    {
      "cell_type": "code",
      "execution_count": null,
      "id": "b802a691",
      "metadata": {
        "id": "b802a691",
        "outputId": "cb397cec-d234-4b53-a970-edb90df2d005"
      },
      "outputs": [
        {
          "data": {
            "text/plain": [
              "0"
            ]
          },
          "execution_count": 43,
          "metadata": {},
          "output_type": "execute_result"
        }
      ],
      "source": [
        "air_sub_df.isnull().sum().sum()"
      ]
    },
    {
      "cell_type": "markdown",
      "id": "a7cb0284",
      "metadata": {
        "id": "a7cb0284"
      },
      "source": [
        "Let's plot a heatmap of the processed data "
      ]
    },
    {
      "cell_type": "code",
      "execution_count": null,
      "id": "d9f730fd",
      "metadata": {
        "id": "d9f730fd",
        "outputId": "8c4ea871-078c-4958-fb6e-d67847a6b128"
      },
      "outputs": [
        {
          "data": {
            "image/png": "[encoded data removed]",
            "text/plain": [
              "<Figure size 432x288 with 1 Axes>"
            ]
          },
          "metadata": {
            "needs_background": "light"
          },
          "output_type": "display_data"
        }
      ],
      "source": [
        "sns.heatmap(air_sub_df.isnull(), cbar = False, cmap = 'viridis')\n",
        "plt.title('Heatmap of Null values in our processed Airline data');"
      ]
    },
    {
      "cell_type": "code",
      "execution_count": null,
      "id": "f119e137",
      "metadata": {
        "id": "f119e137",
        "outputId": "b46e20e1-1ab0-49fc-ea20-68bee407a607"
      },
      "outputs": [
        {
          "data": {
            "text/html": [
              "<div>\n",
              "<style scoped>\n",
              "    .dataframe tbody tr th:only-of-type {\n",
              "        vertical-align: middle;\n",
              "    }\n",
              "\n",
              "    .dataframe tbody tr th {\n",
              "        vertical-align: top;\n",
              "    }\n",
              "\n",
              "    .dataframe thead th {\n",
              "        text-align: right;\n",
              "    }\n",
              "</style>\n",
              "<table border=\"1\" class=\"dataframe\">\n",
              "  <thead>\n",
              "    <tr style=\"text-align: right;\">\n",
              "      <th></th>\n",
              "    </tr>\n",
              "  </thead>\n",
              "  <tbody>\n",
              "    <tr>\n",
              "      <th>0</th>\n",
              "    </tr>\n",
              "    <tr>\n",
              "      <th>1</th>\n",
              "    </tr>\n",
              "    <tr>\n",
              "      <th>2</th>\n",
              "    </tr>\n",
              "    <tr>\n",
              "      <th>4</th>\n",
              "    </tr>\n",
              "    <tr>\n",
              "      <th>5</th>\n",
              "    </tr>\n",
              "  </tbody>\n",
              "</table>\n",
              "</div>"
            ],
            "text/plain": [
              "Empty DataFrame\n",
              "Columns: []\n",
              "Index: [0, 1, 2, 4, 5]"
            ]
          },
          "execution_count": 45,
          "metadata": {},
          "output_type": "execute_result"
        }
      ],
      "source": [
        "# Alternatively Locate missing values in processed data\n",
        "\n",
        "air_sub_df.loc[:, air_sub_df.isnull().any()].head()"
      ]
    },
    {
      "cell_type": "markdown",
      "id": "b1cfbb27",
      "metadata": {
        "id": "b1cfbb27"
      },
      "source": [
        "## Save and upload your notebook\n",
        "Whether you're running this Jupyter notebook online or on your computer, it's essential to save your work from time to time. You can continue working on a saved notebook later or share it with friends and colleagues to let them execute your code. Jovian offers an easy way of saving and sharing your Jupyter notebooks online."
      ]
    },
    {
      "cell_type": "code",
      "execution_count": null,
      "id": "9a79f2bf",
      "metadata": {
        "id": "9a79f2bf"
      },
      "outputs": [],
      "source": [
        "import jovian"
      ]
    },
    {
      "cell_type": "code",
      "execution_count": null,
      "id": "ae72de2b",
      "metadata": {
        "id": "ae72de2b",
        "outputId": "7a3946dc-9ee2-43e5-d4ee-a2bb6c4043ad"
      },
      "outputs": [
        {
          "data": {
            "application/javascript": [
              "window.require && require([\"base/js/namespace\"],function(Jupyter){Jupyter.notebook.save_checkpoint()})"
            ],
            "text/plain": [
              "<IPython.core.display.Javascript object>"
            ]
          },
          "metadata": {},
          "output_type": "display_data"
        },
        {
          "name": "stdout",
          "output_type": "stream",
          "text": [
            "[jovian] Updating notebook \"mitchell-odili/commercial-air-travel-analysis\" on https://jovian.ai/\u001b[0m\n",
            "[jovian] Committed successfully! https://jovian.ai/mitchell-odili/commercial-air-travel-analysis\u001b[0m\n"
          ]
        },
        {
          "data": {
            "text/plain": [
              "'https://jovian.ai/mitchell-odili/commercial-air-travel-analysis'"
            ]
          },
          "execution_count": 47,
          "metadata": {},
          "output_type": "execute_result"
        }
      ],
      "source": [
        "# Execute this to save new versions of the notebook\n",
        "jovian.commit(project=\"commercial-air-travel-analysis\")"
      ]
    },
    {
      "cell_type": "markdown",
      "id": "53a5e0d4",
      "metadata": {
        "id": "53a5e0d4"
      },
      "source": [
        "## Exploratory Data Analysis and Visualization\n"
      ]
    },
    {
      "cell_type": "markdown",
      "id": "f9957476",
      "metadata": {
        "id": "f9957476"
      },
      "source": [
        "First we will begin analysis on the processed airline dataset to understand key essential components that make up the dataset. Revisiting the data, let us see how it looked like again."
      ]
    },
    {
      "cell_type": "code",
      "execution_count": null,
      "id": "a5652784",
      "metadata": {
        "id": "a5652784",
        "outputId": "18a1af4f-bbcd-47f1-c670-41b5daa9e500"
      },
      "outputs": [
        {
          "data": {
            "text/html": [
              "<div>\n",
              "<style scoped>\n",
              "    .dataframe tbody tr th:only-of-type {\n",
              "        vertical-align: middle;\n",
              "    }\n",
              "\n",
              "    .dataframe tbody tr th {\n",
              "        vertical-align: top;\n",
              "    }\n",
              "\n",
              "    .dataframe thead th {\n",
              "        text-align: right;\n",
              "    }\n",
              "</style>\n",
              "<table border=\"1\" class=\"dataframe\">\n",
              "  <thead>\n",
              "    <tr style=\"text-align: right;\">\n",
              "      <th></th>\n",
              "      <th>Year</th>\n",
              "      <th>Month</th>\n",
              "      <th>DayofMonth</th>\n",
              "      <th>DayOfWeek</th>\n",
              "      <th>DepTime</th>\n",
              "      <th>CRSDepTime</th>\n",
              "      <th>ArrTime</th>\n",
              "      <th>CRSArrTime</th>\n",
              "      <th>UniqueCarrier</th>\n",
              "      <th>FlightNum</th>\n",
              "      <th>...</th>\n",
              "      <th>AirTime</th>\n",
              "      <th>ArrDelay</th>\n",
              "      <th>DepDelay</th>\n",
              "      <th>Origin</th>\n",
              "      <th>Dest</th>\n",
              "      <th>Distance</th>\n",
              "      <th>TaxiIn</th>\n",
              "      <th>TaxiOut</th>\n",
              "      <th>Cancelled</th>\n",
              "      <th>Diverted</th>\n",
              "    </tr>\n",
              "  </thead>\n",
              "  <tbody>\n",
              "    <tr>\n",
              "      <th>0</th>\n",
              "      <td>2005</td>\n",
              "      <td>1</td>\n",
              "      <td>1</td>\n",
              "      <td>6</td>\n",
              "      <td>12:11:00</td>\n",
              "      <td>12:16:00</td>\n",
              "      <td>14:51:00</td>\n",
              "      <td>15:02:00</td>\n",
              "      <td>UA</td>\n",
              "      <td>548</td>\n",
              "      <td>...</td>\n",
              "      <td>81.0</td>\n",
              "      <td>-11.0</td>\n",
              "      <td>-5.0</td>\n",
              "      <td>SFO</td>\n",
              "      <td>SLC</td>\n",
              "      <td>599</td>\n",
              "      <td>2.0</td>\n",
              "      <td>17.0</td>\n",
              "      <td>0</td>\n",
              "      <td>0</td>\n",
              "    </tr>\n",
              "    <tr>\n",
              "      <th>1</th>\n",
              "      <td>2005</td>\n",
              "      <td>1</td>\n",
              "      <td>2</td>\n",
              "      <td>7</td>\n",
              "      <td>12:09:00</td>\n",
              "      <td>12:16:00</td>\n",
              "      <td>14:47:00</td>\n",
              "      <td>15:02:00</td>\n",
              "      <td>UA</td>\n",
              "      <td>548</td>\n",
              "      <td>...</td>\n",
              "      <td>79.0</td>\n",
              "      <td>-15.0</td>\n",
              "      <td>-7.0</td>\n",
              "      <td>SFO</td>\n",
              "      <td>SLC</td>\n",
              "      <td>599</td>\n",
              "      <td>2.0</td>\n",
              "      <td>17.0</td>\n",
              "      <td>0</td>\n",
              "      <td>0</td>\n",
              "    </tr>\n",
              "    <tr>\n",
              "      <th>2</th>\n",
              "      <td>2005</td>\n",
              "      <td>1</td>\n",
              "      <td>3</td>\n",
              "      <td>1</td>\n",
              "      <td>12:13:00</td>\n",
              "      <td>12:16:00</td>\n",
              "      <td>14:54:00</td>\n",
              "      <td>15:02:00</td>\n",
              "      <td>UA</td>\n",
              "      <td>548</td>\n",
              "      <td>...</td>\n",
              "      <td>83.0</td>\n",
              "      <td>-8.0</td>\n",
              "      <td>-3.0</td>\n",
              "      <td>SFO</td>\n",
              "      <td>SLC</td>\n",
              "      <td>599</td>\n",
              "      <td>3.0</td>\n",
              "      <td>15.0</td>\n",
              "      <td>0</td>\n",
              "      <td>0</td>\n",
              "    </tr>\n",
              "    <tr>\n",
              "      <th>4</th>\n",
              "      <td>2005</td>\n",
              "      <td>1</td>\n",
              "      <td>5</td>\n",
              "      <td>3</td>\n",
              "      <td>12:11:00</td>\n",
              "      <td>12:16:00</td>\n",
              "      <td>15:04:00</td>\n",
              "      <td>15:02:00</td>\n",
              "      <td>UA</td>\n",
              "      <td>548</td>\n",
              "      <td>...</td>\n",
              "      <td>85.0</td>\n",
              "      <td>2.0</td>\n",
              "      <td>-5.0</td>\n",
              "      <td>SFO</td>\n",
              "      <td>SLC</td>\n",
              "      <td>599</td>\n",
              "      <td>6.0</td>\n",
              "      <td>22.0</td>\n",
              "      <td>0</td>\n",
              "      <td>0</td>\n",
              "    </tr>\n",
              "    <tr>\n",
              "      <th>5</th>\n",
              "      <td>2005</td>\n",
              "      <td>1</td>\n",
              "      <td>6</td>\n",
              "      <td>4</td>\n",
              "      <td>12:14:00</td>\n",
              "      <td>12:15:00</td>\n",
              "      <td>15:06:00</td>\n",
              "      <td>15:05:00</td>\n",
              "      <td>UA</td>\n",
              "      <td>548</td>\n",
              "      <td>...</td>\n",
              "      <td>95.0</td>\n",
              "      <td>1.0</td>\n",
              "      <td>-1.0</td>\n",
              "      <td>SFO</td>\n",
              "      <td>SLC</td>\n",
              "      <td>599</td>\n",
              "      <td>6.0</td>\n",
              "      <td>11.0</td>\n",
              "      <td>0</td>\n",
              "      <td>0</td>\n",
              "    </tr>\n",
              "  </tbody>\n",
              "</table>\n",
              "<p>5 rows × 23 columns</p>\n",
              "</div>"
            ],
            "text/plain": [
              "   Year  Month  DayofMonth  DayOfWeek   DepTime CRSDepTime   ArrTime  \\\n",
              "0  2005      1           1          6  12:11:00   12:16:00  14:51:00   \n",
              "1  2005      1           2          7  12:09:00   12:16:00  14:47:00   \n",
              "2  2005      1           3          1  12:13:00   12:16:00  14:54:00   \n",
              "4  2005      1           5          3  12:11:00   12:16:00  15:04:00   \n",
              "5  2005      1           6          4  12:14:00   12:15:00  15:06:00   \n",
              "\n",
              "  CRSArrTime UniqueCarrier FlightNum  ... AirTime  ArrDelay  DepDelay  Origin  \\\n",
              "0   15:02:00            UA       548  ...    81.0     -11.0      -5.0     SFO   \n",
              "1   15:02:00            UA       548  ...    79.0     -15.0      -7.0     SFO   \n",
              "2   15:02:00            UA       548  ...    83.0      -8.0      -3.0     SFO   \n",
              "4   15:02:00            UA       548  ...    85.0       2.0      -5.0     SFO   \n",
              "5   15:05:00            UA       548  ...    95.0       1.0      -1.0     SFO   \n",
              "\n",
              "   Dest  Distance TaxiIn TaxiOut  Cancelled  Diverted  \n",
              "0   SLC       599    2.0    17.0          0         0  \n",
              "1   SLC       599    2.0    17.0          0         0  \n",
              "2   SLC       599    3.0    15.0          0         0  \n",
              "4   SLC       599    6.0    22.0          0         0  \n",
              "5   SLC       599    6.0    11.0          0         0  \n",
              "\n",
              "[5 rows x 23 columns]"
            ]
          },
          "execution_count": 48,
          "metadata": {},
          "output_type": "execute_result"
        }
      ],
      "source": [
        "air_sub_df.head()"
      ]
    },
    {
      "cell_type": "markdown",
      "id": "5785766c",
      "metadata": {
        "id": "5785766c"
      },
      "source": [
        "Let's now view some basic statistics about numeric columns."
      ]
    },
    {
      "cell_type": "code",
      "execution_count": null,
      "id": "172c1d68",
      "metadata": {
        "id": "172c1d68",
        "outputId": "78369542-d22e-4a43-f67b-bf7ac0b4005e"
      },
      "outputs": [
        {
          "data": {
            "text/html": [
              "<div>\n",
              "<style scoped>\n",
              "    .dataframe tbody tr th:only-of-type {\n",
              "        vertical-align: middle;\n",
              "    }\n",
              "\n",
              "    .dataframe tbody tr th {\n",
              "        vertical-align: top;\n",
              "    }\n",
              "\n",
              "    .dataframe thead th {\n",
              "        text-align: right;\n",
              "    }\n",
              "</style>\n",
              "<table border=\"1\" class=\"dataframe\">\n",
              "  <thead>\n",
              "    <tr style=\"text-align: right;\">\n",
              "      <th></th>\n",
              "      <th>Year</th>\n",
              "      <th>Month</th>\n",
              "      <th>DayofMonth</th>\n",
              "      <th>DayOfWeek</th>\n",
              "      <th>ActualElapsedTime</th>\n",
              "      <th>CRSElapsedTime</th>\n",
              "      <th>AirTime</th>\n",
              "      <th>ArrDelay</th>\n",
              "      <th>DepDelay</th>\n",
              "      <th>Distance</th>\n",
              "      <th>TaxiIn</th>\n",
              "      <th>TaxiOut</th>\n",
              "    </tr>\n",
              "  </thead>\n",
              "  <tbody>\n",
              "    <tr>\n",
              "      <th>count</th>\n",
              "      <td>522870.000000</td>\n",
              "      <td>522870.000000</td>\n",
              "      <td>522870.000000</td>\n",
              "      <td>522870.000000</td>\n",
              "      <td>522870.000000</td>\n",
              "      <td>522870.000000</td>\n",
              "      <td>522870.000000</td>\n",
              "      <td>522870.000000</td>\n",
              "      <td>522870.000000</td>\n",
              "      <td>522870.000000</td>\n",
              "      <td>522870.000000</td>\n",
              "      <td>522870.000000</td>\n",
              "    </tr>\n",
              "    <tr>\n",
              "      <th>mean</th>\n",
              "      <td>2006.534253</td>\n",
              "      <td>6.576049</td>\n",
              "      <td>15.737220</td>\n",
              "      <td>3.957619</td>\n",
              "      <td>157.692520</td>\n",
              "      <td>159.206399</td>\n",
              "      <td>134.201125</td>\n",
              "      <td>9.490378</td>\n",
              "      <td>11.004257</td>\n",
              "      <td>1053.184256</td>\n",
              "      <td>6.483032</td>\n",
              "      <td>16.792767</td>\n",
              "    </tr>\n",
              "    <tr>\n",
              "      <th>std</th>\n",
              "      <td>1.117022</td>\n",
              "      <td>3.397226</td>\n",
              "      <td>8.788092</td>\n",
              "      <td>1.995833</td>\n",
              "      <td>100.075404</td>\n",
              "      <td>100.312566</td>\n",
              "      <td>97.242578</td>\n",
              "      <td>35.960267</td>\n",
              "      <td>34.158404</td>\n",
              "      <td>892.576033</td>\n",
              "      <td>4.950261</td>\n",
              "      <td>7.060288</td>\n",
              "    </tr>\n",
              "    <tr>\n",
              "      <th>min</th>\n",
              "      <td>2005.000000</td>\n",
              "      <td>1.000000</td>\n",
              "      <td>1.000000</td>\n",
              "      <td>1.000000</td>\n",
              "      <td>11.000000</td>\n",
              "      <td>30.000000</td>\n",
              "      <td>0.000000</td>\n",
              "      <td>-82.000000</td>\n",
              "      <td>-169.000000</td>\n",
              "      <td>11.000000</td>\n",
              "      <td>0.000000</td>\n",
              "      <td>0.000000</td>\n",
              "    </tr>\n",
              "    <tr>\n",
              "      <th>25%</th>\n",
              "      <td>2006.000000</td>\n",
              "      <td>4.000000</td>\n",
              "      <td>8.000000</td>\n",
              "      <td>2.000000</td>\n",
              "      <td>80.000000</td>\n",
              "      <td>83.000000</td>\n",
              "      <td>58.000000</td>\n",
              "      <td>-9.000000</td>\n",
              "      <td>-5.000000</td>\n",
              "      <td>337.000000</td>\n",
              "      <td>4.000000</td>\n",
              "      <td>12.000000</td>\n",
              "    </tr>\n",
              "    <tr>\n",
              "      <th>50%</th>\n",
              "      <td>2007.000000</td>\n",
              "      <td>7.000000</td>\n",
              "      <td>16.000000</td>\n",
              "      <td>4.000000</td>\n",
              "      <td>107.000000</td>\n",
              "      <td>108.000000</td>\n",
              "      <td>85.000000</td>\n",
              "      <td>-1.000000</td>\n",
              "      <td>-1.000000</td>\n",
              "      <td>599.000000</td>\n",
              "      <td>5.000000</td>\n",
              "      <td>15.000000</td>\n",
              "    </tr>\n",
              "    <tr>\n",
              "      <th>75%</th>\n",
              "      <td>2008.000000</td>\n",
              "      <td>9.000000</td>\n",
              "      <td>23.000000</td>\n",
              "      <td>6.000000</td>\n",
              "      <td>250.000000</td>\n",
              "      <td>251.000000</td>\n",
              "      <td>222.000000</td>\n",
              "      <td>14.000000</td>\n",
              "      <td>10.000000</td>\n",
              "      <td>1846.000000</td>\n",
              "      <td>8.000000</td>\n",
              "      <td>19.000000</td>\n",
              "    </tr>\n",
              "    <tr>\n",
              "      <th>max</th>\n",
              "      <td>2008.000000</td>\n",
              "      <td>12.000000</td>\n",
              "      <td>31.000000</td>\n",
              "      <td>7.000000</td>\n",
              "      <td>1090.000000</td>\n",
              "      <td>520.000000</td>\n",
              "      <td>1068.000000</td>\n",
              "      <td>1639.000000</td>\n",
              "      <td>1659.000000</td>\n",
              "      <td>2704.000000</td>\n",
              "      <td>199.000000</td>\n",
              "      <td>262.000000</td>\n",
              "    </tr>\n",
              "  </tbody>\n",
              "</table>\n",
              "</div>"
            ],
            "text/plain": [
              "                Year          Month     DayofMonth      DayOfWeek  \\\n",
              "count  522870.000000  522870.000000  522870.000000  522870.000000   \n",
              "mean     2006.534253       6.576049      15.737220       3.957619   \n",
              "std         1.117022       3.397226       8.788092       1.995833   \n",
              "min      2005.000000       1.000000       1.000000       1.000000   \n",
              "25%      2006.000000       4.000000       8.000000       2.000000   \n",
              "50%      2007.000000       7.000000      16.000000       4.000000   \n",
              "75%      2008.000000       9.000000      23.000000       6.000000   \n",
              "max      2008.000000      12.000000      31.000000       7.000000   \n",
              "\n",
              "       ActualElapsedTime  CRSElapsedTime        AirTime       ArrDelay  \\\n",
              "count      522870.000000   522870.000000  522870.000000  522870.000000   \n",
              "mean          157.692520      159.206399     134.201125       9.490378   \n",
              "std           100.075404      100.312566      97.242578      35.960267   \n",
              "min            11.000000       30.000000       0.000000     -82.000000   \n",
              "25%            80.000000       83.000000      58.000000      -9.000000   \n",
              "50%           107.000000      108.000000      85.000000      -1.000000   \n",
              "75%           250.000000      251.000000     222.000000      14.000000   \n",
              "max          1090.000000      520.000000    1068.000000    1639.000000   \n",
              "\n",
              "            DepDelay       Distance         TaxiIn        TaxiOut  \n",
              "count  522870.000000  522870.000000  522870.000000  522870.000000  \n",
              "mean       11.004257    1053.184256       6.483032      16.792767  \n",
              "std        34.158404     892.576033       4.950261       7.060288  \n",
              "min      -169.000000      11.000000       0.000000       0.000000  \n",
              "25%        -5.000000     337.000000       4.000000      12.000000  \n",
              "50%        -1.000000     599.000000       5.000000      15.000000  \n",
              "75%        10.000000    1846.000000       8.000000      19.000000  \n",
              "max      1659.000000    2704.000000     199.000000     262.000000  "
            ]
          },
          "execution_count": 49,
          "metadata": {},
          "output_type": "execute_result"
        }
      ],
      "source": [
        "air_sub_df.describe()"
      ]
    },
    {
      "cell_type": "markdown",
      "id": "7517503b",
      "metadata": {
        "id": "7517503b"
      },
      "source": [
        "## Air Flight Duration"
      ]
    },
    {
      "cell_type": "markdown",
      "id": "54c8ef60",
      "metadata": {
        "id": "54c8ef60"
      },
      "source": [
        "Let's look at the spread of flight time from San Francisco International airport between 2005 to 2008"
      ]
    },
    {
      "cell_type": "markdown",
      "id": "13b51f25",
      "metadata": {
        "id": "13b51f25"
      },
      "source": [
        "### Explore the origins"
      ]
    },
    {
      "cell_type": "code",
      "execution_count": null,
      "id": "9de4c423",
      "metadata": {
        "id": "9de4c423",
        "outputId": "71e516e3-19cc-4d30-ab89-3798ee63e420"
      },
      "outputs": [
        {
          "data": {
            "text/plain": [
              "1"
            ]
          },
          "execution_count": 50,
          "metadata": {},
          "output_type": "execute_result"
        }
      ],
      "source": [
        "air_sub_df.Origin.nunique()"
      ]
    },
    {
      "cell_type": "code",
      "execution_count": null,
      "id": "95d9cf6b",
      "metadata": {
        "id": "95d9cf6b",
        "outputId": "6e137294-689b-43db-f722-d7deec07f50a"
      },
      "outputs": [
        {
          "data": {
            "text/plain": [
              "SFO    522870\n",
              "Name: Origin, dtype: int64"
            ]
          },
          "execution_count": 51,
          "metadata": {},
          "output_type": "execute_result"
        }
      ],
      "source": [
        "air_sub_df.Origin.value_counts()"
      ]
    },
    {
      "cell_type": "markdown",
      "id": "774896c2",
      "metadata": {
        "id": "774896c2"
      },
      "source": [
        "### Explore the destinations"
      ]
    },
    {
      "cell_type": "code",
      "execution_count": null,
      "id": "d0994e7e",
      "metadata": {
        "id": "d0994e7e",
        "outputId": "9d2578f8-c838-4e1f-a3a3-720620a70f71"
      },
      "outputs": [
        {
          "data": {
            "text/plain": [
              "73"
            ]
          },
          "execution_count": 52,
          "metadata": {},
          "output_type": "execute_result"
        }
      ],
      "source": [
        "air_sub_df.Dest.nunique()"
      ]
    },
    {
      "cell_type": "code",
      "execution_count": null,
      "id": "beab9898",
      "metadata": {
        "id": "beab9898",
        "outputId": "bc47186d-73ab-45eb-9e4a-4f3852e8fac0"
      },
      "outputs": [
        {
          "data": {
            "text/plain": [
              "LAX    42779\n",
              "LAS    23673\n",
              "JFK    23070\n",
              "ORD    21677\n",
              "SEA    21500\n",
              "       ...  \n",
              "EGE       16\n",
              "BIL       13\n",
              "MSO       12\n",
              "FCA       12\n",
              "OAK        1\n",
              "Name: Dest, Length: 73, dtype: int64"
            ]
          },
          "execution_count": 53,
          "metadata": {},
          "output_type": "execute_result"
        }
      ],
      "source": [
        "air_sub_df.Dest.value_counts()"
      ]
    },
    {
      "cell_type": "code",
      "execution_count": null,
      "id": "a9d57a2c",
      "metadata": {
        "id": "a9d57a2c",
        "outputId": "01c7440c-e421-4d8b-d7cd-ef83d82007fd"
      },
      "outputs": [
        {
          "name": "stderr",
          "output_type": "stream",
          "text": [
            "C:\\Users\\HP\\Anaconda3\\lib\\site-packages\\seaborn\\distributions.py:2619: FutureWarning: `distplot` is a deprecated function and will be removed in a future version. Please adapt your code to use either `displot` (a figure-level function with similar flexibility) or `histplot` (an axes-level function for histograms).\n",
            "  warnings.warn(msg, FutureWarning)\n"
          ]
        },
        {
          "data": {
            "image/png": "[encoded data removed]",
            "text/plain": [
              "<Figure size 864x432 with 1 Axes>"
            ]
          },
          "metadata": {
            "needs_background": "light"
          },
          "output_type": "display_data"
        }
      ],
      "source": [
        "fig, ax = plt.subplots(figsize = (12,6))\n",
        "g1 = sns.distplot(air_sub_df.AirTime)\n",
        "g1.set_title('Duration distribution of Flights from San Francisco International Airport')\n",
        "g1.set_ylabel('% of all flights')\n",
        "g1.set_xticks(np.arange(0,1100,100))\n",
        "g1.set_xlabel('Duration(minutes)');"
      ]
    },
    {
      "cell_type": "markdown",
      "id": "c7d001b2",
      "metadata": {
        "id": "c7d001b2"
      },
      "source": [
        "We have a bimodal dataset with most flights taking about 60 minutes and another set of flights taking about 300 minutes"
      ]
    },
    {
      "cell_type": "markdown",
      "id": "7d1fc717",
      "metadata": {
        "id": "7d1fc717"
      },
      "source": [
        "### Cancelled Flights"
      ]
    },
    {
      "cell_type": "markdown",
      "id": "467b8e79",
      "metadata": {
        "id": "467b8e79"
      },
      "source": [
        "It would be interesting to see the number of cancelled flights within that time period"
      ]
    },
    {
      "cell_type": "code",
      "execution_count": null,
      "id": "78086130",
      "metadata": {
        "id": "78086130",
        "outputId": "0fc2010a-12f8-4c97-9921-a507104d2148"
      },
      "outputs": [
        {
          "data": {
            "image/png": "[encoded data removed]",
            "text/plain": [
              "<Figure size 1368x504 with 2 Axes>"
            ]
          },
          "metadata": {
            "needs_background": "light"
          },
          "output_type": "display_data"
        }
      ],
      "source": [
        "import matplotlib.patches as mpatches\n",
        "\n",
        "fig, ax = plt.subplots(1,2, figsize = (19,7))\n",
        "g1 = sns.countplot(x = air_sub_df.Cancelled, ax = ax[0])\n",
        "g1.set_title('Count of Cancelled Flights in Processed subset')\n",
        "g1.set_ylabel('Total Count')\n",
        "\n",
        "one = mpatches.Patch(facecolor='Blue', label='Not Cancelled', linewidth = 0.5, edgecolor = 'black')\n",
        "two = mpatches.Patch(facecolor='#ff9700', label = 'Cancelled', linewidth = 0.5, edgecolor = 'black')\n",
        "\n",
        "g2 = sns.countplot(x = air_df.Cancelled, ax = ax[1])\n",
        "g2.set_title('Count of Cancelled Flights in original dataset')\n",
        "g2.set_ylabel('Total Count')\n",
        "g2.legend(handles = [one,two], title = 'Legend');"
      ]
    },
    {
      "cell_type": "code",
      "execution_count": null,
      "id": "b6202376",
      "metadata": {
        "id": "b6202376",
        "outputId": "a0f74530-bec7-43b3-bcea-e59f5c2a98b7"
      },
      "outputs": [
        {
          "data": {
            "text/plain": [
              "0    530550\n",
              "1      9345\n",
              "Name: Cancelled, dtype: int64"
            ]
          },
          "execution_count": 56,
          "metadata": {},
          "output_type": "execute_result"
        }
      ],
      "source": [
        "air_df.Cancelled.value_counts()"
      ]
    },
    {
      "cell_type": "markdown",
      "id": "600f38eb",
      "metadata": {
        "id": "600f38eb"
      },
      "source": [
        "There are no cancelled flights in our processed dataset however there were about 9,345 cancelled flights in the original dataset, contributing to some of the null values as I assume, there were no time entries to record"
      ]
    },
    {
      "cell_type": "markdown",
      "id": "8488c768",
      "metadata": {
        "id": "8488c768"
      },
      "source": [
        "### Diverted Flights"
      ]
    },
    {
      "cell_type": "markdown",
      "id": "17a4919c",
      "metadata": {
        "id": "17a4919c"
      },
      "source": [
        "It would be interesting to see the share of diverted flights within that time period"
      ]
    },
    {
      "cell_type": "code",
      "execution_count": null,
      "id": "5144002d",
      "metadata": {
        "id": "5144002d",
        "outputId": "4646f3f0-7517-4a07-ae32-991bc4c5b4ee"
      },
      "outputs": [
        {
          "data": {
            "image/png": "[encoded data removed]",
            "text/plain": [
              "<Figure size 1152x432 with 1 Axes>"
            ]
          },
          "metadata": {},
          "output_type": "display_data"
        }
      ],
      "source": [
        "plt.figure(figsize = (16,6))\n",
        "plt.pie(air_sub_df.Diverted.value_counts(), \n",
        "        labels = air_sub_df.Diverted.value_counts().index, autopct = '%1.1f%%', startangle= 180)\n",
        "plt.title('% of Flights that are diverted in our processed subset')\n",
        "\n",
        "one = mpatches.Patch(facecolor='Blue', label='Not Diverted', linewidth = 0.5, edgecolor = 'black')\n",
        "two = mpatches.Patch(facecolor='#ff9700', label = 'Diverted', linewidth = 0.5, edgecolor = 'black')\n",
        "\n",
        "plt.legend(handles = [one,two], title = 'Legend', loc = 2, fontsize = 'small', fancybox = True);"
      ]
    },
    {
      "cell_type": "code",
      "execution_count": null,
      "id": "ca341867",
      "metadata": {
        "id": "ca341867",
        "outputId": "13879ae9-9144-48bc-b7be-7a0e5b38fbb2"
      },
      "outputs": [
        {
          "data": {
            "image/png": "[encoded data removed]",
            "text/plain": [
              "<Figure size 864x432 with 1 Axes>"
            ]
          },
          "metadata": {},
          "output_type": "display_data"
        }
      ],
      "source": [
        "plt.figure(figsize = (12,6))\n",
        "plt.pie(air_df.Diverted.value_counts(),explode = (0.0, 0.0), \n",
        "        labels = air_df.Diverted.value_counts().index, autopct = '%1.1f%%', startangle= 180)\n",
        "plt.title('% of Flights that are diverted in the original dataset')\n",
        "\n",
        "plt.legend(handles = [one,two], title = 'Legend', loc = 2, fontsize = 'small');"
      ]
    },
    {
      "cell_type": "code",
      "execution_count": null,
      "id": "a4eb5913",
      "metadata": {
        "id": "a4eb5913",
        "outputId": "6189aa71-ba07-41be-81f2-b1042b06207e"
      },
      "outputs": [
        {
          "data": {
            "text/plain": [
              "0    538709\n",
              "1      1186\n",
              "Name: Diverted, dtype: int64"
            ]
          },
          "execution_count": 59,
          "metadata": {},
          "output_type": "execute_result"
        }
      ],
      "source": [
        "air_df.Diverted.value_counts()"
      ]
    },
    {
      "cell_type": "markdown",
      "id": "54d23cb4",
      "metadata": {
        "id": "54d23cb4"
      },
      "source": [
        "1156 of the 538,709 (About 0.2% of the) flights in the original dataset were diverted contributing to missing values"
      ]
    },
    {
      "cell_type": "markdown",
      "id": "01f105a5",
      "metadata": {
        "id": "01f105a5"
      },
      "source": [
        "### Distribution of Flights across the years"
      ]
    },
    {
      "cell_type": "markdown",
      "id": "cc4f6ac7",
      "metadata": {
        "id": "cc4f6ac7"
      },
      "source": [
        "Let's look at the flight trends from San Fransico International airport from 2005 to 2008"
      ]
    },
    {
      "cell_type": "code",
      "execution_count": null,
      "id": "d1ceacb4",
      "metadata": {
        "id": "d1ceacb4",
        "outputId": "ac60c31f-f84b-4bb7-c7dc-2c246ab7e287"
      },
      "outputs": [
        {
          "data": {
            "image/png": "[encoded data removed]",
            "text/plain": [
              "<Figure size 864x432 with 1 Axes>"
            ]
          },
          "metadata": {
            "needs_background": "light"
          },
          "output_type": "display_data"
        }
      ],
      "source": [
        "fig, ax = plt.subplots(figsize = (12,6))\n",
        "sns.countplot(x = air_sub_df.Year)\n",
        "plt.title('San Francisico Flight Numbers');"
      ]
    },
    {
      "cell_type": "markdown",
      "id": "9d8f6f5e",
      "metadata": {
        "id": "9d8f6f5e"
      },
      "source": [
        "There was a general increase in cumulative flight numbers from 2005 to 2008. Lets examine the monthly trend"
      ]
    },
    {
      "cell_type": "code",
      "execution_count": null,
      "id": "3ce89ce0",
      "metadata": {
        "id": "3ce89ce0",
        "outputId": "c197bf08-c29d-430d-cdb9-88d61389096c"
      },
      "outputs": [
        {
          "data": {
            "text/html": [
              "<div>\n",
              "<style scoped>\n",
              "    .dataframe tbody tr th:only-of-type {\n",
              "        vertical-align: middle;\n",
              "    }\n",
              "\n",
              "    .dataframe tbody tr th {\n",
              "        vertical-align: top;\n",
              "    }\n",
              "\n",
              "    .dataframe thead th {\n",
              "        text-align: right;\n",
              "    }\n",
              "</style>\n",
              "<table border=\"1\" class=\"dataframe\">\n",
              "  <thead>\n",
              "    <tr style=\"text-align: right;\">\n",
              "      <th>Year</th>\n",
              "      <th>2005</th>\n",
              "      <th>2006</th>\n",
              "      <th>2007</th>\n",
              "      <th>2008</th>\n",
              "    </tr>\n",
              "    <tr>\n",
              "      <th>Month</th>\n",
              "      <th></th>\n",
              "      <th></th>\n",
              "      <th></th>\n",
              "      <th></th>\n",
              "    </tr>\n",
              "  </thead>\n",
              "  <tbody>\n",
              "    <tr>\n",
              "      <th>1</th>\n",
              "      <td>9802</td>\n",
              "      <td>10410</td>\n",
              "      <td>10670</td>\n",
              "      <td>10721</td>\n",
              "    </tr>\n",
              "    <tr>\n",
              "      <th>2</th>\n",
              "      <td>9092</td>\n",
              "      <td>9390</td>\n",
              "      <td>9442</td>\n",
              "      <td>10384</td>\n",
              "    </tr>\n",
              "    <tr>\n",
              "      <th>3</th>\n",
              "      <td>10263</td>\n",
              "      <td>10533</td>\n",
              "      <td>10888</td>\n",
              "      <td>11413</td>\n",
              "    </tr>\n",
              "    <tr>\n",
              "      <th>4</th>\n",
              "      <td>9988</td>\n",
              "      <td>10447</td>\n",
              "      <td>10635</td>\n",
              "      <td>11267</td>\n",
              "    </tr>\n",
              "    <tr>\n",
              "      <th>5</th>\n",
              "      <td>10780</td>\n",
              "      <td>10851</td>\n",
              "      <td>11240</td>\n",
              "      <td>11834</td>\n",
              "    </tr>\n",
              "    <tr>\n",
              "      <th>6</th>\n",
              "      <td>10863</td>\n",
              "      <td>10896</td>\n",
              "      <td>11467</td>\n",
              "      <td>11865</td>\n",
              "    </tr>\n",
              "    <tr>\n",
              "      <th>7</th>\n",
              "      <td>11319</td>\n",
              "      <td>11318</td>\n",
              "      <td>11921</td>\n",
              "      <td>12238</td>\n",
              "    </tr>\n",
              "    <tr>\n",
              "      <th>8</th>\n",
              "      <td>11356</td>\n",
              "      <td>11578</td>\n",
              "      <td>12056</td>\n",
              "      <td>12163</td>\n",
              "    </tr>\n",
              "    <tr>\n",
              "      <th>9</th>\n",
              "      <td>10580</td>\n",
              "      <td>10527</td>\n",
              "      <td>11341</td>\n",
              "      <td>11049</td>\n",
              "    </tr>\n",
              "    <tr>\n",
              "      <th>10</th>\n",
              "      <td>10914</td>\n",
              "      <td>10922</td>\n",
              "      <td>11720</td>\n",
              "      <td>11413</td>\n",
              "    </tr>\n",
              "    <tr>\n",
              "      <th>11</th>\n",
              "      <td>10259</td>\n",
              "      <td>10330</td>\n",
              "      <td>11182</td>\n",
              "      <td>10466</td>\n",
              "    </tr>\n",
              "    <tr>\n",
              "      <th>12</th>\n",
              "      <td>10415</td>\n",
              "      <td>10580</td>\n",
              "      <td>11376</td>\n",
              "      <td>10706</td>\n",
              "    </tr>\n",
              "  </tbody>\n",
              "</table>\n",
              "</div>"
            ],
            "text/plain": [
              "Year    2005   2006   2007   2008\n",
              "Month                            \n",
              "1       9802  10410  10670  10721\n",
              "2       9092   9390   9442  10384\n",
              "3      10263  10533  10888  11413\n",
              "4       9988  10447  10635  11267\n",
              "5      10780  10851  11240  11834\n",
              "6      10863  10896  11467  11865\n",
              "7      11319  11318  11921  12238\n",
              "8      11356  11578  12056  12163\n",
              "9      10580  10527  11341  11049\n",
              "10     10914  10922  11720  11413\n",
              "11     10259  10330  11182  10466\n",
              "12     10415  10580  11376  10706"
            ]
          },
          "execution_count": 61,
          "metadata": {},
          "output_type": "execute_result"
        }
      ],
      "source": [
        "air_sub_df.groupby('Year')['Month'].value_counts().unstack().T"
      ]
    },
    {
      "cell_type": "code",
      "execution_count": null,
      "id": "4a3cb4cd",
      "metadata": {
        "id": "4a3cb4cd"
      },
      "outputs": [],
      "source": [
        "month_year_df = air_sub_df.groupby('Year')['Month'].value_counts().unstack().T"
      ]
    },
    {
      "cell_type": "code",
      "execution_count": null,
      "id": "3b1c95e2",
      "metadata": {
        "id": "3b1c95e2",
        "outputId": "1579c068-8bf2-4228-a532-c1dfc3113823"
      },
      "outputs": [
        {
          "data": {
            "image/png": "[encoded data removed]",
            "text/plain": [
              "<Figure size 792x576 with 2 Axes>"
            ]
          },
          "metadata": {
            "needs_background": "light"
          },
          "output_type": "display_data"
        }
      ],
      "source": [
        "plt.figure(figsize = (11, 8))\n",
        "sns.heatmap(month_year_df, linewidth = 0.025, cmap = 'YlGnBu')\n",
        "plt.title(\"Flight Heatmap\")\n",
        "plt.ylabel('Month')\n",
        "plt.xlabel('Year');"
      ]
    },
    {
      "cell_type": "markdown",
      "id": "6f476859",
      "metadata": {
        "id": "6f476859"
      },
      "source": [
        "The flights follow a seasonal pattern with business peaking around the 7th and 8th month i.e. July and August within a given year and flight numbers increasing year on year as evidenced by the darker shades in the heatmap above"
      ]
    },
    {
      "cell_type": "code",
      "execution_count": null,
      "id": "18abace3",
      "metadata": {
        "id": "18abace3",
        "outputId": "767b8c2a-35fa-4d26-da93-ae74809f4bbd"
      },
      "outputs": [
        {
          "data": {
            "text/html": [
              "<div>\n",
              "<style scoped>\n",
              "    .dataframe tbody tr th:only-of-type {\n",
              "        vertical-align: middle;\n",
              "    }\n",
              "\n",
              "    .dataframe tbody tr th {\n",
              "        vertical-align: top;\n",
              "    }\n",
              "\n",
              "    .dataframe thead th {\n",
              "        text-align: right;\n",
              "    }\n",
              "</style>\n",
              "<table border=\"1\" class=\"dataframe\">\n",
              "  <thead>\n",
              "    <tr style=\"text-align: right;\">\n",
              "      <th></th>\n",
              "      <th>Month</th>\n",
              "      <th>count</th>\n",
              "    </tr>\n",
              "  </thead>\n",
              "  <tbody>\n",
              "    <tr>\n",
              "      <th>0</th>\n",
              "      <td>8</td>\n",
              "      <td>47153</td>\n",
              "    </tr>\n",
              "    <tr>\n",
              "      <th>1</th>\n",
              "      <td>7</td>\n",
              "      <td>46796</td>\n",
              "    </tr>\n",
              "    <tr>\n",
              "      <th>2</th>\n",
              "      <td>6</td>\n",
              "      <td>45091</td>\n",
              "    </tr>\n",
              "    <tr>\n",
              "      <th>3</th>\n",
              "      <td>10</td>\n",
              "      <td>44969</td>\n",
              "    </tr>\n",
              "    <tr>\n",
              "      <th>4</th>\n",
              "      <td>5</td>\n",
              "      <td>44705</td>\n",
              "    </tr>\n",
              "    <tr>\n",
              "      <th>5</th>\n",
              "      <td>9</td>\n",
              "      <td>43497</td>\n",
              "    </tr>\n",
              "    <tr>\n",
              "      <th>6</th>\n",
              "      <td>3</td>\n",
              "      <td>43097</td>\n",
              "    </tr>\n",
              "    <tr>\n",
              "      <th>7</th>\n",
              "      <td>12</td>\n",
              "      <td>43077</td>\n",
              "    </tr>\n",
              "    <tr>\n",
              "      <th>8</th>\n",
              "      <td>4</td>\n",
              "      <td>42337</td>\n",
              "    </tr>\n",
              "    <tr>\n",
              "      <th>9</th>\n",
              "      <td>11</td>\n",
              "      <td>42237</td>\n",
              "    </tr>\n",
              "    <tr>\n",
              "      <th>10</th>\n",
              "      <td>1</td>\n",
              "      <td>41603</td>\n",
              "    </tr>\n",
              "    <tr>\n",
              "      <th>11</th>\n",
              "      <td>2</td>\n",
              "      <td>38308</td>\n",
              "    </tr>\n",
              "  </tbody>\n",
              "</table>\n",
              "</div>"
            ],
            "text/plain": [
              "    Month  count\n",
              "0       8  47153\n",
              "1       7  46796\n",
              "2       6  45091\n",
              "3      10  44969\n",
              "4       5  44705\n",
              "5       9  43497\n",
              "6       3  43097\n",
              "7      12  43077\n",
              "8       4  42337\n",
              "9      11  42237\n",
              "10      1  41603\n",
              "11      2  38308"
            ]
          },
          "execution_count": 64,
          "metadata": {},
          "output_type": "execute_result"
        }
      ],
      "source": [
        "month_df = air_sub_df['Month'].value_counts().to_frame().reset_index().rename(columns={'index':'Month','Month':'count'})\n",
        "month_df"
      ]
    },
    {
      "cell_type": "markdown",
      "id": "34e56dec",
      "metadata": {
        "id": "34e56dec"
      },
      "source": [
        "Let's look at the cumulative trendline "
      ]
    },
    {
      "cell_type": "code",
      "execution_count": null,
      "id": "742ec2dd",
      "metadata": {
        "id": "742ec2dd",
        "outputId": "06159e53-9e2b-4fcb-9b83-26795cc42e7b"
      },
      "outputs": [
        {
          "data": {
            "image/png": "[encoded data removed]",
            "text/plain": [
              "<Figure size 432x288 with 1 Axes>"
            ]
          },
          "metadata": {
            "needs_background": "light"
          },
          "output_type": "display_data"
        }
      ],
      "source": [
        "sns.lineplot(data = month_df, x = 'Month', y='count')\n",
        "plt.title('Monthly Cumulative Trendline of Flight Numbers');"
      ]
    },
    {
      "cell_type": "code",
      "execution_count": null,
      "id": "203d3e53",
      "metadata": {
        "id": "203d3e53"
      },
      "outputs": [],
      "source": [
        "month_2005_df = air_sub_df[air_sub_df.Year == 2005]['Month'].value_counts().to_frame().reset_index().rename(columns={'index':'Month','Month':'count'})\n",
        "month_2006_df = air_sub_df[air_sub_df.Year == 2006]['Month'].value_counts().to_frame().reset_index().rename(columns={'index':'Month','Month':'count'})\n",
        "month_2007_df = air_sub_df[air_sub_df.Year == 2007]['Month'].value_counts().to_frame().reset_index().rename(columns={'index':'Month','Month':'count'})\n",
        "month_2008_df = air_sub_df[air_sub_df.Year == 2008]['Month'].value_counts().to_frame().reset_index().rename(columns={'index':'Month','Month':'count'})"
      ]
    },
    {
      "cell_type": "code",
      "execution_count": null,
      "id": "91614515",
      "metadata": {
        "id": "91614515"
      },
      "outputs": [],
      "source": [
        "months =[month_2005_df, month_2006_df,month_2007_df,month_2008_df]"
      ]
    },
    {
      "cell_type": "code",
      "execution_count": null,
      "id": "c2b7086f",
      "metadata": {
        "id": "c2b7086f",
        "outputId": "ea3b06e0-a551-461b-ed16-fe9662bd19f6"
      },
      "outputs": [
        {
          "data": {
            "image/png": "[encoded data removed]",
            "text/plain": [
              "<Figure size 864x432 with 1 Axes>"
            ]
          },
          "metadata": {
            "needs_background": "light"
          },
          "output_type": "display_data"
        }
      ],
      "source": [
        "plt.subplots(figsize = (12,6))\n",
        "sns.lineplot(data = month_2005_df, x = 'Month', y='count', color = 'blue')\n",
        "sns.lineplot(data = month_2006_df, x = 'Month', y='count', color = '#ff9700')\n",
        "sns.lineplot(data = month_2007_df, x = 'Month', y='count', color = 'green')\n",
        "sns.lineplot(data = month_2008_df, x = 'Month', y='count', color = 'red')\n",
        "plt.title('Monthly Trendline of Flight Numbers')\n",
        "\n",
        "one = mpatches.Patch(facecolor='Blue', label='2005', linewidth = 0.5, edgecolor = 'black')\n",
        "two = mpatches.Patch(facecolor='#ff9700', label = '2006', linewidth = 0.5, edgecolor = 'black')\n",
        "three = mpatches.Patch(facecolor='green', label = '2007', linewidth = 0.5, edgecolor = 'black')\n",
        "four = mpatches.Patch(facecolor='red', label = '2008', linewidth = 0.5, edgecolor = 'black')\n",
        "\n",
        "plt.legend(handles = [one,two, three,four], title = 'Year', loc = 2, fontsize = 'small', fancybox = True);"
      ]
    },
    {
      "cell_type": "markdown",
      "id": "75a8455e",
      "metadata": {
        "id": "75a8455e"
      },
      "source": [
        "Based off the analysis, commercial air travel follows seasonal pattern with business peaking around the 7th and 8th month i.e. July and August within a given year and the flight numbers increasing year on year from 2005 to 2008"
      ]
    },
    {
      "cell_type": "markdown",
      "id": "12b8c156",
      "metadata": {
        "id": "12b8c156"
      },
      "source": [
        "## Save and upload your notebook\n",
        "Whether you're running this Jupyter notebook online or on your computer, it's essential to save your work from time to time. You can continue working on a saved notebook later or share it with friends and colleagues to let them execute your code. Jovian offers an easy way of saving and sharing your Jupyter notebooks online.\n",
        "\n"
      ]
    },
    {
      "cell_type": "code",
      "execution_count": null,
      "id": "9c9b346e",
      "metadata": {
        "id": "9c9b346e"
      },
      "outputs": [],
      "source": [
        "import jovian"
      ]
    },
    {
      "cell_type": "code",
      "execution_count": null,
      "id": "cd0eb604",
      "metadata": {
        "id": "cd0eb604",
        "outputId": "9d8bc1bf-f3d6-451e-d0d6-84805674f039"
      },
      "outputs": [
        {
          "data": {
            "application/javascript": [
              "window.require && require([\"base/js/namespace\"],function(Jupyter){Jupyter.notebook.save_checkpoint()})"
            ],
            "text/plain": [
              "<IPython.core.display.Javascript object>"
            ]
          },
          "metadata": {},
          "output_type": "display_data"
        },
        {
          "name": "stdout",
          "output_type": "stream",
          "text": [
            "[jovian] Updating notebook \"mitchell-odili/commercial-air-travel-analysis\" on https://jovian.ai/\u001b[0m\n",
            "[jovian] Committed successfully! https://jovian.ai/mitchell-odili/commercial-air-travel-analysis\u001b[0m\n"
          ]
        },
        {
          "data": {
            "text/plain": [
              "'https://jovian.ai/mitchell-odili/commercial-air-travel-analysis'"
            ]
          },
          "execution_count": 70,
          "metadata": {},
          "output_type": "execute_result"
        }
      ],
      "source": [
        "# Execute this to save new versions of the notebook\n",
        "jovian.commit(project=\"commercial-air-travel-analysis\")"
      ]
    },
    {
      "cell_type": "markdown",
      "id": "58825117",
      "metadata": {
        "id": "58825117"
      },
      "source": [
        "### Asking and answering questions"
      ]
    },
    {
      "cell_type": "markdown",
      "id": "ea5df98d",
      "metadata": {
        "id": "ea5df98d"
      },
      "source": [
        "We've already gained several insights about the commercial air travel numbers from San Francisco International Airport by exploring individual columns of the dataset. Let's ask some specific questions and try to answer them using data frame operations and visualizations."
      ]
    },
    {
      "cell_type": "markdown",
      "id": "17b709de",
      "metadata": {
        "id": "17b709de"
      },
      "source": [
        "#### Q1. What are the popular destinations from  San Francisco International Airport (SFO)?\n",
        "\n",
        "Flights from SFO have 73 distinct destinations"
      ]
    },
    {
      "cell_type": "code",
      "execution_count": null,
      "id": "c46ce92d",
      "metadata": {
        "id": "c46ce92d",
        "outputId": "72e4613a-72a5-4c5c-8d91-6f6c10b410e4"
      },
      "outputs": [
        {
          "data": {
            "text/plain": [
              "73"
            ]
          },
          "execution_count": 71,
          "metadata": {},
          "output_type": "execute_result"
        }
      ],
      "source": [
        "air_sub_df.Dest.nunique()"
      ]
    },
    {
      "cell_type": "code",
      "execution_count": null,
      "id": "ccfd52d5",
      "metadata": {
        "id": "ccfd52d5",
        "outputId": "4d4b710d-6da6-4794-ecd2-f47567de6e3b"
      },
      "outputs": [
        {
          "data": {
            "text/html": [
              "<div>\n",
              "<style scoped>\n",
              "    .dataframe tbody tr th:only-of-type {\n",
              "        vertical-align: middle;\n",
              "    }\n",
              "\n",
              "    .dataframe tbody tr th {\n",
              "        vertical-align: top;\n",
              "    }\n",
              "\n",
              "    .dataframe thead th {\n",
              "        text-align: right;\n",
              "    }\n",
              "</style>\n",
              "<table border=\"1\" class=\"dataframe\">\n",
              "  <thead>\n",
              "    <tr style=\"text-align: right;\">\n",
              "      <th></th>\n",
              "      <th>Dest</th>\n",
              "      <th>count</th>\n",
              "    </tr>\n",
              "  </thead>\n",
              "  <tbody>\n",
              "    <tr>\n",
              "      <th>0</th>\n",
              "      <td>LAX</td>\n",
              "      <td>42779</td>\n",
              "    </tr>\n",
              "    <tr>\n",
              "      <th>1</th>\n",
              "      <td>LAS</td>\n",
              "      <td>23673</td>\n",
              "    </tr>\n",
              "    <tr>\n",
              "      <th>2</th>\n",
              "      <td>JFK</td>\n",
              "      <td>23070</td>\n",
              "    </tr>\n",
              "    <tr>\n",
              "      <th>3</th>\n",
              "      <td>ORD</td>\n",
              "      <td>21677</td>\n",
              "    </tr>\n",
              "    <tr>\n",
              "      <th>4</th>\n",
              "      <td>SEA</td>\n",
              "      <td>21500</td>\n",
              "    </tr>\n",
              "    <tr>\n",
              "      <th>...</th>\n",
              "      <td>...</td>\n",
              "      <td>...</td>\n",
              "    </tr>\n",
              "    <tr>\n",
              "      <th>68</th>\n",
              "      <td>EGE</td>\n",
              "      <td>16</td>\n",
              "    </tr>\n",
              "    <tr>\n",
              "      <th>69</th>\n",
              "      <td>BIL</td>\n",
              "      <td>13</td>\n",
              "    </tr>\n",
              "    <tr>\n",
              "      <th>70</th>\n",
              "      <td>MSO</td>\n",
              "      <td>12</td>\n",
              "    </tr>\n",
              "    <tr>\n",
              "      <th>71</th>\n",
              "      <td>FCA</td>\n",
              "      <td>12</td>\n",
              "    </tr>\n",
              "    <tr>\n",
              "      <th>72</th>\n",
              "      <td>OAK</td>\n",
              "      <td>1</td>\n",
              "    </tr>\n",
              "  </tbody>\n",
              "</table>\n",
              "<p>73 rows × 2 columns</p>\n",
              "</div>"
            ],
            "text/plain": [
              "   Dest  count\n",
              "0   LAX  42779\n",
              "1   LAS  23673\n",
              "2   JFK  23070\n",
              "3   ORD  21677\n",
              "4   SEA  21500\n",
              "..  ...    ...\n",
              "68  EGE     16\n",
              "69  BIL     13\n",
              "70  MSO     12\n",
              "71  FCA     12\n",
              "72  OAK      1\n",
              "\n",
              "[73 rows x 2 columns]"
            ]
          },
          "execution_count": 72,
          "metadata": {},
          "output_type": "execute_result"
        }
      ],
      "source": [
        "# In detail\n",
        "\n",
        "air_sub_df.Dest.value_counts().to_frame().reset_index().rename(columns={'index':'Dest','Dest':'count'})"
      ]
    },
    {
      "cell_type": "markdown",
      "id": "6d7a0947",
      "metadata": {
        "id": "6d7a0947"
      },
      "source": [
        "Lets explore the top 20 destinations"
      ]
    },
    {
      "cell_type": "code",
      "execution_count": null,
      "id": "55c5d26c",
      "metadata": {
        "id": "55c5d26c",
        "outputId": "093675f0-c81a-422b-d74c-748c52c2c94f"
      },
      "outputs": [
        {
          "data": {
            "text/html": [
              "<div>\n",
              "<style scoped>\n",
              "    .dataframe tbody tr th:only-of-type {\n",
              "        vertical-align: middle;\n",
              "    }\n",
              "\n",
              "    .dataframe tbody tr th {\n",
              "        vertical-align: top;\n",
              "    }\n",
              "\n",
              "    .dataframe thead th {\n",
              "        text-align: right;\n",
              "    }\n",
              "</style>\n",
              "<table border=\"1\" class=\"dataframe\">\n",
              "  <thead>\n",
              "    <tr style=\"text-align: right;\">\n",
              "      <th></th>\n",
              "      <th>Dest</th>\n",
              "      <th>count</th>\n",
              "    </tr>\n",
              "  </thead>\n",
              "  <tbody>\n",
              "    <tr>\n",
              "      <th>0</th>\n",
              "      <td>LAX</td>\n",
              "      <td>42779</td>\n",
              "    </tr>\n",
              "    <tr>\n",
              "      <th>1</th>\n",
              "      <td>LAS</td>\n",
              "      <td>23673</td>\n",
              "    </tr>\n",
              "    <tr>\n",
              "      <th>2</th>\n",
              "      <td>JFK</td>\n",
              "      <td>23070</td>\n",
              "    </tr>\n",
              "    <tr>\n",
              "      <th>3</th>\n",
              "      <td>ORD</td>\n",
              "      <td>21677</td>\n",
              "    </tr>\n",
              "    <tr>\n",
              "      <th>4</th>\n",
              "      <td>SEA</td>\n",
              "      <td>21500</td>\n",
              "    </tr>\n",
              "    <tr>\n",
              "      <th>5</th>\n",
              "      <td>DEN</td>\n",
              "      <td>20128</td>\n",
              "    </tr>\n",
              "    <tr>\n",
              "      <th>6</th>\n",
              "      <td>SAN</td>\n",
              "      <td>17642</td>\n",
              "    </tr>\n",
              "    <tr>\n",
              "      <th>7</th>\n",
              "      <td>PHX</td>\n",
              "      <td>16057</td>\n",
              "    </tr>\n",
              "    <tr>\n",
              "      <th>8</th>\n",
              "      <td>SLC</td>\n",
              "      <td>15633</td>\n",
              "    </tr>\n",
              "    <tr>\n",
              "      <th>9</th>\n",
              "      <td>DFW</td>\n",
              "      <td>14920</td>\n",
              "    </tr>\n",
              "    <tr>\n",
              "      <th>10</th>\n",
              "      <td>SNA</td>\n",
              "      <td>14703</td>\n",
              "    </tr>\n",
              "    <tr>\n",
              "      <th>11</th>\n",
              "      <td>ATL</td>\n",
              "      <td>13190</td>\n",
              "    </tr>\n",
              "    <tr>\n",
              "      <th>12</th>\n",
              "      <td>SBA</td>\n",
              "      <td>12352</td>\n",
              "    </tr>\n",
              "    <tr>\n",
              "      <th>13</th>\n",
              "      <td>PDX</td>\n",
              "      <td>11830</td>\n",
              "    </tr>\n",
              "    <tr>\n",
              "      <th>14</th>\n",
              "      <td>HNL</td>\n",
              "      <td>11567</td>\n",
              "    </tr>\n",
              "    <tr>\n",
              "      <th>15</th>\n",
              "      <td>EWR</td>\n",
              "      <td>10999</td>\n",
              "    </tr>\n",
              "    <tr>\n",
              "      <th>16</th>\n",
              "      <td>IAD</td>\n",
              "      <td>10977</td>\n",
              "    </tr>\n",
              "    <tr>\n",
              "      <th>17</th>\n",
              "      <td>SMF</td>\n",
              "      <td>10425</td>\n",
              "    </tr>\n",
              "    <tr>\n",
              "      <th>18</th>\n",
              "      <td>MFR</td>\n",
              "      <td>10416</td>\n",
              "    </tr>\n",
              "    <tr>\n",
              "      <th>19</th>\n",
              "      <td>FAT</td>\n",
              "      <td>10375</td>\n",
              "    </tr>\n",
              "  </tbody>\n",
              "</table>\n",
              "</div>"
            ],
            "text/plain": [
              "   Dest  count\n",
              "0   LAX  42779\n",
              "1   LAS  23673\n",
              "2   JFK  23070\n",
              "3   ORD  21677\n",
              "4   SEA  21500\n",
              "5   DEN  20128\n",
              "6   SAN  17642\n",
              "7   PHX  16057\n",
              "8   SLC  15633\n",
              "9   DFW  14920\n",
              "10  SNA  14703\n",
              "11  ATL  13190\n",
              "12  SBA  12352\n",
              "13  PDX  11830\n",
              "14  HNL  11567\n",
              "15  EWR  10999\n",
              "16  IAD  10977\n",
              "17  SMF  10425\n",
              "18  MFR  10416\n",
              "19  FAT  10375"
            ]
          },
          "execution_count": 73,
          "metadata": {},
          "output_type": "execute_result"
        }
      ],
      "source": [
        "Top_20_destinations = air_sub_df.Dest.value_counts().nlargest(20).to_frame().reset_index().rename(columns={'index':'Dest','Dest':'count'})\n",
        "Top_20_destinations"
      ]
    },
    {
      "cell_type": "markdown",
      "id": "9804cf02",
      "metadata": {
        "id": "9804cf02"
      },
      "source": [
        "We can plot this information using a horizontal bar graph"
      ]
    },
    {
      "cell_type": "code",
      "execution_count": null,
      "id": "0d1895dc",
      "metadata": {
        "id": "0d1895dc",
        "outputId": "a957bf77-b305-4088-e696-3b09947c0294"
      },
      "outputs": [
        {
          "data": {
            "image/png": "[encoded data removed]",
            "text/plain": [
              "<Figure size 720x432 with 1 Axes>"
            ]
          },
          "metadata": {
            "needs_background": "light"
          },
          "output_type": "display_data"
        }
      ],
      "source": [
        "fig, ax = plt.subplots(figsize = (10,6))\n",
        "sns.barplot(data = Top_20_destinations, y = 'Dest', x = 'count')\n",
        "plt.title('Top 20 destinations from San Francisco International Airport')\n",
        "plt.ylabel('Detinations')\n",
        "plt.xlabel('Count');"
      ]
    },
    {
      "cell_type": "markdown",
      "id": "27614522",
      "metadata": {
        "id": "27614522"
      },
      "source": [
        "Los Angeles International Airport California (LAX) is the most popular destination from San Francisco within this time period taking up 42,779 flights. Let's plot this dataset using percentages to get a relative sense of the absolute numbers"
      ]
    },
    {
      "cell_type": "code",
      "execution_count": null,
      "id": "372afd1d",
      "metadata": {
        "id": "372afd1d"
      },
      "outputs": [],
      "source": [
        "Dest_pct = air_sub_df.Dest.value_counts() * 100/ air_sub_df.Dest.count()\n",
        "Dest_pct\n",
        "Top20_Dest_pct = Dest_pct.nlargest(20)"
      ]
    },
    {
      "cell_type": "code",
      "execution_count": null,
      "id": "97e9fba7",
      "metadata": {
        "id": "97e9fba7",
        "outputId": "0de8f982-6d85-409a-a058-9ba9b3764983"
      },
      "outputs": [
        {
          "data": {
            "image/png": "[encoded data removed]",
            "text/plain": [
              "<Figure size 720x432 with 1 Axes>"
            ]
          },
          "metadata": {
            "needs_background": "light"
          },
          "output_type": "display_data"
        }
      ],
      "source": [
        "fig, ax = plt.subplots(figsize = (10,6))\n",
        "sns.barplot(x = Top20_Dest_pct, y = Top20_Dest_pct.index)\n",
        "plt.title('% share of Top 20 destinations from San Francisco International Airport')\n",
        "plt.ylabel('Destinations')\n",
        "plt.xlabel('Percentage');"
      ]
    },
    {
      "cell_type": "code",
      "execution_count": null,
      "id": "3cf74194",
      "metadata": {
        "id": "3cf74194",
        "outputId": "c9ab1257-c95b-4052-82ae-a0ff07cd6654"
      },
      "outputs": [
        {
          "data": {
            "text/plain": [
              "63.86157170998528"
            ]
          },
          "execution_count": 77,
          "metadata": {},
          "output_type": "execute_result"
        }
      ],
      "source": [
        "Top20_Dest_pct.sum()"
      ]
    },
    {
      "cell_type": "markdown",
      "id": "25e3450e",
      "metadata": {
        "id": "25e3450e"
      },
      "source": [
        "LAX as the top most destination takes up 8% of the overall flights from SFO between 2005 and 2008 as per the dataset with the top 20 destinations making 63.86% of the overall flights from SFO"
      ]
    },
    {
      "cell_type": "markdown",
      "id": "824dcaee",
      "metadata": {
        "id": "824dcaee"
      },
      "source": [
        "#### Q2. What is the nature of distance covered?\n",
        "\n",
        "There are 73 different groupings equivalent to the destinations.Let's examine whether more flights are short/long distance?"
      ]
    },
    {
      "cell_type": "code",
      "execution_count": null,
      "id": "80e877f6",
      "metadata": {
        "id": "80e877f6",
        "outputId": "712d7647-2fa7-41fe-e85c-3f98624b4c37"
      },
      "outputs": [
        {
          "data": {
            "text/html": [
              "<div>\n",
              "<style scoped>\n",
              "    .dataframe tbody tr th:only-of-type {\n",
              "        vertical-align: middle;\n",
              "    }\n",
              "\n",
              "    .dataframe tbody tr th {\n",
              "        vertical-align: top;\n",
              "    }\n",
              "\n",
              "    .dataframe thead th {\n",
              "        text-align: right;\n",
              "    }\n",
              "</style>\n",
              "<table border=\"1\" class=\"dataframe\">\n",
              "  <thead>\n",
              "    <tr style=\"text-align: right;\">\n",
              "      <th></th>\n",
              "      <th>Dest</th>\n",
              "      <th>count</th>\n",
              "    </tr>\n",
              "  </thead>\n",
              "  <tbody>\n",
              "    <tr>\n",
              "      <th>0</th>\n",
              "      <td>LAX</td>\n",
              "      <td>42779</td>\n",
              "    </tr>\n",
              "    <tr>\n",
              "      <th>1</th>\n",
              "      <td>LAS</td>\n",
              "      <td>23673</td>\n",
              "    </tr>\n",
              "    <tr>\n",
              "      <th>2</th>\n",
              "      <td>JFK</td>\n",
              "      <td>23070</td>\n",
              "    </tr>\n",
              "    <tr>\n",
              "      <th>3</th>\n",
              "      <td>ORD</td>\n",
              "      <td>21677</td>\n",
              "    </tr>\n",
              "    <tr>\n",
              "      <th>4</th>\n",
              "      <td>SEA</td>\n",
              "      <td>21500</td>\n",
              "    </tr>\n",
              "    <tr>\n",
              "      <th>...</th>\n",
              "      <td>...</td>\n",
              "      <td>...</td>\n",
              "    </tr>\n",
              "    <tr>\n",
              "      <th>68</th>\n",
              "      <td>EGE</td>\n",
              "      <td>16</td>\n",
              "    </tr>\n",
              "    <tr>\n",
              "      <th>69</th>\n",
              "      <td>BIL</td>\n",
              "      <td>13</td>\n",
              "    </tr>\n",
              "    <tr>\n",
              "      <th>70</th>\n",
              "      <td>MSO</td>\n",
              "      <td>12</td>\n",
              "    </tr>\n",
              "    <tr>\n",
              "      <th>71</th>\n",
              "      <td>FCA</td>\n",
              "      <td>12</td>\n",
              "    </tr>\n",
              "    <tr>\n",
              "      <th>72</th>\n",
              "      <td>OAK</td>\n",
              "      <td>1</td>\n",
              "    </tr>\n",
              "  </tbody>\n",
              "</table>\n",
              "<p>73 rows × 2 columns</p>\n",
              "</div>"
            ],
            "text/plain": [
              "   Dest  count\n",
              "0   LAX  42779\n",
              "1   LAS  23673\n",
              "2   JFK  23070\n",
              "3   ORD  21677\n",
              "4   SEA  21500\n",
              "..  ...    ...\n",
              "68  EGE     16\n",
              "69  BIL     13\n",
              "70  MSO     12\n",
              "71  FCA     12\n",
              "72  OAK      1\n",
              "\n",
              "[73 rows x 2 columns]"
            ]
          },
          "execution_count": 78,
          "metadata": {},
          "output_type": "execute_result"
        }
      ],
      "source": [
        "# Destinations\n",
        "\n",
        "Dest_df = air_sub_df.Dest.value_counts().to_frame().reset_index().rename(columns={'index':'Dest','Dest':'count'})\n",
        "Dest_df"
      ]
    },
    {
      "cell_type": "code",
      "execution_count": null,
      "id": "6160d623",
      "metadata": {
        "id": "6160d623",
        "outputId": "093da8d6-b308-4190-bb04-cb1c3b1ddc97"
      },
      "outputs": [
        {
          "data": {
            "text/html": [
              "<div>\n",
              "<style scoped>\n",
              "    .dataframe tbody tr th:only-of-type {\n",
              "        vertical-align: middle;\n",
              "    }\n",
              "\n",
              "    .dataframe tbody tr th {\n",
              "        vertical-align: top;\n",
              "    }\n",
              "\n",
              "    .dataframe thead th {\n",
              "        text-align: right;\n",
              "    }\n",
              "</style>\n",
              "<table border=\"1\" class=\"dataframe\">\n",
              "  <thead>\n",
              "    <tr style=\"text-align: right;\">\n",
              "      <th></th>\n",
              "      <th>Distance</th>\n",
              "      <th>count</th>\n",
              "    </tr>\n",
              "  </thead>\n",
              "  <tbody>\n",
              "    <tr>\n",
              "      <th>0</th>\n",
              "      <td>337</td>\n",
              "      <td>42779</td>\n",
              "    </tr>\n",
              "    <tr>\n",
              "      <th>1</th>\n",
              "      <td>414</td>\n",
              "      <td>23673</td>\n",
              "    </tr>\n",
              "    <tr>\n",
              "      <th>2</th>\n",
              "      <td>2586</td>\n",
              "      <td>23070</td>\n",
              "    </tr>\n",
              "    <tr>\n",
              "      <th>3</th>\n",
              "      <td>1846</td>\n",
              "      <td>21677</td>\n",
              "    </tr>\n",
              "    <tr>\n",
              "      <th>4</th>\n",
              "      <td>679</td>\n",
              "      <td>21500</td>\n",
              "    </tr>\n",
              "    <tr>\n",
              "      <th>...</th>\n",
              "      <td>...</td>\n",
              "      <td>...</td>\n",
              "    </tr>\n",
              "    <tr>\n",
              "      <th>68</th>\n",
              "      <td>847</td>\n",
              "      <td>16</td>\n",
              "    </tr>\n",
              "    <tr>\n",
              "      <th>69</th>\n",
              "      <td>909</td>\n",
              "      <td>13</td>\n",
              "    </tr>\n",
              "    <tr>\n",
              "      <th>70</th>\n",
              "      <td>769</td>\n",
              "      <td>12</td>\n",
              "    </tr>\n",
              "    <tr>\n",
              "      <th>71</th>\n",
              "      <td>844</td>\n",
              "      <td>12</td>\n",
              "    </tr>\n",
              "    <tr>\n",
              "      <th>72</th>\n",
              "      <td>11</td>\n",
              "      <td>1</td>\n",
              "    </tr>\n",
              "  </tbody>\n",
              "</table>\n",
              "<p>73 rows × 2 columns</p>\n",
              "</div>"
            ],
            "text/plain": [
              "    Distance  count\n",
              "0        337  42779\n",
              "1        414  23673\n",
              "2       2586  23070\n",
              "3       1846  21677\n",
              "4        679  21500\n",
              "..       ...    ...\n",
              "68       847     16\n",
              "69       909     13\n",
              "70       769     12\n",
              "71       844     12\n",
              "72        11      1\n",
              "\n",
              "[73 rows x 2 columns]"
            ]
          },
          "execution_count": 79,
          "metadata": {},
          "output_type": "execute_result"
        }
      ],
      "source": [
        "# Distance in Miles\n",
        "\n",
        "Dist_df = air_sub_df.Distance.value_counts().to_frame().reset_index().rename(columns={'index':'Distance','Distance':'count'})\n",
        "Dist_df"
      ]
    },
    {
      "cell_type": "code",
      "execution_count": null,
      "id": "c75b85d8",
      "metadata": {
        "id": "c75b85d8",
        "outputId": "8dc04e1e-8c1c-4279-bb1f-53785cfb59a4"
      },
      "outputs": [
        {
          "data": {
            "text/html": [
              "<div>\n",
              "<style scoped>\n",
              "    .dataframe tbody tr th:only-of-type {\n",
              "        vertical-align: middle;\n",
              "    }\n",
              "\n",
              "    .dataframe tbody tr th {\n",
              "        vertical-align: top;\n",
              "    }\n",
              "\n",
              "    .dataframe thead th {\n",
              "        text-align: right;\n",
              "    }\n",
              "</style>\n",
              "<table border=\"1\" class=\"dataframe\">\n",
              "  <thead>\n",
              "    <tr style=\"text-align: right;\">\n",
              "      <th></th>\n",
              "      <th>Dest</th>\n",
              "      <th>count</th>\n",
              "      <th>Distance</th>\n",
              "    </tr>\n",
              "  </thead>\n",
              "  <tbody>\n",
              "    <tr>\n",
              "      <th>0</th>\n",
              "      <td>LAX</td>\n",
              "      <td>42779</td>\n",
              "      <td>337</td>\n",
              "    </tr>\n",
              "    <tr>\n",
              "      <th>1</th>\n",
              "      <td>LAS</td>\n",
              "      <td>23673</td>\n",
              "      <td>414</td>\n",
              "    </tr>\n",
              "    <tr>\n",
              "      <th>2</th>\n",
              "      <td>JFK</td>\n",
              "      <td>23070</td>\n",
              "      <td>2586</td>\n",
              "    </tr>\n",
              "    <tr>\n",
              "      <th>3</th>\n",
              "      <td>ORD</td>\n",
              "      <td>21677</td>\n",
              "      <td>1846</td>\n",
              "    </tr>\n",
              "    <tr>\n",
              "      <th>4</th>\n",
              "      <td>SEA</td>\n",
              "      <td>21500</td>\n",
              "      <td>679</td>\n",
              "    </tr>\n",
              "    <tr>\n",
              "      <th>...</th>\n",
              "      <td>...</td>\n",
              "      <td>...</td>\n",
              "      <td>...</td>\n",
              "    </tr>\n",
              "    <tr>\n",
              "      <th>70</th>\n",
              "      <td>MSO</td>\n",
              "      <td>12</td>\n",
              "      <td>769</td>\n",
              "    </tr>\n",
              "    <tr>\n",
              "      <th>71</th>\n",
              "      <td>MSO</td>\n",
              "      <td>12</td>\n",
              "      <td>844</td>\n",
              "    </tr>\n",
              "    <tr>\n",
              "      <th>72</th>\n",
              "      <td>FCA</td>\n",
              "      <td>12</td>\n",
              "      <td>769</td>\n",
              "    </tr>\n",
              "    <tr>\n",
              "      <th>73</th>\n",
              "      <td>FCA</td>\n",
              "      <td>12</td>\n",
              "      <td>844</td>\n",
              "    </tr>\n",
              "    <tr>\n",
              "      <th>74</th>\n",
              "      <td>OAK</td>\n",
              "      <td>1</td>\n",
              "      <td>11</td>\n",
              "    </tr>\n",
              "  </tbody>\n",
              "</table>\n",
              "<p>75 rows × 3 columns</p>\n",
              "</div>"
            ],
            "text/plain": [
              "   Dest  count  Distance\n",
              "0   LAX  42779       337\n",
              "1   LAS  23673       414\n",
              "2   JFK  23070      2586\n",
              "3   ORD  21677      1846\n",
              "4   SEA  21500       679\n",
              "..  ...    ...       ...\n",
              "70  MSO     12       769\n",
              "71  MSO     12       844\n",
              "72  FCA     12       769\n",
              "73  FCA     12       844\n",
              "74  OAK      1        11\n",
              "\n",
              "[75 rows x 3 columns]"
            ]
          },
          "execution_count": 80,
          "metadata": {},
          "output_type": "execute_result"
        }
      ],
      "source": [
        "#Merge the two dataframes\n",
        "\n",
        "Dest_Dist = Dest_df.merge(Dist_df)\n",
        "Dest_Dist"
      ]
    },
    {
      "cell_type": "markdown",
      "id": "683efce9",
      "metadata": {
        "id": "683efce9"
      },
      "source": [
        "The distance is in miles. As can be seen the distance between SFO to LAX is 337 miles. This is supported by https://www.distance.to/SFO/LAX which measures the shortest distance (air line) between SFO and LAX is 337.52 miles (543.19 km)."
      ]
    },
    {
      "cell_type": "markdown",
      "id": "1295dcdc",
      "metadata": {
        "id": "1295dcdc"
      },
      "source": [
        "Let's plot a box plot of the distances from SFO\n",
        "\n",
        "A box plot (or box-and-whisker plot) shows the distribution of quantitative data in a way that facilitates comparisons between variables or across levels of a categorical variable. The box shows the quartiles of the dataset while the whiskers extend to show the rest of the distribution, except for points that are determined to be “outliers” using a method that is a function of the inter-quartile range."
      ]
    },
    {
      "cell_type": "code",
      "execution_count": null,
      "id": "a95f7ebe",
      "metadata": {
        "id": "a95f7ebe",
        "outputId": "58e4a3b0-ae72-4dbe-c4f0-0feffb32bf67"
      },
      "outputs": [
        {
          "data": {
            "image/png": "[encoded data removed]",
            "text/plain": [
              "<Figure size 1368x504 with 2 Axes>"
            ]
          },
          "metadata": {
            "needs_background": "light"
          },
          "output_type": "display_data"
        }
      ],
      "source": [
        "fig, ax = plt.subplots(1,2, figsize = (19,7))\n",
        "g1 = sns.boxplot(x = Dest_Dist.Distance, ax = ax[0])\n",
        "g1.set_title('Boxplot of Flight Distances from San Francisco International Airport')\n",
        "g1.set_xlabel('Spread')\n",
        "\n",
        "g2 = sns.boxplot(x = 'Year', y = 'Distance', data = air_sub_df , ax = ax[1])\n",
        "g2.set_title('Yearly Boxplot of Flight Distances from San Francisco International Airport')\n",
        "g2.set_ylabel('Spread');"
      ]
    },
    {
      "cell_type": "markdown",
      "id": "5195fbd6",
      "metadata": {
        "id": "5195fbd6"
      },
      "source": [
        "Most of the flight observations range between 337 miles (25th percentile) and 2000 miles (75th percentile) with outliers that go as low as 11 miles and higher than 2500 miles. Year 2005 had a higher spread as evidenced by the height of its box plot,however 2006 through to 2008 had similar distances covered"
      ]
    },
    {
      "cell_type": "markdown",
      "id": "04340abc",
      "metadata": {
        "id": "04340abc"
      },
      "source": [
        "#### Q3. What is the market share of Carriers from SFO?"
      ]
    },
    {
      "cell_type": "markdown",
      "id": "0a1b23ff",
      "metadata": {
        "id": "0a1b23ff"
      },
      "source": [
        "We will compute the market share based on the number of flights from San Francisco International Airport where there are 21 distinct carriers"
      ]
    },
    {
      "cell_type": "code",
      "execution_count": null,
      "id": "c99ef8ae",
      "metadata": {
        "id": "c99ef8ae",
        "outputId": "34378c2d-3567-420a-b588-6625f3d8736e"
      },
      "outputs": [
        {
          "data": {
            "text/plain": [
              "21"
            ]
          },
          "execution_count": 82,
          "metadata": {},
          "output_type": "execute_result"
        }
      ],
      "source": [
        "air_sub_df['UniqueCarrier'].nunique()"
      ]
    },
    {
      "cell_type": "markdown",
      "id": "a375d3c6",
      "metadata": {
        "id": "a375d3c6"
      },
      "source": [
        "`carrier_name` is as outlined"
      ]
    },
    {
      "cell_type": "code",
      "execution_count": null,
      "id": "e8740ad6",
      "metadata": {
        "id": "e8740ad6",
        "outputId": "ec4b05cd-1539-41b1-f882-b77103a88e47"
      },
      "outputs": [
        {
          "data": {
            "text/plain": [
              "Code\n",
              "02Q                       Titan Airways\n",
              "04Q                  Tradewind Aviation\n",
              "05Q                 Comlux Aviation, AG\n",
              "06Q       Master Top Linhas Aereas Ltd.\n",
              "07Q                 Flair Airlines Ltd.\n",
              "                      ...              \n",
              "ZW          Air Wisconsin Airlines Corp\n",
              "ZX                         Air Georgian\n",
              "ZX (1)                       Airbc Ltd.\n",
              "ZY               Atlantic Gulf Airlines\n",
              "ZYZ                Skyway Aviation Inc.\n",
              "Name: Description, Length: 1491, dtype: object"
            ]
          },
          "execution_count": 83,
          "metadata": {},
          "output_type": "execute_result"
        }
      ],
      "source": [
        "carrier_name"
      ]
    },
    {
      "cell_type": "markdown",
      "id": "69c50e0c",
      "metadata": {
        "id": "69c50e0c"
      },
      "source": [
        "Let's look at the numbers"
      ]
    },
    {
      "cell_type": "code",
      "execution_count": null,
      "id": "49eb2ada",
      "metadata": {
        "id": "49eb2ada",
        "outputId": "7c000126-a8a1-4f9a-88f7-9d80bb71eea2"
      },
      "outputs": [
        {
          "data": {
            "text/plain": [
              "UA    171561\n",
              "OO    154570\n",
              "AA     48643\n",
              "US     24724\n",
              "DL     21249\n",
              "AS     20135\n",
              "CO     18175\n",
              "NW     15201\n",
              "WN     14843\n",
              "F9      8327\n",
              "MQ      6855\n",
              "HP      4406\n",
              "FL      3319\n",
              "B6      3105\n",
              "XE      2351\n",
              "TZ      2293\n",
              "HA      1455\n",
              "EV       711\n",
              "DH       463\n",
              "YV       455\n",
              "OH        29\n",
              "Name: UniqueCarrier, dtype: int64"
            ]
          },
          "execution_count": 84,
          "metadata": {},
          "output_type": "execute_result"
        }
      ],
      "source": [
        "air_sub_df['UniqueCarrier'].value_counts()"
      ]
    },
    {
      "cell_type": "code",
      "execution_count": null,
      "id": "73b5e668",
      "metadata": {
        "id": "73b5e668",
        "outputId": "1bace001-1fb7-482c-8e8a-eec0695be23c"
      },
      "outputs": [
        {
          "data": {
            "text/plain": [
              "'United Air Lines Inc.'"
            ]
          },
          "execution_count": 85,
          "metadata": {},
          "output_type": "execute_result"
        }
      ],
      "source": [
        "carrier_name.UA"
      ]
    },
    {
      "cell_type": "markdown",
      "id": "a00d59e5",
      "metadata": {
        "id": "a00d59e5"
      },
      "source": [
        "United Airlines Inc takes the cake. Let's plot the graphs to see the percentage share of each carrier"
      ]
    },
    {
      "cell_type": "code",
      "execution_count": null,
      "id": "c69ac915",
      "metadata": {
        "id": "c69ac915",
        "outputId": "b43256bc-c431-41fc-f25f-790affd15b53"
      },
      "outputs": [
        {
          "data": {
            "image/png": "[encoded data removed]",
            "text/plain": [
              "<Figure size 720x432 with 1 Axes>"
            ]
          },
          "metadata": {
            "needs_background": "light"
          },
          "output_type": "display_data"
        }
      ],
      "source": [
        "fig, ax = plt.subplots(figsize = (10,6))\n",
        "\n",
        "(air_sub_df.UniqueCarrier.value_counts(normalize=True, ascending=True)*100).plot(kind='barh', color='g')\n",
        "plt.title(\"% share of Airline Carriers from San Francisco International airport\")\n",
        "plt.xlabel('Percentage');"
      ]
    },
    {
      "cell_type": "code",
      "execution_count": null,
      "id": "98a4204a",
      "metadata": {
        "id": "98a4204a",
        "outputId": "10a8c06a-3b63-400b-f31c-d5f0e343d6b4"
      },
      "outputs": [
        {
          "data": {
            "text/plain": [
              "('United Air Lines Inc.', 'Skywest Airlines Inc.', 'American Airlines Inc.')"
            ]
          },
          "execution_count": 87,
          "metadata": {},
          "output_type": "execute_result"
        }
      ],
      "source": [
        "carrier_name.UA, carrier_name.OO, carrier_name.AA"
      ]
    },
    {
      "cell_type": "code",
      "execution_count": null,
      "id": "7cfa5574",
      "metadata": {
        "id": "7cfa5574",
        "outputId": "7526785f-8f2c-41f4-ea8f-19b05aac6086"
      },
      "outputs": [
        {
          "data": {
            "text/plain": [
              "32.81140627689483"
            ]
          },
          "execution_count": 88,
          "metadata": {},
          "output_type": "execute_result"
        }
      ],
      "source": [
        "# Percentage Market share of United Airlines Inc\n",
        "\n",
        "air_sub_df['UniqueCarrier'][air_sub_df['UniqueCarrier']== 'UA'].value_counts().sum() *100/ air_sub_df['UniqueCarrier'].count()"
      ]
    },
    {
      "cell_type": "code",
      "execution_count": null,
      "id": "5032ec22",
      "metadata": {
        "id": "5032ec22",
        "outputId": "2f75337b-1d43-4827-cd9d-462086d8049f"
      },
      "outputs": [
        {
          "data": {
            "text/plain": [
              "29.5618413754853"
            ]
          },
          "execution_count": 89,
          "metadata": {},
          "output_type": "execute_result"
        }
      ],
      "source": [
        "# Percentage Market share of Skywest Airlines Inc\n",
        "\n",
        "air_sub_df['UniqueCarrier'][air_sub_df['UniqueCarrier']== 'OO'].value_counts().sum() *100/ air_sub_df['UniqueCarrier'].count()"
      ]
    },
    {
      "cell_type": "code",
      "execution_count": null,
      "id": "690c5024",
      "metadata": {
        "id": "690c5024",
        "outputId": "1aaf6ff3-de64-47ae-a1c0-432996108f11"
      },
      "outputs": [
        {
          "data": {
            "text/plain": [
              "9.30307724673437"
            ]
          },
          "execution_count": 90,
          "metadata": {},
          "output_type": "execute_result"
        }
      ],
      "source": [
        "# Percentage Market share of American Airlines Inc\n",
        "\n",
        "air_sub_df['UniqueCarrier'][air_sub_df['UniqueCarrier']== 'AA'].value_counts().sum() *100/ air_sub_df['UniqueCarrier'].count()"
      ]
    },
    {
      "cell_type": "code",
      "execution_count": null,
      "id": "5bbc0168",
      "metadata": {
        "id": "5bbc0168",
        "outputId": "15cc183d-f8dd-4039-86f9-876021b70297"
      },
      "outputs": [
        {
          "data": {
            "text/plain": [
              "71.6763248991145"
            ]
          },
          "execution_count": 91,
          "metadata": {},
          "output_type": "execute_result"
        }
      ],
      "source": [
        "air_sub_df['UniqueCarrier'].value_counts().nlargest(3).sum() *100/ air_sub_df['UniqueCarrier'].count()"
      ]
    },
    {
      "cell_type": "markdown",
      "id": "d56b34b4",
      "metadata": {
        "id": "d56b34b4"
      },
      "source": [
        "The Commercial airtravel space is dominated by 3 carriers namely \n",
        "- United Airlines Inc - 32.81% share\n",
        "- Skywest Airlines Inc - 29.56% share\n",
        "- American Airlines Inc - 9.30% share\n",
        "\n",
        "making up 71.67% of all flights leaving San Francisco International Airport"
      ]
    },
    {
      "cell_type": "markdown",
      "id": "8bdc1aa2",
      "metadata": {
        "id": "8bdc1aa2"
      },
      "source": [
        "#### Q4. How do the Delay times compare?\n",
        "\n",
        "Is there a relationship between Departure delay time and Arrival Delay? Let's look at the data"
      ]
    },
    {
      "cell_type": "code",
      "execution_count": null,
      "id": "012211e9",
      "metadata": {
        "id": "012211e9",
        "outputId": "3d903b8d-519c-43ad-b23f-02e2fa164653"
      },
      "outputs": [
        {
          "data": {
            "text/html": [
              "<div>\n",
              "<style scoped>\n",
              "    .dataframe tbody tr th:only-of-type {\n",
              "        vertical-align: middle;\n",
              "    }\n",
              "\n",
              "    .dataframe tbody tr th {\n",
              "        vertical-align: top;\n",
              "    }\n",
              "\n",
              "    .dataframe thead th {\n",
              "        text-align: right;\n",
              "    }\n",
              "</style>\n",
              "<table border=\"1\" class=\"dataframe\">\n",
              "  <thead>\n",
              "    <tr style=\"text-align: right;\">\n",
              "      <th></th>\n",
              "      <th>ArrDelay</th>\n",
              "      <th>count</th>\n",
              "    </tr>\n",
              "  </thead>\n",
              "  <tbody>\n",
              "    <tr>\n",
              "      <th>0</th>\n",
              "      <td>-6.0</td>\n",
              "      <td>16205</td>\n",
              "    </tr>\n",
              "    <tr>\n",
              "      <th>1</th>\n",
              "      <td>-5.0</td>\n",
              "      <td>16056</td>\n",
              "    </tr>\n",
              "    <tr>\n",
              "      <th>2</th>\n",
              "      <td>-4.0</td>\n",
              "      <td>16003</td>\n",
              "    </tr>\n",
              "    <tr>\n",
              "      <th>3</th>\n",
              "      <td>-7.0</td>\n",
              "      <td>15922</td>\n",
              "    </tr>\n",
              "    <tr>\n",
              "      <th>4</th>\n",
              "      <td>-8.0</td>\n",
              "      <td>15620</td>\n",
              "    </tr>\n",
              "    <tr>\n",
              "      <th>...</th>\n",
              "      <td>...</td>\n",
              "      <td>...</td>\n",
              "    </tr>\n",
              "    <tr>\n",
              "      <th>561</th>\n",
              "      <td>374.0</td>\n",
              "      <td>1</td>\n",
              "    </tr>\n",
              "    <tr>\n",
              "      <th>562</th>\n",
              "      <td>821.0</td>\n",
              "      <td>1</td>\n",
              "    </tr>\n",
              "    <tr>\n",
              "      <th>563</th>\n",
              "      <td>851.0</td>\n",
              "      <td>1</td>\n",
              "    </tr>\n",
              "    <tr>\n",
              "      <th>564</th>\n",
              "      <td>393.0</td>\n",
              "      <td>1</td>\n",
              "    </tr>\n",
              "    <tr>\n",
              "      <th>565</th>\n",
              "      <td>381.0</td>\n",
              "      <td>1</td>\n",
              "    </tr>\n",
              "  </tbody>\n",
              "</table>\n",
              "<p>566 rows × 2 columns</p>\n",
              "</div>"
            ],
            "text/plain": [
              "     ArrDelay  count\n",
              "0        -6.0  16205\n",
              "1        -5.0  16056\n",
              "2        -4.0  16003\n",
              "3        -7.0  15922\n",
              "4        -8.0  15620\n",
              "..        ...    ...\n",
              "561     374.0      1\n",
              "562     821.0      1\n",
              "563     851.0      1\n",
              "564     393.0      1\n",
              "565     381.0      1\n",
              "\n",
              "[566 rows x 2 columns]"
            ]
          },
          "execution_count": 92,
          "metadata": {},
          "output_type": "execute_result"
        }
      ],
      "source": [
        "# Arrival Delay Time\n",
        "\n",
        "air_sub_df.ArrDelay.value_counts().to_frame().reset_index().rename(columns={'index':'ArrDelay','ArrDelay':'count'})"
      ]
    },
    {
      "cell_type": "code",
      "execution_count": null,
      "id": "9f6b5471",
      "metadata": {
        "id": "9f6b5471",
        "outputId": "d787a60b-2493-4770-d3f2-3f2d93db6391"
      },
      "outputs": [
        {
          "data": {
            "text/html": [
              "<div>\n",
              "<style scoped>\n",
              "    .dataframe tbody tr th:only-of-type {\n",
              "        vertical-align: middle;\n",
              "    }\n",
              "\n",
              "    .dataframe tbody tr th {\n",
              "        vertical-align: top;\n",
              "    }\n",
              "\n",
              "    .dataframe thead th {\n",
              "        text-align: right;\n",
              "    }\n",
              "</style>\n",
              "<table border=\"1\" class=\"dataframe\">\n",
              "  <thead>\n",
              "    <tr style=\"text-align: right;\">\n",
              "      <th></th>\n",
              "      <th>DepDelay</th>\n",
              "      <th>count</th>\n",
              "    </tr>\n",
              "  </thead>\n",
              "  <tbody>\n",
              "    <tr>\n",
              "      <th>0</th>\n",
              "      <td>-4.0</td>\n",
              "      <td>39106</td>\n",
              "    </tr>\n",
              "    <tr>\n",
              "      <th>1</th>\n",
              "      <td>-3.0</td>\n",
              "      <td>39037</td>\n",
              "    </tr>\n",
              "    <tr>\n",
              "      <th>2</th>\n",
              "      <td>-5.0</td>\n",
              "      <td>38263</td>\n",
              "    </tr>\n",
              "    <tr>\n",
              "      <th>3</th>\n",
              "      <td>-2.0</td>\n",
              "      <td>35676</td>\n",
              "    </tr>\n",
              "    <tr>\n",
              "      <th>4</th>\n",
              "      <td>-1.0</td>\n",
              "      <td>32226</td>\n",
              "    </tr>\n",
              "    <tr>\n",
              "      <th>...</th>\n",
              "      <td>...</td>\n",
              "      <td>...</td>\n",
              "    </tr>\n",
              "    <tr>\n",
              "      <th>545</th>\n",
              "      <td>426.0</td>\n",
              "      <td>1</td>\n",
              "    </tr>\n",
              "    <tr>\n",
              "      <th>546</th>\n",
              "      <td>-62.0</td>\n",
              "      <td>1</td>\n",
              "    </tr>\n",
              "    <tr>\n",
              "      <th>547</th>\n",
              "      <td>421.0</td>\n",
              "      <td>1</td>\n",
              "    </tr>\n",
              "    <tr>\n",
              "      <th>548</th>\n",
              "      <td>-102.0</td>\n",
              "      <td>1</td>\n",
              "    </tr>\n",
              "    <tr>\n",
              "      <th>549</th>\n",
              "      <td>410.0</td>\n",
              "      <td>1</td>\n",
              "    </tr>\n",
              "  </tbody>\n",
              "</table>\n",
              "<p>550 rows × 2 columns</p>\n",
              "</div>"
            ],
            "text/plain": [
              "     DepDelay  count\n",
              "0        -4.0  39106\n",
              "1        -3.0  39037\n",
              "2        -5.0  38263\n",
              "3        -2.0  35676\n",
              "4        -1.0  32226\n",
              "..        ...    ...\n",
              "545     426.0      1\n",
              "546     -62.0      1\n",
              "547     421.0      1\n",
              "548    -102.0      1\n",
              "549     410.0      1\n",
              "\n",
              "[550 rows x 2 columns]"
            ]
          },
          "execution_count": 93,
          "metadata": {},
          "output_type": "execute_result"
        }
      ],
      "source": [
        "# Departure Delay Time\n",
        "\n",
        "air_sub_df.DepDelay.value_counts().to_frame().reset_index().rename(columns={'index':'DepDelay','DepDelay':'count'})"
      ]
    },
    {
      "cell_type": "markdown",
      "id": "dd9259b6",
      "metadata": {
        "id": "dd9259b6"
      },
      "source": [
        "Let's plot a scatter plot to examine the possibility of a linear relationship between arrival and departure delays"
      ]
    },
    {
      "cell_type": "code",
      "execution_count": null,
      "id": "b694db1d",
      "metadata": {
        "id": "b694db1d",
        "outputId": "849b7dc1-dc7b-477b-8f4c-c213b81003e4"
      },
      "outputs": [
        {
          "data": {
            "image/png": "[encoded data removed]",
            "text/plain": [
              "<Figure size 1080x648 with 1 Axes>"
            ]
          },
          "metadata": {
            "needs_background": "light"
          },
          "output_type": "display_data"
        }
      ],
      "source": [
        "plt.subplots(figsize = (15,9))\n",
        "sns.scatterplot(y = 'ArrDelay', x = 'DepDelay', data = air_sub_df, hue = 'UniqueCarrier')\n",
        "plt.title(\"Scatterplot between Departure Delay time and Arrival Delay Time\")\n",
        "plt.xlabel(\"Departure Delay time in minutes\")\n",
        "plt.ylabel(\"Arrival Delay time in minutes\");"
      ]
    },
    {
      "cell_type": "markdown",
      "id": "cca88bec",
      "metadata": {
        "id": "cca88bec"
      },
      "source": [
        "As expected there is a strong correlation between Departure delay time and arrival delay time. It almost looks linear. For the purposes of this analysis negative delay times are assumed to mean the aircraft left earlier than its scheduled time. It's ridiculous to think there are delay times to the tune of 1200 min +, that's 20 hours straight. However not unimaginable. Most observations though are less than 250 minutes in"
      ]
    },
    {
      "cell_type": "markdown",
      "id": "4f9da7be",
      "metadata": {
        "id": "4f9da7be"
      },
      "source": [
        "### Save and upload your notebook\n",
        "Whether you're running this Jupyter notebook online or on your computer, it's essential to save your work from time to time. You can continue working on a saved notebook later or share it with friends and colleagues to let them execute your code. Jovian offers an easy way of saving and sharing your Jupyter notebooks online.\n",
        "\n"
      ]
    },
    {
      "cell_type": "code",
      "execution_count": null,
      "id": "6637155f",
      "metadata": {
        "id": "6637155f"
      },
      "outputs": [],
      "source": [
        "import jovian"
      ]
    },
    {
      "cell_type": "code",
      "execution_count": null,
      "id": "d435054a",
      "metadata": {
        "id": "d435054a",
        "outputId": "0f33db92-630a-4deb-ca8c-b533a1e19880"
      },
      "outputs": [
        {
          "data": {
            "application/javascript": [
              "window.require && require([\"base/js/namespace\"],function(Jupyter){Jupyter.notebook.save_checkpoint()})"
            ],
            "text/plain": [
              "<IPython.core.display.Javascript object>"
            ]
          },
          "metadata": {},
          "output_type": "display_data"
        },
        {
          "name": "stdout",
          "output_type": "stream",
          "text": [
            "[jovian] Updating notebook \"mitchell-odili/commercial-air-travel-analysis\" on https://jovian.ai/\u001b[0m\n",
            "[jovian] Committed successfully! https://jovian.ai/mitchell-odili/commercial-air-travel-analysis\u001b[0m\n"
          ]
        },
        {
          "data": {
            "text/plain": [
              "'https://jovian.ai/mitchell-odili/commercial-air-travel-analysis'"
            ]
          },
          "execution_count": 96,
          "metadata": {},
          "output_type": "execute_result"
        }
      ],
      "source": [
        "# Execute this to save new versions of the notebook\n",
        "jovian.commit(project=\"commercial-air-travel-analysis\")"
      ]
    },
    {
      "cell_type": "markdown",
      "id": "9b2d1bc7",
      "metadata": {
        "id": "9b2d1bc7"
      },
      "source": [
        "### Inferences and Conclusions\n",
        "Based off the anaysis we have done we can see things. Outlined hereafter\n",
        "- Commercial air travel from San Fransisco International Airport is seasonal with business peaking around July and September (probably summer) and flight numbers growing 2005 to 2008\n",
        "- There is a mix of long and short flights granting a bimodal dataset with most flights taking about 60 minutes and another set of flights taking about 300 minutes\n",
        "- Flights from SFO end up in 73 different destinations with Los Angelos International Airport (LAX) as the top most destination taking up 8% of the overall flights between 2005 and 2008. The top 20 destinations make 63.86% of the overall flights from SFO\n",
        "- Most of the flight observations range between 337 miles (25th percentile) and 2000 miles (75th percentile) with outliers that go as low as 11 miles and higher than 2500 miles. \n",
        "- The Commercial airtravel space is dominated by 3 carriers namely\n",
        "    - United Airlines Inc - 32.81% share\n",
        "    - Skywest Airlines Inc - 29.56% share\n",
        "    - American Airlines Inc - 9.30% share\n",
        "    \n",
        "making up 71.67% of all flights leaving San Francisco International Airport\n",
        "- And lastly as expected there is a strong correlation between Departure delay time and arrival delay time."
      ]
    },
    {
      "cell_type": "markdown",
      "id": "21261c62",
      "metadata": {
        "id": "21261c62"
      },
      "source": [
        "### Exercises\n",
        "There's a wealth of information to be discovered using this data, and we've barely scratched the surface. Here are some ideas for further exploration:\n",
        "\n",
        "- Conduct the analysis of destinations as served by different carriers\n",
        "- Explore the delay times against the different carriers - see if some flights caught up with the lost time mid air\n",
        "- Prepare analysis of the taxi volumes in and out SFO\n",
        "- Prepare the analysis of the variables we dropped e.g. CarrierDelay, WeatherDelay, NASDelay, SecurityDelay, LateAircraftDelay \n",
        "- Compare the results with the previous years and identify interesting trends"
      ]
    },
    {
      "cell_type": "markdown",
      "id": "781f1cc6",
      "metadata": {
        "id": "781f1cc6"
      },
      "source": [
        "### References and Future Work\n",
        "Check out the following resources to learn more about the dataset and tools used in this notebook:\n",
        "\n",
        "- UC Berkeley, Department of Statistics and D-Lab; Data presented by Chris Paciorek: https://github.com/berkeley-scf/r-bootcamp-2016/tree/master/data.\n",
        "- Pandas user guide: https://pandas.pydata.org/docs/user_guide/index.html\n",
        "- Matplotlib user guide: https://matplotlib.org/3.3.1/users/index.html\n",
        "- Seaborn user guide & tutorial: https://seaborn.pydata.org/tutorial.html\n",
        "- opendatasets Python library: https://github.com/JovianML/opendatasets"
      ]
    },
    {
      "cell_type": "markdown",
      "id": "388c0d08",
      "metadata": {
        "id": "388c0d08"
      },
      "source": [
        "### Save and upload your notebook\n",
        "Whether you're running this Jupyter notebook online or on your computer, it's essential to save your work from time to time. You can continue working on a saved notebook later or share it with friends and colleagues to let them execute your code. Jovian offers an easy way of saving and sharing your Jupyter notebooks online.\n",
        "\n"
      ]
    },
    {
      "cell_type": "code",
      "execution_count": null,
      "id": "83700cc9",
      "metadata": {
        "id": "83700cc9"
      },
      "outputs": [],
      "source": [
        "import jovian"
      ]
    },
    {
      "cell_type": "code",
      "execution_count": null,
      "id": "4a02f47d",
      "metadata": {
        "id": "4a02f47d",
        "outputId": "f2b7087c-11f6-45ef-c9cb-e227c42efb09"
      },
      "outputs": [
        {
          "data": {
            "application/javascript": [
              "window.require && require([\"base/js/namespace\"],function(Jupyter){Jupyter.notebook.save_checkpoint()})"
            ],
            "text/plain": [
              "<IPython.core.display.Javascript object>"
            ]
          },
          "metadata": {},
          "output_type": "display_data"
        }
      ],
      "source": [
        "# Execute this to save new versions of the notebook\n",
        "jovian.commit(project=\"commercial-air-travel-analysis\")"
      ]
    },
    {
      "cell_type": "code",
      "execution_count": null,
      "id": "93c49501",
      "metadata": {
        "id": "93c49501"
      },
      "outputs": [],
      "source": [
        ""
      ]
    }
  ],
  "metadata": {
    "colab": {
      "name": "Air_Travel_Analysis.ipynb",
      "provenance": [],
      "include_colab_link": true
    },
    "kernelspec": {
      "display_name": "Python 3 (ipykernel)",
      "language": "python",
      "name": "python3"
    },
    "language_info": {
      "codemirror_mode": {
        "name": "ipython",
        "version": 3
      },
      "file_extension": ".py",
      "mimetype": "text/x-python",
      "name": "python",
      "nbconvert_exporter": "python",
      "pygments_lexer": "ipython3",
      "version": "3.8.11"
    }
  },
  "nbformat": 4,
  "nbformat_minor": 5
}